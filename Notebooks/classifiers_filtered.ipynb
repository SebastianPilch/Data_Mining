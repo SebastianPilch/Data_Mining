{
 "cells": [
  {
   "cell_type": "markdown",
   "metadata": {},
   "source": [
    "# Restaurant Review Classifiers\n",
    "\n",
    "## Overview\n",
    "This notebook demonstrates a multi-output classification model for restaurant reviews, predicting food, service, and atmosphere ratings."
   ]
  },
  {
   "cell_type": "code",
   "execution_count": 33,
   "outputs": [],
   "source": [
    "from sklearn.ensemble import RandomForestClassifier\n",
    "from sklearn.svm import SVC\n",
    "from sklearn.multioutput import MultiOutputClassifier\n",
    "from sklearn.linear_model import LogisticRegression\n",
    "from sklearn.metrics import accuracy_score, classification_report\n",
    "from sklearn.feature_extraction.text import TfidfVectorizer\n",
    "from sklearn.model_selection import train_test_split\n",
    "from sklearn.preprocessing import LabelEncoder\n",
    "import pandas as pd"
   ],
   "metadata": {
    "collapsed": false,
    "ExecuteTime": {
     "end_time": "2024-12-19T16:39:21.103539Z",
     "start_time": "2024-12-19T16:39:21.041440Z"
    }
   }
  },
  {
   "cell_type": "code",
   "execution_count": 34,
   "outputs": [],
   "source": [
    "class RestaurantReviewClassifier:\n",
    "    def __init__(self, model='logistic_regression'):\n",
    "        self.tfidf_vectorizer = TfidfVectorizer(\n",
    "            stop_words='english',\n",
    "            max_features=5000,\n",
    "            ngram_range=(1, 2)\n",
    "        )\n",
    "        self.label_encoders = {\n",
    "            'food': LabelEncoder(),\n",
    "            'service': LabelEncoder(),\n",
    "            'atmosphere': LabelEncoder()\n",
    "        }\n",
    "\n",
    "        # Initialize classifier based on input model\n",
    "        if model == 'logistic_regression':\n",
    "            base_classifier = LogisticRegression(max_iter=1000)\n",
    "        elif model == 'random_forest':\n",
    "            base_classifier = RandomForestClassifier(n_estimators=100, random_state=42)\n",
    "        elif model == 'svm':\n",
    "            base_classifier = SVC(probability=True, kernel='linear')\n",
    "        else:\n",
    "            raise ValueError(\"Model not supported. Choose from 'logistic_regression', 'random_forest', 'svm'.\")\n",
    "\n",
    "        self.classifier = MultiOutputClassifier(base_classifier)\n",
    "\n",
    "    def preprocess_data(self, df):\n",
    "        # Drop rows with NaN in text column\n",
    "        df = df.dropna(subset=['text'])\n",
    "\n",
    "        # Fill NaN in categorical columns with 'None'\n",
    "        columns = ['food', 'service', 'atmosphere']\n",
    "        for col in columns:\n",
    "            if col not in df.columns:\n",
    "                df[col] = 'None'\n",
    "            df.loc[:, col] = df[col].fillna('None')\n",
    "\n",
    "        return df\n",
    "\n",
    "    def train(self, df):\n",
    "        # Preprocess data\n",
    "        df = self.preprocess_data(df)\n",
    "\n",
    "        # Vectorize text\n",
    "        X = self.tfidf_vectorizer.fit_transform(df['text'].astype(str))\n",
    "\n",
    "        # Encode labels dynamically\n",
    "        y_dict = {}\n",
    "        for col in ['food', 'service', 'atmosphere']:\n",
    "            unique_labels = df[col].unique()\n",
    "            self.label_encoders[col].fit(unique_labels)\n",
    "            y_dict[col] = self.label_encoders[col].transform(df[col])\n",
    "\n",
    "        y = pd.DataFrame(y_dict)\n",
    "\n",
    "        # Split data\n",
    "        X_train, X_test, y_train, y_test = train_test_split(\n",
    "            X, y, test_size=0.2, random_state=42\n",
    "        )\n",
    "\n",
    "        # Train classifier\n",
    "        self.classifier.fit(X_train, y_train)\n",
    "\n",
    "        # Predict\n",
    "        y_pred = self.classifier.predict(X_test)\n",
    "\n",
    "        # Evaluate\n",
    "        print(\"\\nModel Performance Metrics:\")\n",
    "        for i, col in enumerate(['food', 'service', 'atmosphere']):\n",
    "            print(f\"\\n{col.capitalize()} Classification:\")\n",
    "            classes = self.label_encoders[col].classes_\n",
    "\n",
    "            accuracy = accuracy_score(y_test.iloc[:, i], y_pred[:, i])\n",
    "            print(f\"Accuracy: {accuracy:.2%}\")\n",
    "\n",
    "            print(classification_report(\n",
    "                y_test.iloc[:, i],\n",
    "                y_pred[:, i],\n",
    "                labels=range(len(classes)),\n",
    "                target_names=classes\n",
    "            ))\n",
    "\n",
    "    def predict(self, texts):\n",
    "        # Convert texts to strings and handle potential NaN\n",
    "        texts = [str(text) if pd.notna(text) else '' for text in texts]\n",
    "\n",
    "        # Vectorize input\n",
    "        X = self.tfidf_vectorizer.transform(texts)\n",
    "\n",
    "        # Predict\n",
    "        predictions = self.classifier.predict(X)\n",
    "\n",
    "        # Decode predictions\n",
    "        results = []\n",
    "        for pred in predictions:\n",
    "            result = {\n",
    "                col: self.label_encoders[col].inverse_transform([p])[0]\n",
    "                for col, p in zip(['food', 'service', 'atmosphere'], pred)\n",
    "            }\n",
    "            results.append(result)\n",
    "\n",
    "        return results\n"
   ],
   "metadata": {
    "collapsed": false,
    "ExecuteTime": {
     "end_time": "2024-12-19T16:39:21.128090Z",
     "start_time": "2024-12-19T16:39:21.049728Z"
    }
   }
  },
  {
   "cell_type": "code",
   "execution_count": 35,
   "outputs": [],
   "source": [
    "# Logistic Regression\n",
    "classifier_lr = RestaurantReviewClassifier(model='logistic_regression')\n",
    "\n",
    "# Random Forest\n",
    "classifier_rf = RestaurantReviewClassifier(model='random_forest')\n",
    "\n",
    "# Support Vector Machine\n",
    "classifier_svm = RestaurantReviewClassifier(model='svm')\n"
   ],
   "metadata": {
    "collapsed": false,
    "ExecuteTime": {
     "end_time": "2024-12-19T16:39:21.128692Z",
     "start_time": "2024-12-19T16:39:21.063936Z"
    }
   }
  },
  {
   "cell_type": "markdown",
   "source": [
    "### Load Data"
   ],
   "metadata": {
    "collapsed": false
   }
  },
  {
   "cell_type": "code",
   "execution_count": 36,
   "outputs": [],
   "source": [
    "df = pd.read_csv('../raw_data/random_choice_data.csv')  # Load your dataset\n"
   ],
   "metadata": {
    "collapsed": false,
    "ExecuteTime": {
     "end_time": "2024-12-19T16:43:29.086087Z",
     "start_time": "2024-12-19T16:43:29.071527Z"
    }
   }
  },
  {
   "cell_type": "markdown",
   "source": [
    "### Train using Logistic Regression"
   ],
   "metadata": {
    "collapsed": false
   }
  },
  {
   "cell_type": "code",
   "execution_count": 37,
   "outputs": [
    {
     "name": "stderr",
     "output_type": "stream",
     "text": [
      "C:\\Users\\SEBAST~1\\AppData\\Local\\Temp/ipykernel_12788/1378635224.py:35: SettingWithCopyWarning: \n",
      "A value is trying to be set on a copy of a slice from a DataFrame.\n",
      "Try using .loc[row_indexer,col_indexer] = value instead\n",
      "\n",
      "See the caveats in the documentation: https://pandas.pydata.org/pandas-docs/stable/user_guide/indexing.html#returning-a-view-versus-a-copy\n",
      "  df.loc[:, col] = df[col].fillna('None')\n"
     ]
    },
    {
     "name": "stdout",
     "output_type": "stream",
     "text": [
      "\n",
      "Model Performance Metrics:\n",
      "\n",
      "Food Classification:\n",
      "Accuracy: 93.24%\n",
      "              precision    recall  f1-score   support\n",
      "\n",
      "    Negative       0.96      0.92      0.94       470\n",
      "        None       0.96      0.95      0.95       460\n",
      "    Positive       0.85      0.93      0.89       269\n",
      "\n",
      "    accuracy                           0.93      1199\n",
      "   macro avg       0.92      0.93      0.93      1199\n",
      "weighted avg       0.93      0.93      0.93      1199\n",
      "\n",
      "\n",
      "Service Classification:\n",
      "Accuracy: 90.24%\n",
      "              precision    recall  f1-score   support\n",
      "\n",
      "    Negative       0.96      0.91      0.94       497\n",
      "        None       0.87      0.91      0.89       381\n",
      "    Positive       0.85      0.89      0.87       321\n",
      "\n",
      "    accuracy                           0.90      1199\n",
      "   macro avg       0.90      0.90      0.90      1199\n",
      "weighted avg       0.90      0.90      0.90      1199\n",
      "\n",
      "\n",
      "Atmosphere Classification:\n",
      "Accuracy: 90.66%\n",
      "              precision    recall  f1-score   support\n",
      "\n",
      "    Negative       0.98      0.94      0.96       471\n",
      "        None       0.82      0.92      0.87       348\n",
      "    Positive       0.90      0.85      0.87       380\n",
      "\n",
      "    accuracy                           0.91      1199\n",
      "   macro avg       0.90      0.90      0.90      1199\n",
      "weighted avg       0.91      0.91      0.91      1199\n",
      "\n"
     ]
    }
   ],
   "source": [
    "# Train using Logistic Regression\n",
    "classifier_lr.train(df)"
   ],
   "metadata": {
    "collapsed": false,
    "ExecuteTime": {
     "end_time": "2024-12-19T16:43:31.290906Z",
     "start_time": "2024-12-19T16:43:31.165850Z"
    }
   }
  },
  {
   "cell_type": "markdown",
   "source": [
    "### Train using Random Forest"
   ],
   "metadata": {
    "collapsed": false
   }
  },
  {
   "cell_type": "code",
   "execution_count": 38,
   "outputs": [
    {
     "name": "stderr",
     "output_type": "stream",
     "text": [
      "C:\\Users\\SEBAST~1\\AppData\\Local\\Temp/ipykernel_12788/1378635224.py:35: SettingWithCopyWarning: \n",
      "A value is trying to be set on a copy of a slice from a DataFrame.\n",
      "Try using .loc[row_indexer,col_indexer] = value instead\n",
      "\n",
      "See the caveats in the documentation: https://pandas.pydata.org/pandas-docs/stable/user_guide/indexing.html#returning-a-view-versus-a-copy\n",
      "  df.loc[:, col] = df[col].fillna('None')\n"
     ]
    },
    {
     "name": "stdout",
     "output_type": "stream",
     "text": [
      "\n",
      "Model Performance Metrics:\n",
      "\n",
      "Food Classification:\n",
      "Accuracy: 92.99%\n",
      "              precision    recall  f1-score   support\n",
      "\n",
      "    Negative       0.99      0.89      0.93       470\n",
      "        None       0.99      0.94      0.96       460\n",
      "    Positive       0.78      0.99      0.87       269\n",
      "\n",
      "    accuracy                           0.93      1199\n",
      "   macro avg       0.92      0.94      0.92      1199\n",
      "weighted avg       0.94      0.93      0.93      1199\n",
      "\n",
      "\n",
      "Service Classification:\n",
      "Accuracy: 88.57%\n",
      "              precision    recall  f1-score   support\n",
      "\n",
      "    Negative       0.97      0.87      0.92       497\n",
      "        None       0.86      0.91      0.89       381\n",
      "    Positive       0.81      0.88      0.84       321\n",
      "\n",
      "    accuracy                           0.89      1199\n",
      "   macro avg       0.88      0.89      0.88      1199\n",
      "weighted avg       0.89      0.89      0.89      1199\n",
      "\n",
      "\n",
      "Atmosphere Classification:\n",
      "Accuracy: 87.66%\n",
      "              precision    recall  f1-score   support\n",
      "\n",
      "    Negative       0.97      0.94      0.96       471\n",
      "        None       0.76      0.91      0.83       348\n",
      "    Positive       0.89      0.77      0.83       380\n",
      "\n",
      "    accuracy                           0.88      1199\n",
      "   macro avg       0.87      0.87      0.87      1199\n",
      "weighted avg       0.88      0.88      0.88      1199\n",
      "\n"
     ]
    }
   ],
   "source": [
    "classifier_rf.train(df)"
   ],
   "metadata": {
    "collapsed": false,
    "ExecuteTime": {
     "end_time": "2024-12-19T16:44:00.416588Z",
     "start_time": "2024-12-19T16:43:58.967399Z"
    }
   }
  },
  {
   "cell_type": "markdown",
   "source": [
    "### Train using SVM"
   ],
   "metadata": {
    "collapsed": false
   }
  },
  {
   "cell_type": "code",
   "execution_count": 39,
   "outputs": [
    {
     "name": "stderr",
     "output_type": "stream",
     "text": [
      "C:\\Users\\SEBAST~1\\AppData\\Local\\Temp/ipykernel_12788/1378635224.py:35: SettingWithCopyWarning: \n",
      "A value is trying to be set on a copy of a slice from a DataFrame.\n",
      "Try using .loc[row_indexer,col_indexer] = value instead\n",
      "\n",
      "See the caveats in the documentation: https://pandas.pydata.org/pandas-docs/stable/user_guide/indexing.html#returning-a-view-versus-a-copy\n",
      "  df.loc[:, col] = df[col].fillna('None')\n"
     ]
    },
    {
     "name": "stdout",
     "output_type": "stream",
     "text": [
      "\n",
      "Model Performance Metrics:\n",
      "\n",
      "Food Classification:\n",
      "Accuracy: 94.08%\n",
      "              precision    recall  f1-score   support\n",
      "\n",
      "    Negative       0.96      0.93      0.95       470\n",
      "        None       0.97      0.95      0.96       460\n",
      "    Positive       0.86      0.94      0.90       269\n",
      "\n",
      "    accuracy                           0.94      1199\n",
      "   macro avg       0.93      0.94      0.94      1199\n",
      "weighted avg       0.94      0.94      0.94      1199\n",
      "\n",
      "\n",
      "Service Classification:\n",
      "Accuracy: 90.74%\n",
      "              precision    recall  f1-score   support\n",
      "\n",
      "    Negative       0.97      0.92      0.95       497\n",
      "        None       0.86      0.91      0.88       381\n",
      "    Positive       0.87      0.88      0.87       321\n",
      "\n",
      "    accuracy                           0.91      1199\n",
      "   macro avg       0.90      0.90      0.90      1199\n",
      "weighted avg       0.91      0.91      0.91      1199\n",
      "\n",
      "\n",
      "Atmosphere Classification:\n",
      "Accuracy: 90.99%\n",
      "              precision    recall  f1-score   support\n",
      "\n",
      "    Negative       0.98      0.95      0.97       471\n",
      "        None       0.81      0.94      0.87       348\n",
      "    Positive       0.92      0.84      0.88       380\n",
      "\n",
      "    accuracy                           0.91      1199\n",
      "   macro avg       0.91      0.91      0.91      1199\n",
      "weighted avg       0.92      0.91      0.91      1199\n",
      "\n"
     ]
    }
   ],
   "source": [
    "classifier_svm.train(df)\n",
    "\n",
    "\n"
   ],
   "metadata": {
    "collapsed": false
   }
  },
  {
   "cell_type": "markdown",
   "source": [
    "### Predict using Logistic Regression\n",
    "\n"
   ],
   "metadata": {
    "collapsed": false
   }
  },
  {
   "cell_type": "code",
   "execution_count": 40,
   "outputs": [
    {
     "name": "stdout",
     "output_type": "stream",
     "text": [
      "Żenada ulotki zostawione w pensjonacie ale można sobie do nich dzwonić. Po kilkunastu wykonanych połączeniach i braku odzewu, udaliśmy się tam osobiście bo mieliśmy 750m. Po dotarciu na miejsce dodam że to była niedziela lokal Restro &…\n",
      "Logistic Regression Predictions: {'food': 'None', 'service': 'None', 'atmosphere': 'Positive'}\n",
      "\n",
      "\n",
      "Jedzenie okropne kebab się rozlatuje. Zamawiasz kebaba i dostajesz i tak tego z menu wszystko wygląda okropnie. Obsługa niemiła i wredna. Czas oczekiwania również długi.\n",
      "Logistic Regression Predictions: {'food': 'Negative', 'service': 'Negative', 'atmosphere': 'None'}\n",
      "\n",
      "\n",
      "Dostałem kebab, który został zamówiony na wskazany adres.  Kebab to jedna wielka porażka tłuszczowa.  Nie polecam nikomu, pizza przykleiła się do tektury z opakowania.\n",
      "Logistic Regression Predictions: {'food': 'Positive', 'service': 'None', 'atmosphere': 'None'}\n",
      "\n",
      "\n",
      "Jeśli jesteś miłośnikiem dobrych zartów, to ta pizzeria to jest właśnie to. Boczek przykleja się do pudełka niczym cygan do zasiłku. Szynka konserwowa złapana na promocji pięknie przyozdabia te wymiociny. Cena 50 złotych myślę, że lekko…\n",
      "Logistic Regression Predictions: {'food': 'Negative', 'service': 'None', 'atmosphere': 'None'}\n",
      "\n",
      "\n",
      "Nie rozumiem negatywnych opini. Poza sezonem pizza zrobiona od momentu zamówienia do podania w 10minut, czyli tyle ile trzeba. Ciasto lekkie, przyjemne składniki świeże. Jak dla mnie i mojej rodziny duży plus. Sałatka Cezar świeża, choć…\n",
      "Logistic Regression Predictions: {'food': 'Positive', 'service': 'None', 'atmosphere': 'None'}\n",
      "\n",
      "\n"
     ]
    }
   ],
   "source": [
    "# load test_data_reviews\n",
    "test_data = pd.read_csv('../test_data_reviews/2_4_review.csv')    \n",
    "\n",
    "# Predict using Logistic Regression\n",
    "predictions_lr = classifier_lr.predict(test_data['text'][0:5])\n",
    "#print review text and predicted ratings\n",
    "for i in range(5):\n",
    "    print(test_data['wiI7pd'][i])\n",
    "    print(\"Logistic Regression Predictions:\", predictions_lr[i])\n",
    "    print(\"\\n\")"
   ],
   "metadata": {
    "collapsed": false,
    "ExecuteTime": {
     "end_time": "2024-12-19T16:40:36.485765Z",
     "start_time": "2024-12-19T16:40:36.470282Z"
    }
   }
  },
  {
   "cell_type": "markdown",
   "source": [
    "### Predict using Random Forest"
   ],
   "metadata": {
    "collapsed": false
   }
  },
  {
   "cell_type": "code",
   "execution_count": 41,
   "outputs": [
    {
     "name": "stdout",
     "output_type": "stream",
     "text": [
      "Żenada ulotki zostawione w pensjonacie ale można sobie do nich dzwonić. Po kilkunastu wykonanych połączeniach i braku odzewu, udaliśmy się tam osobiście bo mieliśmy 750m. Po dotarciu na miejsce dodam że to była niedziela lokal Restro &…\n",
      "Random Forest Predictions: {'food': 'None', 'service': 'None', 'atmosphere': 'Positive'}\n",
      "\n",
      "\n",
      "Jedzenie okropne kebab się rozlatuje. Zamawiasz kebaba i dostajesz i tak tego z menu wszystko wygląda okropnie. Obsługa niemiła i wredna. Czas oczekiwania również długi.\n",
      "Random Forest Predictions: {'food': 'None', 'service': 'Negative', 'atmosphere': 'None'}\n",
      "\n",
      "\n",
      "Dostałem kebab, który został zamówiony na wskazany adres.  Kebab to jedna wielka porażka tłuszczowa.  Nie polecam nikomu, pizza przykleiła się do tektury z opakowania.\n",
      "Random Forest Predictions: {'food': 'Positive', 'service': 'None', 'atmosphere': 'None'}\n",
      "\n",
      "\n",
      "Jeśli jesteś miłośnikiem dobrych zartów, to ta pizzeria to jest właśnie to. Boczek przykleja się do pudełka niczym cygan do zasiłku. Szynka konserwowa złapana na promocji pięknie przyozdabia te wymiociny. Cena 50 złotych myślę, że lekko…\n",
      "Random Forest Predictions: {'food': 'Positive', 'service': 'None', 'atmosphere': 'None'}\n",
      "\n",
      "\n",
      "Nie rozumiem negatywnych opini. Poza sezonem pizza zrobiona od momentu zamówienia do podania w 10minut, czyli tyle ile trzeba. Ciasto lekkie, przyjemne składniki świeże. Jak dla mnie i mojej rodziny duży plus. Sałatka Cezar świeża, choć…\n",
      "Random Forest Predictions: {'food': 'Negative', 'service': 'Positive', 'atmosphere': 'None'}\n",
      "\n",
      "\n"
     ]
    }
   ],
   "source": [
    "# Predict using Random Forest\n",
    "predictions_rf = classifier_rf.predict(test_data['text'][0:5])\n",
    "#print review text and predicted ratings\n",
    "for i in range(5):\n",
    "    print(test_data['wiI7pd'][i])\n",
    "    print(\"Random Forest Predictions:\", predictions_rf[i])\n",
    "    print(\"\\n\")"
   ],
   "metadata": {
    "collapsed": false,
    "ExecuteTime": {
     "end_time": "2024-12-19T16:40:37.204252Z",
     "start_time": "2024-12-19T16:40:37.189932Z"
    }
   }
  },
  {
   "cell_type": "markdown",
   "source": [
    "### Predict using SVM"
   ],
   "metadata": {
    "collapsed": false
   }
  },
  {
   "cell_type": "code",
   "execution_count": 42,
   "outputs": [
    {
     "name": "stdout",
     "output_type": "stream",
     "text": [
      "Żenada ulotki zostawione w pensjonacie ale można sobie do nich dzwonić. Po kilkunastu wykonanych połączeniach i braku odzewu, udaliśmy się tam osobiście bo mieliśmy 750m. Po dotarciu na miejsce dodam że to była niedziela lokal Restro &…\n",
      "SVM Predictions: {'food': 'None', 'service': 'None', 'atmosphere': 'Positive'}\n",
      "\n",
      "\n",
      "Jedzenie okropne kebab się rozlatuje. Zamawiasz kebaba i dostajesz i tak tego z menu wszystko wygląda okropnie. Obsługa niemiła i wredna. Czas oczekiwania również długi.\n",
      "SVM Predictions: {'food': 'Negative', 'service': 'Negative', 'atmosphere': 'None'}\n",
      "\n",
      "\n",
      "Dostałem kebab, który został zamówiony na wskazany adres.  Kebab to jedna wielka porażka tłuszczowa.  Nie polecam nikomu, pizza przykleiła się do tektury z opakowania.\n",
      "SVM Predictions: {'food': 'Positive', 'service': 'None', 'atmosphere': 'None'}\n",
      "\n",
      "\n",
      "Jeśli jesteś miłośnikiem dobrych zartów, to ta pizzeria to jest właśnie to. Boczek przykleja się do pudełka niczym cygan do zasiłku. Szynka konserwowa złapana na promocji pięknie przyozdabia te wymiociny. Cena 50 złotych myślę, że lekko…\n",
      "SVM Predictions: {'food': 'Negative', 'service': 'None', 'atmosphere': 'None'}\n",
      "\n",
      "\n",
      "Nie rozumiem negatywnych opini. Poza sezonem pizza zrobiona od momentu zamówienia do podania w 10minut, czyli tyle ile trzeba. Ciasto lekkie, przyjemne składniki świeże. Jak dla mnie i mojej rodziny duży plus. Sałatka Cezar świeża, choć…\n",
      "SVM Predictions: {'food': 'Positive', 'service': 'Negative', 'atmosphere': 'None'}\n",
      "\n",
      "\n"
     ]
    }
   ],
   "source": [
    "# Predict using SVM\n",
    "predictions_svm = classifier_svm.predict(test_data['text'][0:5])\n",
    "#print review text and predicted ratings\n",
    "for i in range(5):\n",
    "    print(test_data['wiI7pd'][i])\n",
    "    print(\"SVM Predictions:\", predictions_svm[i])\n",
    "    print(\"\\n\")\n",
    "\n"
   ],
   "metadata": {
    "collapsed": false,
    "ExecuteTime": {
     "end_time": "2024-12-19T16:40:37.580008Z",
     "start_time": "2024-12-19T16:40:37.562949Z"
    },
    "pycharm": {
     "name": "#%%\n"
    }
   }
  },
  {
   "cell_type": "markdown",
   "source": [
    "### Rating Function"
   ],
   "metadata": {
    "collapsed": false
   }
  },
  {
   "cell_type": "code",
   "execution_count": 61,
   "outputs": [
    {
     "name": "stdout",
     "output_type": "stream",
     "text": [
      "              File           Classifier  Food_Rating  Service_Rating  \\\n",
      "0   2_4_review.csv  Logistic Regression       2.8226          2.8231   \n",
      "1   2_4_review.csv        Random Forest       4.3038          3.0763   \n",
      "2   2_4_review.csv                  SVM       2.9240          2.7848   \n",
      "3   2_9_review.csv  Logistic Regression       3.1997          3.0646   \n",
      "4   2_9_review.csv        Random Forest       4.3160          3.3096   \n",
      "5   2_9_review.csv                  SVM       3.2000          2.9354   \n",
      "6   3_4_review.csv  Logistic Regression       3.6293          3.3828   \n",
      "7   3_4_review.csv        Random Forest       4.2962          3.5183   \n",
      "8   3_4_review.csv                  SVM       3.6790          3.3086   \n",
      "9   4_7_review.csv  Logistic Regression       4.5320          4.2537   \n",
      "10  4_7_review.csv        Random Forest       4.8162          4.1807   \n",
      "11  4_7_review.csv                  SVM       4.6717          4.1364   \n",
      "\n",
      "    Atmosphere_Rating  Averge_Rating  \n",
      "0              3.0252            2.9  \n",
      "1              3.1140            3.5  \n",
      "2              3.0634            2.9  \n",
      "3              3.3290            3.2  \n",
      "4              3.2904            3.6  \n",
      "5              3.3226            3.2  \n",
      "6              3.4198            3.5  \n",
      "7              3.4816            3.8  \n",
      "8              3.3456            3.4  \n",
      "9              3.9026            4.2  \n",
      "10             3.5682            4.2  \n",
      "11             3.8748            4.2  \n"
     ]
    }
   ],
   "source": [
    "def Final_Rating(reviews_path,classifier):\n",
    "    test_data = pd.read_csv(reviews_path)\n",
    "    # print(\"\\n\")\n",
    "    # print(len(test_data))\n",
    "    predictions = classifier.predict(test_data['text'])\n",
    "\n",
    "    total_amount_of_predicions = len(predictions)\n",
    "    Ratings = \\\n",
    "        {\n",
    "            \"food\":{\n",
    "                'None':0 ,'Positive':0,'Negative':0\n",
    "            },\n",
    "            \"service\":{\n",
    "                'None':0 ,'Positive':0,'Negative':0\n",
    "            },\n",
    "            \"atmosphere\":{\n",
    "                'None':0 ,'Positive':0,'Negative':0\n",
    "            }\n",
    "        }\n",
    "    # print(Ratings)\n",
    "\n",
    "    for i in predictions:\n",
    "        for aspect in [\"food\",\"service\",\"atmosphere\"]:\n",
    "            Ratings[aspect][i[aspect]] += 1\n",
    "\n",
    "    for aspect in Ratings:\n",
    "        for rate in Ratings[aspect]:\n",
    "            Ratings[aspect][rate] =  round(Ratings[aspect][rate]/total_amount_of_predicions*100,2)\n",
    "\n",
    "    food_final_score = (Ratings[\"food\"]['None'] * 3 + Ratings[\"food\"]['Positive'] * 5 + Ratings[\"food\"]['Negative'] * 1) / 100\n",
    "    service_final_score = (Ratings[\"service\"]['None'] * 3 + Ratings[\"service\"]['Positive'] * 5 + Ratings[\"service\"]['Negative'] * 1) / 100\n",
    "    atmosphere_final_score = (Ratings[\"atmosphere\"]['None'] * 3 + Ratings[\"atmosphere\"]['Positive'] * 5 + Ratings[\"atmosphere\"]['Negative'] * 1) / 100\n",
    "\n",
    "    return food_final_score,service_final_score,atmosphere_final_score,round((food_final_score+service_final_score+atmosphere_final_score)/3,1)\n",
    "\n",
    "\n",
    "    # print(\"Food \", round(food_final_score,2))\n",
    "    # print(\"Service \",round(service_final_score,2))\n",
    "    # print(\"Atmosphere \",round(atmosphere_final_score,2))\n",
    "    # print(\"Averge\", round((food_final_score+service_final_score+atmosphere_final_score)/3,1))\n",
    "\n",
    "#\n",
    "# print(\"Rating 2,4  :\")\n",
    "# Final_Rating('../test_data_reviews/2_4_review.csv',classifier_lr)\n",
    "# Final_Rating('../test_data_reviews/2_4_review.csv',classifier_rf)\n",
    "# Final_Rating('../test_data_reviews/2_4_review.csv',classifier_svm)\n",
    "#\n",
    "# print(\"\\n\\nRating 2,9  :\")\n",
    "# Final_Rating('../test_data_reviews/2_9_review.csv',classifier_lr)\n",
    "# Final_Rating('../test_data_reviews/2_9_review.csv',classifier_rf)\n",
    "# Final_Rating('../test_data_reviews/2_9_review.csv',classifier_svm)\n",
    "#\n",
    "# print(\"\\n\\nRating 3,4  :\")\n",
    "# Final_Rating('../test_data_reviews/3_4_review.csv',classifier_lr)\n",
    "# Final_Rating('../test_data_reviews/3_4_review.csv',classifier_rf)\n",
    "# Final_Rating('../test_data_reviews/3_4_review.csv',classifier_svm)\n",
    "#\n",
    "# print(\"\\n\\nRating 4,7  :\")\n",
    "# Final_Rating('../test_data_reviews/4_7_review.csv',classifier_lr)\n",
    "# Final_Rating('../test_data_reviews/4_7_review.csv',classifier_rf)\n",
    "# Final_Rating('../test_data_reviews/4_7_review.csv',classifier_svm)\n",
    "\n",
    "results = []\n",
    "\n",
    "files = ['../test_data_reviews/2_4_review.csv',\n",
    "         '../test_data_reviews/2_9_review.csv',\n",
    "         '../test_data_reviews/3_4_review.csv',\n",
    "         '../test_data_reviews/4_7_review.csv']\n",
    "\n",
    "classifiers = {'Logistic Regression': classifier_lr,\n",
    "               'Random Forest': classifier_rf,\n",
    "               'SVM': classifier_svm}\n",
    "for file in files:\n",
    "    file_name = file.split('/')[-1]\n",
    "    for name, clf in classifiers.items():\n",
    "        rating = Final_Rating(file, clf)\n",
    "        results.append({'File': file_name, 'Classifier': name, 'Food_Rating': rating[0], 'Service_Rating': rating[1],\n",
    "                        'Atmosphere_Rating': rating[2], 'Averge_Rating': rating[3]})\n",
    "\n",
    "df = pd.DataFrame(results)\n",
    "\n",
    "print(df)"
   ],
   "metadata": {
    "collapsed": false,
    "pycharm": {
     "name": "#%%\n"
    }
   }
  }
 ],
 "metadata": {
  "kernelspec": {
   "display_name": "Python 3",
   "language": "python",
   "name": "python3"
  },
  "language_info": {
   "codemirror_mode": {
    "name": "ipython",
    "version": 3
   },
   "file_extension": ".py",
   "mimetype": "text/x-python",
   "name": "python",
   "nbconvert_exporter": "python",
   "pygments_lexer": "ipython3",
   "version": "3.8.5"
  }
 },
 "nbformat": 4,
 "nbformat_minor": 4
}