{
 "cells": [
  {
   "cell_type": "markdown",
   "metadata": {},
   "source": [
    "# Restaurant Review Classifiers\n",
    "\n",
    "## Overview\n",
    "This notebook demonstrates a multi-output classification model for restaurant reviews, predicting food, service, and atmosphere ratings."
   ]
  },
  {
   "cell_type": "code",
   "execution_count": 8,
   "outputs": [],
   "source": [
    "from sklearn.ensemble import RandomForestClassifier\n",
    "from sklearn.svm import SVC\n",
    "from sklearn.multioutput import MultiOutputClassifier\n",
    "from sklearn.linear_model import LogisticRegression\n",
    "from sklearn.metrics import accuracy_score, classification_report\n",
    "from sklearn.feature_extraction.text import TfidfVectorizer\n",
    "from sklearn.model_selection import train_test_split\n",
    "from sklearn.preprocessing import LabelEncoder\n",
    "import pandas as pd"
   ],
   "metadata": {
    "collapsed": false,
    "ExecuteTime": {
     "end_time": "2024-12-19T16:39:21.103539Z",
     "start_time": "2024-12-19T16:39:21.041440Z"
    }
   }
  },
  {
   "cell_type": "code",
   "execution_count": 9,
   "outputs": [],
   "source": [
    "class RestaurantReviewClassifier:\n",
    "    def __init__(self, model='logistic_regression'):\n",
    "        self.tfidf_vectorizer = TfidfVectorizer(\n",
    "            stop_words='english',\n",
    "            max_features=5000,\n",
    "            ngram_range=(1, 2)\n",
    "        )\n",
    "        self.label_encoders = {\n",
    "            'food': LabelEncoder(),\n",
    "            'service': LabelEncoder(),\n",
    "            'atmosphere': LabelEncoder()\n",
    "        }\n",
    "\n",
    "        # Initialize classifier based on input model\n",
    "        if model == 'logistic_regression':\n",
    "            base_classifier = LogisticRegression(max_iter=1000)\n",
    "        elif model == 'random_forest':\n",
    "            base_classifier = RandomForestClassifier(n_estimators=100, random_state=42)\n",
    "        elif model == 'svm':\n",
    "            base_classifier = SVC(probability=True, kernel='linear')\n",
    "        else:\n",
    "            raise ValueError(\"Model not supported. Choose from 'logistic_regression', 'random_forest', 'svm'.\")\n",
    "\n",
    "        self.classifier = MultiOutputClassifier(base_classifier)\n",
    "\n",
    "    def preprocess_data(self, df):\n",
    "        # Drop rows with NaN in text column\n",
    "        df = df.dropna(subset=['text'])\n",
    "\n",
    "        # Fill NaN in categorical columns with 'None'\n",
    "        columns = ['food', 'service', 'atmosphere']\n",
    "        for col in columns:\n",
    "            if col not in df.columns:\n",
    "                df[col] = 'None'\n",
    "            df.loc[:, col] = df[col].fillna('None')\n",
    "\n",
    "        return df\n",
    "\n",
    "    def train(self, df):\n",
    "        # Preprocess data\n",
    "        df = self.preprocess_data(df)\n",
    "\n",
    "        # Vectorize text\n",
    "        X = self.tfidf_vectorizer.fit_transform(df['text'].astype(str))\n",
    "\n",
    "        # Encode labels dynamically\n",
    "        y_dict = {}\n",
    "        for col in ['food', 'service', 'atmosphere']:\n",
    "            unique_labels = df[col].unique()\n",
    "            self.label_encoders[col].fit(unique_labels)\n",
    "            y_dict[col] = self.label_encoders[col].transform(df[col])\n",
    "\n",
    "        y = pd.DataFrame(y_dict)\n",
    "\n",
    "        # Split data\n",
    "        X_train, X_test, y_train, y_test = train_test_split(\n",
    "            X, y, test_size=0.2, random_state=42\n",
    "        )\n",
    "\n",
    "        # Train classifier\n",
    "        self.classifier.fit(X_train, y_train)\n",
    "\n",
    "        # Predict\n",
    "        y_pred = self.classifier.predict(X_test)\n",
    "\n",
    "        # Evaluate\n",
    "        print(\"\\nModel Performance Metrics:\")\n",
    "        for i, col in enumerate(['food', 'service', 'atmosphere']):\n",
    "            print(f\"\\n{col.capitalize()} Classification:\")\n",
    "            classes = self.label_encoders[col].classes_\n",
    "\n",
    "            accuracy = accuracy_score(y_test.iloc[:, i], y_pred[:, i])\n",
    "            print(f\"Accuracy: {accuracy:.2%}\")\n",
    "\n",
    "            print(classification_report(\n",
    "                y_test.iloc[:, i],\n",
    "                y_pred[:, i],\n",
    "                labels=range(len(classes)),\n",
    "                target_names=classes\n",
    "            ))\n",
    "\n",
    "    def predict(self, texts):\n",
    "        # Convert texts to strings and handle potential NaN\n",
    "        texts = [str(text) if pd.notna(text) else '' for text in texts]\n",
    "\n",
    "        # Vectorize input\n",
    "        X = self.tfidf_vectorizer.transform(texts)\n",
    "\n",
    "        # Predict\n",
    "        predictions = self.classifier.predict(X)\n",
    "\n",
    "        # Decode predictions\n",
    "        results = []\n",
    "        for pred in predictions:\n",
    "            result = {\n",
    "                col: self.label_encoders[col].inverse_transform([p])[0]\n",
    "                for col, p in zip(['food', 'service', 'atmosphere'], pred)\n",
    "            }\n",
    "            results.append(result)\n",
    "\n",
    "        return results\n"
   ],
   "metadata": {
    "collapsed": false,
    "ExecuteTime": {
     "end_time": "2024-12-19T16:39:21.128090Z",
     "start_time": "2024-12-19T16:39:21.049728Z"
    }
   }
  },
  {
   "cell_type": "code",
   "execution_count": 10,
   "outputs": [],
   "source": [
    "# Logistic Regression\n",
    "classifier_lr = RestaurantReviewClassifier(model='logistic_regression')\n",
    "\n",
    "# Random Forest\n",
    "classifier_rf = RestaurantReviewClassifier(model='random_forest')\n",
    "\n",
    "# Support Vector Machine\n",
    "classifier_svm = RestaurantReviewClassifier(model='svm')\n"
   ],
   "metadata": {
    "collapsed": false,
    "ExecuteTime": {
     "end_time": "2024-12-19T16:39:21.128692Z",
     "start_time": "2024-12-19T16:39:21.063936Z"
    }
   }
  },
  {
   "cell_type": "markdown",
   "source": [
    "### Load Data"
   ],
   "metadata": {
    "collapsed": false
   }
  },
  {
   "cell_type": "code",
   "execution_count": 19,
   "outputs": [],
   "source": [
    "df = pd.read_csv('../raw_data/filtered_data.csv')  # Load your dataset\n"
   ],
   "metadata": {
    "collapsed": false,
    "ExecuteTime": {
     "end_time": "2024-12-19T16:43:29.086087Z",
     "start_time": "2024-12-19T16:43:29.071527Z"
    }
   }
  },
  {
   "cell_type": "markdown",
   "source": [
    "### Train using Logistic Regression"
   ],
   "metadata": {
    "collapsed": false
   }
  },
  {
   "cell_type": "code",
   "execution_count": 20,
   "outputs": [
    {
     "name": "stdout",
     "output_type": "stream",
     "text": [
      "\n",
      "Model Performance Metrics:\n",
      "\n",
      "Food Classification:\n",
      "Accuracy: 82.12%\n",
      "              precision    recall  f1-score   support\n",
      "\n",
      "    Negative       0.95      0.53      0.68        98\n",
      "    Positive       0.79      0.98      0.88       176\n",
      "\n",
      "    accuracy                           0.82       274\n",
      "   macro avg       0.87      0.76      0.78       274\n",
      "weighted avg       0.85      0.82      0.81       274\n",
      "\n",
      "\n",
      "Service Classification:\n",
      "Accuracy: 86.50%\n",
      "              precision    recall  f1-score   support\n",
      "\n",
      "    Negative       0.86      0.93      0.90       171\n",
      "    Positive       0.87      0.76      0.81       103\n",
      "\n",
      "    accuracy                           0.86       274\n",
      "   macro avg       0.87      0.84      0.85       274\n",
      "weighted avg       0.87      0.86      0.86       274\n",
      "\n",
      "\n",
      "Atmosphere Classification:\n",
      "Accuracy: 87.96%\n",
      "              precision    recall  f1-score   support\n",
      "\n",
      "    Negative       0.86      0.98      0.92       184\n",
      "    Positive       0.95      0.67      0.78        90\n",
      "\n",
      "    accuracy                           0.88       274\n",
      "   macro avg       0.91      0.83      0.85       274\n",
      "weighted avg       0.89      0.88      0.87       274\n"
     ]
    }
   ],
   "source": [
    "# Train using Logistic Regression\n",
    "classifier_lr.train(df)"
   ],
   "metadata": {
    "collapsed": false,
    "ExecuteTime": {
     "end_time": "2024-12-19T16:43:31.290906Z",
     "start_time": "2024-12-19T16:43:31.165850Z"
    }
   }
  },
  {
   "cell_type": "markdown",
   "source": [
    "### Train using Random Forest"
   ],
   "metadata": {
    "collapsed": false
   }
  },
  {
   "cell_type": "code",
   "execution_count": 21,
   "outputs": [
    {
     "name": "stdout",
     "output_type": "stream",
     "text": [
      "\n",
      "Model Performance Metrics:\n",
      "\n",
      "Food Classification:\n",
      "Accuracy: 83.58%\n",
      "              precision    recall  f1-score   support\n",
      "\n",
      "    Negative       0.91      0.60      0.72        98\n",
      "    Positive       0.81      0.97      0.88       176\n",
      "\n",
      "    accuracy                           0.84       274\n",
      "   macro avg       0.86      0.78      0.80       274\n",
      "weighted avg       0.85      0.84      0.83       274\n",
      "\n",
      "\n",
      "Service Classification:\n",
      "Accuracy: 88.69%\n",
      "              precision    recall  f1-score   support\n",
      "\n",
      "    Negative       0.92      0.89      0.91       171\n",
      "    Positive       0.83      0.87      0.85       103\n",
      "\n",
      "    accuracy                           0.89       274\n",
      "   macro avg       0.88      0.88      0.88       274\n",
      "weighted avg       0.89      0.89      0.89       274\n",
      "\n",
      "\n",
      "Atmosphere Classification:\n",
      "Accuracy: 93.43%\n",
      "              precision    recall  f1-score   support\n",
      "\n",
      "    Negative       0.99      0.91      0.95       184\n",
      "    Positive       0.84      0.99      0.91        90\n",
      "\n",
      "    accuracy                           0.93       274\n",
      "   macro avg       0.92      0.95      0.93       274\n",
      "weighted avg       0.94      0.93      0.94       274\n"
     ]
    }
   ],
   "source": [
    "classifier_rf.train(df)"
   ],
   "metadata": {
    "collapsed": false,
    "ExecuteTime": {
     "end_time": "2024-12-19T16:44:00.416588Z",
     "start_time": "2024-12-19T16:43:58.967399Z"
    }
   }
  },
  {
   "cell_type": "markdown",
   "source": [
    "### Train using SVM"
   ],
   "metadata": {
    "collapsed": false
   }
  },
  {
   "cell_type": "code",
   "execution_count": null,
   "outputs": [],
   "source": [
    "classifier_svm.train(df)"
   ],
   "metadata": {
    "collapsed": false
   }
  },
  {
   "cell_type": "markdown",
   "source": [
    "### Predict using Logistic Regression"
   ],
   "metadata": {
    "collapsed": false
   }
  },
  {
   "cell_type": "code",
   "execution_count": 15,
   "outputs": [
    {
     "name": "stdout",
     "output_type": "stream",
     "text": [
      "Żenada ulotki zostawione w pensjonacie ale można sobie do nich dzwonić. Po kilkunastu wykonanych połączeniach i braku odzewu, udaliśmy się tam osobiście bo mieliśmy 750m. Po dotarciu na miejsce dodam że to była niedziela lokal Restro &…\n",
      "Logistic Regression Predictions: {'food': 'Positive', 'service': 'Negative', 'atmosphere': 'Positive'}\n",
      "\n",
      "\n",
      "Jedzenie okropne kebab się rozlatuje. Zamawiasz kebaba i dostajesz i tak tego z menu wszystko wygląda okropnie. Obsługa niemiła i wredna. Czas oczekiwania również długi.\n",
      "Logistic Regression Predictions: {'food': 'Negative', 'service': 'Negative', 'atmosphere': 'Negative'}\n",
      "\n",
      "\n",
      "Dostałem kebab, który został zamówiony na wskazany adres.  Kebab to jedna wielka porażka tłuszczowa.  Nie polecam nikomu, pizza przykleiła się do tektury z opakowania.\n",
      "Logistic Regression Predictions: {'food': 'Positive', 'service': 'Negative', 'atmosphere': 'Negative'}\n",
      "\n",
      "\n",
      "Jeśli jesteś miłośnikiem dobrych zartów, to ta pizzeria to jest właśnie to. Boczek przykleja się do pudełka niczym cygan do zasiłku. Szynka konserwowa złapana na promocji pięknie przyozdabia te wymiociny. Cena 50 złotych myślę, że lekko…\n",
      "Logistic Regression Predictions: {'food': 'Positive', 'service': 'Negative', 'atmosphere': 'Negative'}\n",
      "\n",
      "\n",
      "Nie rozumiem negatywnych opini. Poza sezonem pizza zrobiona od momentu zamówienia do podania w 10minut, czyli tyle ile trzeba. Ciasto lekkie, przyjemne składniki świeże. Jak dla mnie i mojej rodziny duży plus. Sałatka Cezar świeża, choć…\n",
      "Logistic Regression Predictions: {'food': 'Positive', 'service': 'Negative', 'atmosphere': 'Negative'}\n"
     ]
    }
   ],
   "source": [
    "# load test_data_reviews\n",
    "test_data = pd.read_csv('../test_data_reviews/2_4_review.csv')    \n",
    "\n",
    "# Predict using Logistic Regression\n",
    "predictions_lr = classifier_lr.predict(test_data['text'][0:5])\n",
    "#print review text and predicted ratings\n",
    "for i in range(5):\n",
    "    print(test_data['wiI7pd'][i])\n",
    "    print(\"Logistic Regression Predictions:\", predictions_lr[i])\n",
    "    print(\"\\n\")"
   ],
   "metadata": {
    "collapsed": false,
    "ExecuteTime": {
     "end_time": "2024-12-19T16:40:36.485765Z",
     "start_time": "2024-12-19T16:40:36.470282Z"
    }
   }
  },
  {
   "cell_type": "markdown",
   "source": [
    "### Predict using Random Forest"
   ],
   "metadata": {
    "collapsed": false
   }
  },
  {
   "cell_type": "code",
   "execution_count": 16,
   "outputs": [
    {
     "name": "stdout",
     "output_type": "stream",
     "text": [
      "Żenada ulotki zostawione w pensjonacie ale można sobie do nich dzwonić. Po kilkunastu wykonanych połączeniach i braku odzewu, udaliśmy się tam osobiście bo mieliśmy 750m. Po dotarciu na miejsce dodam że to była niedziela lokal Restro &…\n",
      "Random Forest Predictions: {'food': 'Positive', 'service': 'Positive', 'atmosphere': 'Positive'}\n",
      "\n",
      "\n",
      "Jedzenie okropne kebab się rozlatuje. Zamawiasz kebaba i dostajesz i tak tego z menu wszystko wygląda okropnie. Obsługa niemiła i wredna. Czas oczekiwania również długi.\n",
      "Random Forest Predictions: {'food': 'Negative', 'service': 'Negative', 'atmosphere': 'Positive'}\n",
      "\n",
      "\n",
      "Dostałem kebab, który został zamówiony na wskazany adres.  Kebab to jedna wielka porażka tłuszczowa.  Nie polecam nikomu, pizza przykleiła się do tektury z opakowania.\n",
      "Random Forest Predictions: {'food': 'Positive', 'service': 'Positive', 'atmosphere': 'Positive'}\n",
      "\n",
      "\n",
      "Jeśli jesteś miłośnikiem dobrych zartów, to ta pizzeria to jest właśnie to. Boczek przykleja się do pudełka niczym cygan do zasiłku. Szynka konserwowa złapana na promocji pięknie przyozdabia te wymiociny. Cena 50 złotych myślę, że lekko…\n",
      "Random Forest Predictions: {'food': 'Positive', 'service': 'Positive', 'atmosphere': 'Positive'}\n",
      "\n",
      "\n",
      "Nie rozumiem negatywnych opini. Poza sezonem pizza zrobiona od momentu zamówienia do podania w 10minut, czyli tyle ile trzeba. Ciasto lekkie, przyjemne składniki świeże. Jak dla mnie i mojej rodziny duży plus. Sałatka Cezar świeża, choć…\n",
      "Random Forest Predictions: {'food': 'Positive', 'service': 'Positive', 'atmosphere': 'Positive'}\n"
     ]
    }
   ],
   "source": [
    "# Predict using Random Forest\n",
    "predictions_rf = classifier_rf.predict(test_data['text'][0:5])\n",
    "#print review text and predicted ratings\n",
    "for i in range(5):\n",
    "    print(test_data['wiI7pd'][i])\n",
    "    print(\"Random Forest Predictions:\", predictions_rf[i])\n",
    "    print(\"\\n\")"
   ],
   "metadata": {
    "collapsed": false,
    "ExecuteTime": {
     "end_time": "2024-12-19T16:40:37.204252Z",
     "start_time": "2024-12-19T16:40:37.189932Z"
    }
   }
  },
  {
   "cell_type": "markdown",
   "source": [
    "### Predict using SVM"
   ],
   "metadata": {
    "collapsed": false
   }
  },
  {
   "cell_type": "code",
   "execution_count": 17,
   "outputs": [
    {
     "name": "stdout",
     "output_type": "stream",
     "text": [
      "Żenada ulotki zostawione w pensjonacie ale można sobie do nich dzwonić. Po kilkunastu wykonanych połączeniach i braku odzewu, udaliśmy się tam osobiście bo mieliśmy 750m. Po dotarciu na miejsce dodam że to była niedziela lokal Restro &…\n",
      "SVM Predictions: {'food': 'Negative', 'service': 'Negative', 'atmosphere': 'Positive'}\n",
      "\n",
      "\n",
      "Jedzenie okropne kebab się rozlatuje. Zamawiasz kebaba i dostajesz i tak tego z menu wszystko wygląda okropnie. Obsługa niemiła i wredna. Czas oczekiwania również długi.\n",
      "SVM Predictions: {'food': 'Negative', 'service': 'Negative', 'atmosphere': 'Negative'}\n",
      "\n",
      "\n",
      "Dostałem kebab, który został zamówiony na wskazany adres.  Kebab to jedna wielka porażka tłuszczowa.  Nie polecam nikomu, pizza przykleiła się do tektury z opakowania.\n",
      "SVM Predictions: {'food': 'Negative', 'service': 'Negative', 'atmosphere': 'Negative'}\n",
      "\n",
      "\n",
      "Jeśli jesteś miłośnikiem dobrych zartów, to ta pizzeria to jest właśnie to. Boczek przykleja się do pudełka niczym cygan do zasiłku. Szynka konserwowa złapana na promocji pięknie przyozdabia te wymiociny. Cena 50 złotych myślę, że lekko…\n",
      "SVM Predictions: {'food': 'Positive', 'service': 'Negative', 'atmosphere': 'Positive'}\n",
      "\n",
      "\n",
      "Nie rozumiem negatywnych opini. Poza sezonem pizza zrobiona od momentu zamówienia do podania w 10minut, czyli tyle ile trzeba. Ciasto lekkie, przyjemne składniki świeże. Jak dla mnie i mojej rodziny duży plus. Sałatka Cezar świeża, choć…\n",
      "SVM Predictions: {'food': 'Positive', 'service': 'Negative', 'atmosphere': 'Positive'}\n"
     ]
    }
   ],
   "source": [
    "# Predict using SVM\n",
    "predictions_svm = classifier_svm.predict(test_data['text'][0:5])\n",
    "#print review text and predicted ratings\n",
    "for i in range(5):\n",
    "    print(test_data['wiI7pd'][i])\n",
    "    print(\"SVM Predictions:\", predictions_svm[i])\n",
    "    print(\"\\n\")"
   ],
   "metadata": {
    "collapsed": false,
    "ExecuteTime": {
     "end_time": "2024-12-19T16:40:37.580008Z",
     "start_time": "2024-12-19T16:40:37.562949Z"
    }
   }
  }
 ],
 "metadata": {
  "kernelspec": {
   "display_name": "Python 3",
   "language": "python",
   "name": "python3"
  },
  "language_info": {
   "codemirror_mode": {
    "name": "ipython",
    "version": 3
   },
   "file_extension": ".py",
   "mimetype": "text/x-python",
   "name": "python",
   "nbconvert_exporter": "python",
   "pygments_lexer": "ipython3",
   "version": "3.8.5"
  }
 },
 "nbformat": 4,
 "nbformat_minor": 4
}
