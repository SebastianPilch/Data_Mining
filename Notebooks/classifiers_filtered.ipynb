{
 "cells": [
  {
   "cell_type": "markdown",
   "metadata": {},
   "source": [
    "# Restaurant Review Classifiers\n",
    "\n",
    "## Overview\n",
    "This notebook demonstrates a multi-output classification model for restaurant reviews, predicting food, service, and atmosphere ratings."
   ]
  },
  {
   "cell_type": "code",
   "execution_count": 95,
   "outputs": [],
   "source": [
    "from sklearn.ensemble import RandomForestClassifier\n",
    "from sklearn.svm import SVC\n",
    "from sklearn.multioutput import MultiOutputClassifier\n",
    "from sklearn.linear_model import LogisticRegression\n",
    "from sklearn.metrics import accuracy_score, classification_report\n",
    "from sklearn.feature_extraction.text import TfidfVectorizer\n",
    "from sklearn.model_selection import train_test_split\n",
    "from sklearn.preprocessing import LabelEncoder\n",
    "import pandas as pd\n",
    "from sklearn import metrics\n",
    "import matplotlib.pyplot as plt\n",
    "import seaborn as sns"
   ],
   "metadata": {
    "collapsed": false,
    "ExecuteTime": {
     "end_time": "2024-12-19T16:39:21.103539Z",
     "start_time": "2024-12-19T16:39:21.041440Z"
    }
   }
  },
  {
   "cell_type": "code",
   "execution_count": 96,
   "outputs": [],
   "source": [
    "class RestaurantReviewClassifier:\n",
    "    def __init__(self, model='logistic_regression'):\n",
    "        self.tfidf_vectorizer = TfidfVectorizer(\n",
    "            stop_words='english',\n",
    "            max_features=5000,\n",
    "            ngram_range=(1, 2)\n",
    "        )\n",
    "        self.label_encoders = {\n",
    "            'food': LabelEncoder(),\n",
    "            'service': LabelEncoder(),\n",
    "            'atmosphere': LabelEncoder()\n",
    "        }\n",
    "\n",
    "        # Initialize classifier based on input model\n",
    "        if model == 'logistic_regression':\n",
    "            base_classifier = LogisticRegression(max_iter=1000)\n",
    "        elif model == 'random_forest':\n",
    "            base_classifier = RandomForestClassifier(n_estimators=100, random_state=42)\n",
    "        elif model == 'svm':\n",
    "            base_classifier = SVC(probability=True, kernel='linear')\n",
    "        else:\n",
    "            raise ValueError(\"Model not supported. Choose from 'logistic_regression', 'random_forest', 'svm'.\")\n",
    "\n",
    "        self.classifier = MultiOutputClassifier(base_classifier)\n",
    "\n",
    "    def preprocess_data(self, df):\n",
    "        # Drop rows with NaN in text column\n",
    "        df = df.dropna(subset=['text'])\n",
    "\n",
    "        # Fill NaN in categorical columns with 'None'\n",
    "        columns = ['food', 'service', 'atmosphere']\n",
    "        for col in columns:\n",
    "            if col not in df.columns:\n",
    "                df[col] = 'None'\n",
    "            df.loc[:, col] = df[col].fillna('None')\n",
    "\n",
    "        return df\n",
    "\n",
    "    def train(self, df):\n",
    "        # Preprocess data\n",
    "        df = self.preprocess_data(df)\n",
    "\n",
    "        # Vectorize text\n",
    "        X = self.tfidf_vectorizer.fit_transform(df['text'].astype(str))\n",
    "\n",
    "        # Encode labels dynamically\n",
    "        y_dict = {}\n",
    "        for col in ['food', 'service', 'atmosphere']:\n",
    "            unique_labels = df[col].unique()\n",
    "            self.label_encoders[col].fit(unique_labels)\n",
    "            y_dict[col] = self.label_encoders[col].transform(df[col])\n",
    "\n",
    "        y = pd.DataFrame(y_dict)\n",
    "\n",
    "        # Split data\n",
    "        X_train, X_test, y_train, y_test = train_test_split(\n",
    "            X, y, test_size=0.2, random_state=42\n",
    "        )\n",
    "\n",
    "        # Train classifier\n",
    "        self.classifier.fit(X_train, y_train)\n",
    "\n",
    "        # Predict\n",
    "        y_pred = self.classifier.predict(X_test)\n",
    "\n",
    "        # Evaluate\n",
    "        print(\"\\nModel Performance Metrics:\")\n",
    "        for i, col in enumerate(['food', 'service', 'atmosphere']):\n",
    "            print(f\"\\n{col.capitalize()} Classification:\")\n",
    "            classes = self.label_encoders[col].classes_\n",
    "\n",
    "            accuracy = accuracy_score(y_test.iloc[:, i], y_pred[:, i])\n",
    "            print(f\"Accuracy: {accuracy:.2%}\")\n",
    "\n",
    "            print(classification_report(\n",
    "                y_test.iloc[:, i],\n",
    "                y_pred[:, i],\n",
    "                labels=range(len(classes)),\n",
    "                target_names=classes\n",
    "            ))\n",
    "\n",
    "    def predict(self, texts):\n",
    "        # Convert texts to strings and handle potential NaN\n",
    "        texts = [str(text) if pd.notna(text) else '' for text in texts]\n",
    "\n",
    "        # Vectorize input\n",
    "        X = self.tfidf_vectorizer.transform(texts)\n",
    "\n",
    "        # Predict\n",
    "        predictions = self.classifier.predict(X)\n",
    "\n",
    "        # Decode predictions\n",
    "        results = []\n",
    "        for pred in predictions:\n",
    "            result = {\n",
    "                col: self.label_encoders[col].inverse_transform([p])[0]\n",
    "                for col, p in zip(['food', 'service', 'atmosphere'], pred)\n",
    "            }\n",
    "            results.append(result)\n",
    "\n",
    "        return results\n"
   ],
   "metadata": {
    "collapsed": false,
    "ExecuteTime": {
     "end_time": "2024-12-19T16:39:21.128090Z",
     "start_time": "2024-12-19T16:39:21.049728Z"
    }
   }
  },
  {
   "cell_type": "code",
   "execution_count": 97,
   "outputs": [],
   "source": [
    "# Logistic Regression\n",
    "classifier_lr = RestaurantReviewClassifier(model='logistic_regression')\n",
    "\n",
    "# Random Forest\n",
    "classifier_rf = RestaurantReviewClassifier(model='random_forest')\n",
    "\n",
    "# Support Vector Machine\n",
    "classifier_svm = RestaurantReviewClassifier(model='svm')\n"
   ],
   "metadata": {
    "collapsed": false,
    "ExecuteTime": {
     "end_time": "2024-12-19T16:39:21.128692Z",
     "start_time": "2024-12-19T16:39:21.063936Z"
    }
   }
  },
  {
   "cell_type": "markdown",
   "source": [
    "### Load Data"
   ],
   "metadata": {
    "collapsed": false
   }
  },
  {
   "cell_type": "code",
   "execution_count": 98,
   "outputs": [],
   "source": [
    "df = pd.read_csv('../raw_data/random_choice_data.csv')  # Load your dataset\n"
   ],
   "metadata": {
    "collapsed": false,
    "ExecuteTime": {
     "end_time": "2024-12-19T16:43:29.086087Z",
     "start_time": "2024-12-19T16:43:29.071527Z"
    }
   }
  },
  {
   "cell_type": "markdown",
   "source": [
    "### Train using Logistic Regression"
   ],
   "metadata": {
    "collapsed": false
   }
  },
  {
   "cell_type": "code",
   "execution_count": 99,
   "outputs": [
    {
     "name": "stderr",
     "output_type": "stream",
     "text": [
      "C:\\Users\\SEBAST~1\\AppData\\Local\\Temp/ipykernel_12788/1378635224.py:35: SettingWithCopyWarning: \n",
      "A value is trying to be set on a copy of a slice from a DataFrame.\n",
      "Try using .loc[row_indexer,col_indexer] = value instead\n",
      "\n",
      "See the caveats in the documentation: https://pandas.pydata.org/pandas-docs/stable/user_guide/indexing.html#returning-a-view-versus-a-copy\n",
      "  df.loc[:, col] = df[col].fillna('None')\n"
     ]
    },
    {
     "name": "stdout",
     "output_type": "stream",
     "text": [
      "\n",
      "Model Performance Metrics:\n",
      "\n",
      "Food Classification:\n",
      "Accuracy: 79.33%\n",
      "              precision    recall  f1-score   support\n",
      "\n",
      "    Negative       0.67      0.53      0.59        94\n",
      "        None       0.79      0.52      0.63        71\n",
      "    Positive       0.83      0.97      0.89       251\n",
      "\n",
      "    accuracy                           0.79       416\n",
      "   macro avg       0.76      0.67      0.70       416\n",
      "weighted avg       0.78      0.79      0.78       416\n",
      "\n",
      "\n",
      "Service Classification:\n",
      "Accuracy: 76.92%\n",
      "              precision    recall  f1-score   support\n",
      "\n",
      "    Negative       0.90      0.63      0.74        98\n",
      "        None       0.75      0.79      0.77       156\n",
      "    Positive       0.74      0.83      0.78       162\n",
      "\n",
      "    accuracy                           0.77       416\n",
      "   macro avg       0.80      0.75      0.76       416\n",
      "weighted avg       0.78      0.77      0.77       416\n",
      "\n",
      "\n",
      "Atmosphere Classification:\n",
      "Accuracy: 74.28%\n",
      "              precision    recall  f1-score   support\n",
      "\n",
      "    Negative       0.87      0.61      0.71        66\n",
      "        None       0.70      0.90      0.79       191\n",
      "    Positive       0.77      0.61      0.68       159\n",
      "\n",
      "    accuracy                           0.74       416\n",
      "   macro avg       0.78      0.71      0.73       416\n",
      "weighted avg       0.76      0.74      0.74       416\n",
      "\n"
     ]
    }
   ],
   "source": [
    "# Train using Logistic Regression\n",
    "classifier_lr.train(df)"
   ],
   "metadata": {
    "collapsed": false,
    "ExecuteTime": {
     "end_time": "2024-12-19T16:43:31.290906Z",
     "start_time": "2024-12-19T16:43:31.165850Z"
    }
   }
  },
  {
   "cell_type": "markdown",
   "source": [
    "### Train using Random Forest"
   ],
   "metadata": {
    "collapsed": false
   }
  },
  {
   "cell_type": "code",
   "execution_count": 100,
   "outputs": [
    {
     "name": "stderr",
     "output_type": "stream",
     "text": [
      "C:\\Users\\SEBAST~1\\AppData\\Local\\Temp/ipykernel_12788/1378635224.py:35: SettingWithCopyWarning: \n",
      "A value is trying to be set on a copy of a slice from a DataFrame.\n",
      "Try using .loc[row_indexer,col_indexer] = value instead\n",
      "\n",
      "See the caveats in the documentation: https://pandas.pydata.org/pandas-docs/stable/user_guide/indexing.html#returning-a-view-versus-a-copy\n",
      "  df.loc[:, col] = df[col].fillna('None')\n"
     ]
    },
    {
     "name": "stdout",
     "output_type": "stream",
     "text": [
      "\n",
      "Model Performance Metrics:\n",
      "\n",
      "Food Classification:\n",
      "Accuracy: 78.85%\n",
      "              precision    recall  f1-score   support\n",
      "\n",
      "    Negative       0.85      0.35      0.50        94\n",
      "        None       0.73      0.69      0.71        71\n",
      "    Positive       0.79      0.98      0.88       251\n",
      "\n",
      "    accuracy                           0.79       416\n",
      "   macro avg       0.79      0.67      0.69       416\n",
      "weighted avg       0.79      0.79      0.76       416\n",
      "\n",
      "\n",
      "Service Classification:\n",
      "Accuracy: 73.08%\n",
      "              precision    recall  f1-score   support\n",
      "\n",
      "    Negative       0.83      0.44      0.57        98\n",
      "        None       0.76      0.78      0.77       156\n",
      "    Positive       0.69      0.86      0.77       162\n",
      "\n",
      "    accuracy                           0.73       416\n",
      "   macro avg       0.76      0.69      0.70       416\n",
      "weighted avg       0.75      0.73      0.72       416\n",
      "\n",
      "\n",
      "Atmosphere Classification:\n",
      "Accuracy: 73.80%\n",
      "              precision    recall  f1-score   support\n",
      "\n",
      "    Negative       0.73      0.62      0.67        66\n",
      "        None       0.71      0.94      0.81       191\n",
      "    Positive       0.81      0.54      0.65       159\n",
      "\n",
      "    accuracy                           0.74       416\n",
      "   macro avg       0.75      0.70      0.71       416\n",
      "weighted avg       0.75      0.74      0.73       416\n",
      "\n"
     ]
    }
   ],
   "source": [
    "classifier_rf.train(df)"
   ],
   "metadata": {
    "collapsed": false,
    "ExecuteTime": {
     "end_time": "2024-12-19T16:44:00.416588Z",
     "start_time": "2024-12-19T16:43:58.967399Z"
    }
   }
  },
  {
   "cell_type": "markdown",
   "source": [
    "### Train using SVM"
   ],
   "metadata": {
    "collapsed": false
   }
  },
  {
   "cell_type": "code",
   "execution_count": 101,
   "outputs": [
    {
     "name": "stderr",
     "output_type": "stream",
     "text": [
      "C:\\Users\\SEBAST~1\\AppData\\Local\\Temp/ipykernel_12788/1378635224.py:35: SettingWithCopyWarning: \n",
      "A value is trying to be set on a copy of a slice from a DataFrame.\n",
      "Try using .loc[row_indexer,col_indexer] = value instead\n",
      "\n",
      "See the caveats in the documentation: https://pandas.pydata.org/pandas-docs/stable/user_guide/indexing.html#returning-a-view-versus-a-copy\n",
      "  df.loc[:, col] = df[col].fillna('None')\n"
     ]
    },
    {
     "name": "stdout",
     "output_type": "stream",
     "text": [
      "\n",
      "Model Performance Metrics:\n",
      "\n",
      "Food Classification:\n",
      "Accuracy: 79.81%\n",
      "              precision    recall  f1-score   support\n",
      "\n",
      "    Negative       0.65      0.62      0.63        94\n",
      "        None       0.74      0.52      0.61        71\n",
      "    Positive       0.86      0.94      0.90       251\n",
      "\n",
      "    accuracy                           0.80       416\n",
      "   macro avg       0.75      0.69      0.71       416\n",
      "weighted avg       0.79      0.80      0.79       416\n",
      "\n",
      "\n",
      "Service Classification:\n",
      "Accuracy: 77.40%\n",
      "              precision    recall  f1-score   support\n",
      "\n",
      "    Negative       0.84      0.67      0.75        98\n",
      "        None       0.73      0.81      0.77       156\n",
      "    Positive       0.79      0.80      0.79       162\n",
      "\n",
      "    accuracy                           0.77       416\n",
      "   macro avg       0.79      0.76      0.77       416\n",
      "weighted avg       0.78      0.77      0.77       416\n",
      "\n",
      "\n",
      "Atmosphere Classification:\n",
      "Accuracy: 76.20%\n",
      "              precision    recall  f1-score   support\n",
      "\n",
      "    Negative       0.83      0.67      0.74        66\n",
      "        None       0.74      0.89      0.81       191\n",
      "    Positive       0.78      0.65      0.71       159\n",
      "\n",
      "    accuracy                           0.76       416\n",
      "   macro avg       0.78      0.73      0.75       416\n",
      "weighted avg       0.77      0.76      0.76       416\n",
      "\n"
     ]
    }
   ],
   "source": [
    "classifier_svm.train(df)\n",
    "\n",
    "\n"
   ],
   "metadata": {
    "collapsed": false
   }
  },
  {
   "cell_type": "markdown",
   "source": [
    "### Predict using Logistic Regression\n",
    "\n"
   ],
   "metadata": {
    "collapsed": false
   }
  },
  {
   "cell_type": "code",
   "execution_count": 102,
   "outputs": [
    {
     "name": "stdout",
     "output_type": "stream",
     "text": [
      "Żenada ulotki zostawione w pensjonacie ale można sobie do nich dzwonić. Po kilkunastu wykonanych połączeniach i braku odzewu, udaliśmy się tam osobiście bo mieliśmy 750m. Po dotarciu na miejsce dodam że to była niedziela lokal Restro &…\n",
      "Logistic Regression Predictions: {'food': 'None', 'service': 'None', 'atmosphere': 'None'}\n",
      "\n",
      "\n",
      "Jedzenie okropne kebab się rozlatuje. Zamawiasz kebaba i dostajesz i tak tego z menu wszystko wygląda okropnie. Obsługa niemiła i wredna. Czas oczekiwania również długi.\n",
      "Logistic Regression Predictions: {'food': 'Negative', 'service': 'Negative', 'atmosphere': 'None'}\n",
      "\n",
      "\n",
      "Dostałem kebab, który został zamówiony na wskazany adres.  Kebab to jedna wielka porażka tłuszczowa.  Nie polecam nikomu, pizza przykleiła się do tektury z opakowania.\n",
      "Logistic Regression Predictions: {'food': 'Positive', 'service': 'None', 'atmosphere': 'None'}\n",
      "\n",
      "\n",
      "Jeśli jesteś miłośnikiem dobrych zartów, to ta pizzeria to jest właśnie to. Boczek przykleja się do pudełka niczym cygan do zasiłku. Szynka konserwowa złapana na promocji pięknie przyozdabia te wymiociny. Cena 50 złotych myślę, że lekko…\n",
      "Logistic Regression Predictions: {'food': 'Positive', 'service': 'None', 'atmosphere': 'None'}\n",
      "\n",
      "\n",
      "Nie rozumiem negatywnych opini. Poza sezonem pizza zrobiona od momentu zamówienia do podania w 10minut, czyli tyle ile trzeba. Ciasto lekkie, przyjemne składniki świeże. Jak dla mnie i mojej rodziny duży plus. Sałatka Cezar świeża, choć…\n",
      "Logistic Regression Predictions: {'food': 'Positive', 'service': 'None', 'atmosphere': 'None'}\n",
      "\n",
      "\n"
     ]
    }
   ],
   "source": [
    "# load test_data_reviews\n",
    "test_data = pd.read_csv('../test_data_reviews/2_4_review.csv')    \n",
    "\n",
    "# Predict using Logistic Regression\n",
    "predictions_lr = classifier_lr.predict(test_data['text'][0:5])\n",
    "#print review text and predicted ratings\n",
    "for i in range(5):\n",
    "    print(test_data['wiI7pd'][i])\n",
    "    print(\"Logistic Regression Predictions:\", predictions_lr[i])\n",
    "    print(\"\\n\")"
   ],
   "metadata": {
    "collapsed": false,
    "ExecuteTime": {
     "end_time": "2024-12-19T16:40:36.485765Z",
     "start_time": "2024-12-19T16:40:36.470282Z"
    }
   }
  },
  {
   "cell_type": "markdown",
   "source": [
    "### Predict using Random Forest"
   ],
   "metadata": {
    "collapsed": false
   }
  },
  {
   "cell_type": "code",
   "execution_count": 103,
   "outputs": [
    {
     "name": "stdout",
     "output_type": "stream",
     "text": [
      "Żenada ulotki zostawione w pensjonacie ale można sobie do nich dzwonić. Po kilkunastu wykonanych połączeniach i braku odzewu, udaliśmy się tam osobiście bo mieliśmy 750m. Po dotarciu na miejsce dodam że to była niedziela lokal Restro &…\n",
      "Random Forest Predictions: {'food': 'None', 'service': 'None', 'atmosphere': 'None'}\n",
      "\n",
      "\n",
      "Jedzenie okropne kebab się rozlatuje. Zamawiasz kebaba i dostajesz i tak tego z menu wszystko wygląda okropnie. Obsługa niemiła i wredna. Czas oczekiwania również długi.\n",
      "Random Forest Predictions: {'food': 'Positive', 'service': 'Negative', 'atmosphere': 'None'}\n",
      "\n",
      "\n",
      "Dostałem kebab, który został zamówiony na wskazany adres.  Kebab to jedna wielka porażka tłuszczowa.  Nie polecam nikomu, pizza przykleiła się do tektury z opakowania.\n",
      "Random Forest Predictions: {'food': 'Positive', 'service': 'None', 'atmosphere': 'None'}\n",
      "\n",
      "\n",
      "Jeśli jesteś miłośnikiem dobrych zartów, to ta pizzeria to jest właśnie to. Boczek przykleja się do pudełka niczym cygan do zasiłku. Szynka konserwowa złapana na promocji pięknie przyozdabia te wymiociny. Cena 50 złotych myślę, że lekko…\n",
      "Random Forest Predictions: {'food': 'Positive', 'service': 'None', 'atmosphere': 'None'}\n",
      "\n",
      "\n",
      "Nie rozumiem negatywnych opini. Poza sezonem pizza zrobiona od momentu zamówienia do podania w 10minut, czyli tyle ile trzeba. Ciasto lekkie, przyjemne składniki świeże. Jak dla mnie i mojej rodziny duży plus. Sałatka Cezar świeża, choć…\n",
      "Random Forest Predictions: {'food': 'Positive', 'service': 'Negative', 'atmosphere': 'None'}\n",
      "\n",
      "\n"
     ]
    }
   ],
   "source": [
    "# Predict using Random Forest\n",
    "predictions_rf = classifier_rf.predict(test_data['text'][0:5])\n",
    "#print review text and predicted ratings\n",
    "for i in range(5):\n",
    "    print(test_data['wiI7pd'][i])\n",
    "    print(\"Random Forest Predictions:\", predictions_rf[i])\n",
    "    print(\"\\n\")"
   ],
   "metadata": {
    "collapsed": false,
    "ExecuteTime": {
     "end_time": "2024-12-19T16:40:37.204252Z",
     "start_time": "2024-12-19T16:40:37.189932Z"
    }
   }
  },
  {
   "cell_type": "markdown",
   "source": [
    "### Predict using SVM"
   ],
   "metadata": {
    "collapsed": false
   }
  },
  {
   "cell_type": "code",
   "execution_count": 104,
   "outputs": [
    {
     "name": "stdout",
     "output_type": "stream",
     "text": [
      "Żenada ulotki zostawione w pensjonacie ale można sobie do nich dzwonić. Po kilkunastu wykonanych połączeniach i braku odzewu, udaliśmy się tam osobiście bo mieliśmy 750m. Po dotarciu na miejsce dodam że to była niedziela lokal Restro &…\n",
      "SVM Predictions: {'food': 'None', 'service': 'Negative', 'atmosphere': 'None'}\n",
      "\n",
      "\n",
      "Jedzenie okropne kebab się rozlatuje. Zamawiasz kebaba i dostajesz i tak tego z menu wszystko wygląda okropnie. Obsługa niemiła i wredna. Czas oczekiwania również długi.\n",
      "SVM Predictions: {'food': 'Negative', 'service': 'Negative', 'atmosphere': 'None'}\n",
      "\n",
      "\n",
      "Dostałem kebab, który został zamówiony na wskazany adres.  Kebab to jedna wielka porażka tłuszczowa.  Nie polecam nikomu, pizza przykleiła się do tektury z opakowania.\n",
      "SVM Predictions: {'food': 'Positive', 'service': 'None', 'atmosphere': 'None'}\n",
      "\n",
      "\n",
      "Jeśli jesteś miłośnikiem dobrych zartów, to ta pizzeria to jest właśnie to. Boczek przykleja się do pudełka niczym cygan do zasiłku. Szynka konserwowa złapana na promocji pięknie przyozdabia te wymiociny. Cena 50 złotych myślę, że lekko…\n",
      "SVM Predictions: {'food': 'Positive', 'service': 'None', 'atmosphere': 'None'}\n",
      "\n",
      "\n",
      "Nie rozumiem negatywnych opini. Poza sezonem pizza zrobiona od momentu zamówienia do podania w 10minut, czyli tyle ile trzeba. Ciasto lekkie, przyjemne składniki świeże. Jak dla mnie i mojej rodziny duży plus. Sałatka Cezar świeża, choć…\n",
      "SVM Predictions: {'food': 'Positive', 'service': 'None', 'atmosphere': 'None'}\n",
      "\n",
      "\n"
     ]
    }
   ],
   "source": [
    "# Predict using SVM\n",
    "predictions_svm = classifier_svm.predict(test_data['text'][0:5])\n",
    "#print review text and predicted ratings\n",
    "for i in range(5):\n",
    "    print(test_data['wiI7pd'][i])\n",
    "    print(\"SVM Predictions:\", predictions_svm[i])\n",
    "    print(\"\\n\")"
   ],
   "metadata": {
    "collapsed": false,
    "ExecuteTime": {
     "end_time": "2024-12-19T16:40:37.580008Z",
     "start_time": "2024-12-19T16:40:37.562949Z"
    },
    "pycharm": {
     "name": "#%%\n"
    }
   }
  },
  {
   "cell_type": "markdown",
   "source": [
    "### Confiusion matrix"
   ],
   "metadata": {
    "collapsed": false
   }
  },
  {
   "cell_type": "code",
   "execution_count": 118,
   "outputs": [
    {
     "data": {
      "text/plain": "<Figure size 1296x432 with 6 Axes>",
      "image/png": "[encoded data removed]"
     },
     "metadata": {
      "needs_background": "light"
     },
     "output_type": "display_data"
    },
    {
     "data": {
      "text/plain": "<Figure size 1296x432 with 6 Axes>",
      "image/png": "[encoded data removed]"
     },
     "metadata": {
      "needs_background": "light"
     },
     "output_type": "display_data"
    },
    {
     "data": {
      "text/plain": "<Figure size 1296x432 with 6 Axes>",
      "image/png": "[encoded data removed]"
     },
     "metadata": {
      "needs_background": "light"
     },
     "output_type": "display_data"
    }
   ],
   "source": [
    "def show_confusion_matrices(matrices, classifier_name, labels=None, categories_names = [\"food\",\"service\",\"atmosphere\"]):\n",
    "    num_matrices = len(matrices)\n",
    "    fig, axes = plt.subplots(1, num_matrices, figsize=(6 * num_matrices, 6))\n",
    "\n",
    "    for i, matrix in enumerate(matrices):\n",
    "        ax = axes[i] if num_matrices > 1 else axes\n",
    "        num_classes = matrix.shape[0]\n",
    "\n",
    "        if labels is None:\n",
    "            labels = [str(j) for j in range(num_classes)]\n",
    "\n",
    "        sns.heatmap(matrix,\n",
    "                    cmap='coolwarm',\n",
    "                    linecolor='white',\n",
    "                    linewidths=1,\n",
    "                    xticklabels=labels[0:num_classes],\n",
    "                    yticklabels=labels[0:num_classes],\n",
    "                    annot=True,\n",
    "                    fmt='d',\n",
    "                    ax=ax)\n",
    "\n",
    "        ax.set_title(f'Confusion Matrix {categories_names[i]}')\n",
    "        ax.set_ylabel('True Label')\n",
    "        ax.set_xlabel('Predicted Label')\n",
    "        ax.yaxis.set_tick_params(rotation=0)\n",
    "    fig.suptitle(f\"{classifier_name}\", fontsize=16)\n",
    "    plt.tight_layout()\n",
    "    plt.show()\n",
    "\n",
    "\n",
    "def compute_and_show_confusion_matrix(validations, predictions, classifier_name):\n",
    "    matrices = [metrics.confusion_matrix(validations[i], predictions[i]) for i in range(len(validations))]\n",
    "    show_confusion_matrices(matrices,classifier_name, labels = [\"Negative\",\"None\",\"Positive\"])\n",
    "\n",
    "\n",
    "food_validation =  df['food'].fillna('None').tolist()\n",
    "service_validation = df['service'].fillna('None').tolist()\n",
    "atmosphere_validation = df['atmosphere'].fillna('None').tolist()\n",
    "\n",
    "\n",
    "def create_predicions_to_list(classifier):\n",
    "    predictions = classifier.predict(df['text'])\n",
    "    preditions_food = [pred[\"food\"] for pred in predictions]\n",
    "    preditions_service = [pred[\"service\"] for pred in predictions]\n",
    "    preditions_atmosphere = [pred[\"atmosphere\"] for pred in predictions]\n",
    "    return preditions_food, preditions_service, preditions_atmosphere\n",
    "\n",
    "labels_to_classificators = [\"Linear regresion\", \"Random Forest\", \"SVM\"]\n",
    "classi_list = [classifier_lr,classifier_rf,classifier_svm]\n",
    "for i in range(3):\n",
    "    pred= create_predicions_to_list(classi_list[i])\n",
    "    validation = [food_validation,service_validation,atmosphere_validation]\n",
    "    compute_and_show_confusion_matrix(validation,pred,  labels_to_classificators[i])\n",
    "\n",
    "\n"
   ],
   "metadata": {
    "collapsed": false,
    "pycharm": {
     "name": "#%%\n"
    }
   }
  },
  {
   "cell_type": "markdown",
   "source": [
    "### Rating Function"
   ],
   "metadata": {
    "collapsed": false
   }
  },
  {
   "cell_type": "code",
   "execution_count": 119,
   "outputs": [
    {
     "name": "stdout",
     "output_type": "stream",
     "text": [
      "              File           Classifier  Food_Rating  Service_Rating  \\\n",
      "0   2_4_review.csv  Logistic Regression       3.2910          2.7594   \n",
      "1   2_4_review.csv        Random Forest       4.1389          3.0252   \n",
      "2   2_4_review.csv                  SVM       2.8480          2.6710   \n",
      "3   2_9_review.csv  Logistic Regression       3.6258          3.0902   \n",
      "4   2_9_review.csv        Random Forest       4.2840          3.3742   \n",
      "5   2_9_review.csv                  SVM       3.2840          2.8386   \n",
      "6   3_4_review.csv  Logistic Regression       4.0742          3.4444   \n",
      "7   3_4_review.csv        Random Forest       4.3086          3.5923   \n",
      "8   3_4_review.csv                  SVM       3.7163          3.2716   \n",
      "9   4_7_review.csv  Logistic Regression       4.8325          4.3089   \n",
      "10  4_7_review.csv        Random Forest       4.8774          4.2146   \n",
      "11  4_7_review.csv                  SVM       4.7606          4.2144   \n",
      "\n",
      "    Atmosphere_Rating  Averge_Rating  \n",
      "0              3.0632            3.0  \n",
      "1              3.0380            3.4  \n",
      "2              3.0632            2.9  \n",
      "3              3.3096            3.3  \n",
      "4              3.2455            3.6  \n",
      "5              3.3742            3.2  \n",
      "6              3.4196            3.6  \n",
      "7              3.2716            3.7  \n",
      "8              3.3950            3.5  \n",
      "9              3.9526            4.4  \n",
      "10             3.5626            4.2  \n",
      "11             3.9358            4.3  \n"
     ]
    }
   ],
   "source": [
    "def Final_Rating(reviews_path,classifier):\n",
    "    test_data = pd.read_csv(reviews_path)\n",
    "    # print(\"\\n\")\n",
    "    # print(len(test_data))\n",
    "    predictions = classifier.predict(test_data['text'])\n",
    "\n",
    "    total_amount_of_predicions = len(predictions)\n",
    "    Ratings = \\\n",
    "        {\n",
    "            \"food\":{\n",
    "                'None':0 ,'Positive':0,'Negative':0\n",
    "            },\n",
    "            \"service\":{\n",
    "                'None':0 ,'Positive':0,'Negative':0\n",
    "            },\n",
    "            \"atmosphere\":{\n",
    "                'None':0 ,'Positive':0,'Negative':0\n",
    "            }\n",
    "        }\n",
    "    # print(Ratings)\n",
    "\n",
    "    for i in predictions:\n",
    "        for aspect in [\"food\",\"service\",\"atmosphere\"]:\n",
    "            Ratings[aspect][i[aspect]] += 1\n",
    "\n",
    "    for aspect in Ratings:\n",
    "        for rate in Ratings[aspect]:\n",
    "            Ratings[aspect][rate] =  round(Ratings[aspect][rate]/total_amount_of_predicions*100,2)\n",
    "\n",
    "    food_final_score = (Ratings[\"food\"]['None'] * 3 + Ratings[\"food\"]['Positive'] * 5 + Ratings[\"food\"]['Negative'] * 1) / 100\n",
    "    service_final_score = (Ratings[\"service\"]['None'] * 3 + Ratings[\"service\"]['Positive'] * 5 + Ratings[\"service\"]['Negative'] * 1) / 100\n",
    "    atmosphere_final_score = (Ratings[\"atmosphere\"]['None'] * 3 + Ratings[\"atmosphere\"]['Positive'] * 5 + Ratings[\"atmosphere\"]['Negative'] * 1) / 100\n",
    "\n",
    "    return food_final_score,service_final_score,atmosphere_final_score,round((food_final_score+service_final_score+atmosphere_final_score)/3,1)\n",
    "\n",
    "\n",
    "    # print(\"Food \", round(food_final_score,2))\n",
    "    # print(\"Service \",round(service_final_score,2))\n",
    "    # print(\"Atmosphere \",round(atmosphere_final_score,2))\n",
    "    # print(\"Averge\", round((food_final_score+service_final_score+atmosphere_final_score)/3,1))\n",
    "\n",
    "#\n",
    "# print(\"Rating 2,4  :\")\n",
    "# Final_Rating('../test_data_reviews/2_4_review.csv',classifier_lr)\n",
    "# Final_Rating('../test_data_reviews/2_4_review.csv',classifier_rf)\n",
    "# Final_Rating('../test_data_reviews/2_4_review.csv',classifier_svm)\n",
    "#\n",
    "# print(\"\\n\\nRating 2,9  :\")\n",
    "# Final_Rating('../test_data_reviews/2_9_review.csv',classifier_lr)\n",
    "# Final_Rating('../test_data_reviews/2_9_review.csv',classifier_rf)\n",
    "# Final_Rating('../test_data_reviews/2_9_review.csv',classifier_svm)\n",
    "#\n",
    "# print(\"\\n\\nRating 3,4  :\")\n",
    "# Final_Rating('../test_data_reviews/3_4_review.csv',classifier_lr)\n",
    "# Final_Rating('../test_data_reviews/3_4_review.csv',classifier_rf)\n",
    "# Final_Rating('../test_data_reviews/3_4_review.csv',classifier_svm)\n",
    "#\n",
    "# print(\"\\n\\nRating 4,7  :\")\n",
    "# Final_Rating('../test_data_reviews/4_7_review.csv',classifier_lr)\n",
    "# Final_Rating('../test_data_reviews/4_7_review.csv',classifier_rf)\n",
    "# Final_Rating('../test_data_reviews/4_7_review.csv',classifier_svm)\n",
    "\n",
    "results = []\n",
    "\n",
    "files = ['../test_data_reviews/2_4_review.csv',\n",
    "         '../test_data_reviews/2_9_review.csv',\n",
    "         '../test_data_reviews/3_4_review.csv',\n",
    "         '../test_data_reviews/4_7_review.csv']\n",
    "\n",
    "classifiers = {'Logistic Regression': classifier_lr,\n",
    "               'Random Forest': classifier_rf,\n",
    "               'SVM': classifier_svm}\n",
    "for file in files:\n",
    "    file_name = file.split('/')[-1]\n",
    "    for name, clf in classifiers.items():\n",
    "        rating = Final_Rating(file, clf)\n",
    "        results.append({'File': file_name, 'Classifier': name, 'Food_Rating': rating[0], 'Service_Rating': rating[1],\n",
    "                        'Atmosphere_Rating': rating[2], 'Averge_Rating': rating[3]})\n",
    "\n",
    "results_df = pd.DataFrame(results)\n",
    "\n",
    "print(results_df)"
   ],
   "metadata": {
    "collapsed": false,
    "pycharm": {
     "name": "#%%\n"
    }
   }
  }
 ],
 "metadata": {
  "kernelspec": {
   "display_name": "Python 3",
   "language": "python",
   "name": "python3"
  },
  "language_info": {
   "codemirror_mode": {
    "name": "ipython",
    "version": 3
   },
   "file_extension": ".py",
   "mimetype": "text/x-python",
   "name": "python",
   "nbconvert_exporter": "python",
   "pygments_lexer": "ipython3",
   "version": "3.8.5"
  }
 },
 "nbformat": 4,
 "nbformat_minor": 4
}