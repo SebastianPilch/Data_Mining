{
 "cells": [
  {
   "cell_type": "markdown",
   "metadata": {},
   "source": [
    "# Restaurant Review Classifiers\n",
    "\n",
    "## Overview\n",
    "This notebook demonstrates a multi-output classification model for restaurant reviews, predicting food, service, and atmosphere ratings."
   ]
  },
  {
   "cell_type": "code",
   "execution_count": 1,
   "outputs": [
    {
     "name": "stderr",
     "output_type": "stream",
     "text": [
      "C:\\Users\\Sebastian\\AppData\\Local\\Programs\\Python\\Python39\\lib\\site-packages\\scipy\\__init__.py:146: UserWarning: A NumPy version >=1.16.5 and <1.23.0 is required for this version of SciPy (detected version 1.26.4\n",
      "  warnings.warn(f\"A NumPy version >={np_minversion} and <{np_maxversion}\"\n"
     ]
    }
   ],
   "source": [
    "from sklearn.ensemble import RandomForestClassifier\n",
    "from sklearn.svm import SVC\n",
    "from sklearn.multioutput import MultiOutputClassifier\n",
    "from sklearn.linear_model import LogisticRegression\n",
    "from sklearn.metrics import accuracy_score, classification_report\n",
    "from sklearn.feature_extraction.text import TfidfVectorizer\n",
    "from sklearn.model_selection import train_test_split\n",
    "from sklearn.preprocessing import LabelEncoder\n",
    "import pandas as pd"
   ],
   "metadata": {
    "collapsed": false,
    "ExecuteTime": {
     "end_time": "2025-01-15T20:00:27.376547Z",
     "start_time": "2025-01-15T20:00:27.174433Z"
    }
   }
  },
  {
   "cell_type": "code",
   "execution_count": 2,
   "outputs": [],
   "source": [
    "class RestaurantReviewClassifier:\n",
    "    def __init__(self, model='logistic_regression'):\n",
    "        self.tfidf_vectorizer = TfidfVectorizer(\n",
    "            stop_words='english',\n",
    "            max_features=5000,\n",
    "            ngram_range=(1, 2)\n",
    "        )\n",
    "        self.label_encoders = {\n",
    "            'food': LabelEncoder(),\n",
    "            'service': LabelEncoder(),\n",
    "            'atmosphere': LabelEncoder()\n",
    "        }\n",
    "\n",
    "        # Initialize classifier based on input model\n",
    "        if model == 'logistic_regression':\n",
    "            base_classifier = LogisticRegression(max_iter=1000)\n",
    "        elif model == 'random_forest':\n",
    "            base_classifier = RandomForestClassifier(n_estimators=100, random_state=42)\n",
    "        elif model == 'svm':\n",
    "            base_classifier = SVC(probability=True, kernel='linear')\n",
    "        else:\n",
    "            raise ValueError(\"Model not supported. Choose from 'logistic_regression', 'random_forest', 'svm'.\")\n",
    "\n",
    "        self.classifier = MultiOutputClassifier(base_classifier)\n",
    "\n",
    "    def preprocess_data(self, df):\n",
    "        # Drop rows with NaN in text column\n",
    "        df = df.dropna(subset=['text'])\n",
    "\n",
    "        # Fill NaN in categorical columns with 'None'\n",
    "        columns = ['food', 'service', 'atmosphere']\n",
    "        for col in columns:\n",
    "            if col not in df.columns:\n",
    "                df[col] = 'None'\n",
    "            df.loc[:, col] = df[col].fillna('None')\n",
    "\n",
    "        return df\n",
    "\n",
    "    def train(self, df):\n",
    "        # Preprocess data\n",
    "        df = self.preprocess_data(df)\n",
    "\n",
    "        # Vectorize text\n",
    "        X = self.tfidf_vectorizer.fit_transform(df['text'].astype(str))\n",
    "\n",
    "        # Encode labels dynamically\n",
    "        y_dict = {}\n",
    "        for col in ['food', 'service', 'atmosphere']:\n",
    "            unique_labels = df[col].unique()\n",
    "            self.label_encoders[col].fit(unique_labels)\n",
    "            y_dict[col] = self.label_encoders[col].transform(df[col])\n",
    "\n",
    "        y = pd.DataFrame(y_dict)\n",
    "\n",
    "        # Split data\n",
    "        X_train, X_test, y_train, y_test = train_test_split(\n",
    "            X, y, test_size=0.2, random_state=42\n",
    "        )\n",
    "\n",
    "        # Train classifier\n",
    "        self.classifier.fit(X_train, y_train)\n",
    "\n",
    "        # Predict\n",
    "        y_pred = self.classifier.predict(X_test)\n",
    "\n",
    "        # Evaluate\n",
    "        print(\"\\nModel Performance Metrics:\")\n",
    "        for i, col in enumerate(['food', 'service', 'atmosphere']):\n",
    "            print(f\"\\n{col.capitalize()} Classification:\")\n",
    "            classes = self.label_encoders[col].classes_\n",
    "\n",
    "            accuracy = accuracy_score(y_test.iloc[:, i], y_pred[:, i])\n",
    "            print(f\"Accuracy: {accuracy:.2%}\")\n",
    "\n",
    "            print(classification_report(\n",
    "                y_test.iloc[:, i],\n",
    "                y_pred[:, i],\n",
    "                labels=range(len(classes)),\n",
    "                target_names=classes\n",
    "            ))\n",
    "\n",
    "    def predict(self, texts):\n",
    "        # Convert texts to strings and handle potential NaN\n",
    "        texts = [str(text) if pd.notna(text) else '' for text in texts]\n",
    "\n",
    "        # Vectorize input\n",
    "        X = self.tfidf_vectorizer.transform(texts)\n",
    "\n",
    "        # Predict\n",
    "        predictions = self.classifier.predict(X)\n",
    "\n",
    "        # Decode predictions\n",
    "        results = []\n",
    "        for pred in predictions:\n",
    "            result = {\n",
    "                col: self.label_encoders[col].inverse_transform([p])[0]\n",
    "                for col, p in zip(['food', 'service', 'atmosphere'], pred)\n",
    "            }\n",
    "            results.append(result)\n",
    "\n",
    "        return results\n"
   ],
   "metadata": {
    "collapsed": false,
    "ExecuteTime": {
     "end_time": "2025-01-15T20:00:27.385039Z",
     "start_time": "2025-01-15T20:00:27.382953Z"
    }
   }
  },
  {
   "cell_type": "code",
   "execution_count": 3,
   "outputs": [],
   "source": [
    "# Logistic Regression\n",
    "classifier_lr = RestaurantReviewClassifier(model='logistic_regression')\n",
    "\n",
    "# Random Forest\n",
    "classifier_rf = RestaurantReviewClassifier(model='random_forest')\n",
    "\n",
    "# Support Vector Machine\n",
    "classifier_svm = RestaurantReviewClassifier(model='svm')\n"
   ],
   "metadata": {
    "collapsed": false,
    "ExecuteTime": {
     "end_time": "2025-01-15T20:00:27.391232Z",
     "start_time": "2025-01-15T20:00:27.385896Z"
    }
   }
  },
  {
   "cell_type": "code",
   "execution_count": 4,
   "outputs": [
    {
     "name": "stderr",
     "output_type": "stream",
     "text": [
      "C:\\Users\\SEBAST~1\\AppData\\Local\\Temp/ipykernel_18484/1378635224.py:35: SettingWithCopyWarning: \n",
      "A value is trying to be set on a copy of a slice from a DataFrame.\n",
      "Try using .loc[row_indexer,col_indexer] = value instead\n",
      "\n",
      "See the caveats in the documentation: https://pandas.pydata.org/pandas-docs/stable/user_guide/indexing.html#returning-a-view-versus-a-copy\n",
      "  df.loc[:, col] = df[col].fillna('None')\n"
     ]
    },
    {
     "name": "stdout",
     "output_type": "stream",
     "text": [
      "\n",
      "Model Performance Metrics:\n",
      "\n",
      "Food Classification:\n",
      "Accuracy: 68.10%\n",
      "              precision    recall  f1-score   support\n",
      "\n",
      "    Negative       0.69      0.33      0.45        66\n",
      "        None       1.00      0.04      0.07        27\n",
      "    Positive       0.68      0.97      0.80       139\n",
      "\n",
      "    accuracy                           0.68       232\n",
      "   macro avg       0.79      0.45      0.44       232\n",
      "weighted avg       0.72      0.68      0.61       232\n",
      "\n",
      "\n",
      "Service Classification:\n",
      "Accuracy: 71.98%\n",
      "              precision    recall  f1-score   support\n",
      "\n",
      "    Negative       0.79      0.55      0.65        62\n",
      "        None       0.66      0.77      0.71        87\n",
      "    Positive       0.75      0.80      0.77        83\n",
      "\n",
      "    accuracy                           0.72       232\n",
      "   macro avg       0.73      0.70      0.71       232\n",
      "weighted avg       0.73      0.72      0.72       232\n",
      "\n",
      "\n",
      "Atmosphere Classification:\n",
      "Accuracy: 77.59%\n",
      "              precision    recall  f1-score   support\n",
      "\n",
      "    Negative       0.00      0.00      0.00        20\n",
      "        None       0.76      0.97      0.85       150\n",
      "    Positive       0.85      0.55      0.67        62\n",
      "\n",
      "    accuracy                           0.78       232\n",
      "   macro avg       0.54      0.51      0.51       232\n",
      "weighted avg       0.72      0.78      0.73       232\n",
      "\n"
     ]
    },
    {
     "name": "stderr",
     "output_type": "stream",
     "text": [
      "C:\\Users\\Sebastian\\AppData\\Local\\Programs\\Python\\Python39\\lib\\site-packages\\sklearn\\metrics\\_classification.py:1327: UndefinedMetricWarning: Precision and F-score are ill-defined and being set to 0.0 in labels with no predicted samples. Use `zero_division` parameter to control this behavior.\n",
      "  _warn_prf(average, modifier, msg_start, len(result))\n",
      "C:\\Users\\Sebastian\\AppData\\Local\\Programs\\Python\\Python39\\lib\\site-packages\\sklearn\\metrics\\_classification.py:1327: UndefinedMetricWarning: Precision and F-score are ill-defined and being set to 0.0 in labels with no predicted samples. Use `zero_division` parameter to control this behavior.\n",
      "  _warn_prf(average, modifier, msg_start, len(result))\n",
      "C:\\Users\\Sebastian\\AppData\\Local\\Programs\\Python\\Python39\\lib\\site-packages\\sklearn\\metrics\\_classification.py:1327: UndefinedMetricWarning: Precision and F-score are ill-defined and being set to 0.0 in labels with no predicted samples. Use `zero_division` parameter to control this behavior.\n",
      "  _warn_prf(average, modifier, msg_start, len(result))\n",
      "C:\\Users\\SEBAST~1\\AppData\\Local\\Temp/ipykernel_18484/1378635224.py:35: SettingWithCopyWarning: \n",
      "A value is trying to be set on a copy of a slice from a DataFrame.\n",
      "Try using .loc[row_indexer,col_indexer] = value instead\n",
      "\n",
      "See the caveats in the documentation: https://pandas.pydata.org/pandas-docs/stable/user_guide/indexing.html#returning-a-view-versus-a-copy\n",
      "  df.loc[:, col] = df[col].fillna('None')\n"
     ]
    },
    {
     "name": "stdout",
     "output_type": "stream",
     "text": [
      "\n",
      "Model Performance Metrics:\n",
      "\n",
      "Food Classification:\n",
      "Accuracy: 67.67%\n",
      "              precision    recall  f1-score   support\n",
      "\n",
      "    Negative       0.64      0.24      0.35        66\n",
      "        None       0.71      0.19      0.29        27\n",
      "    Positive       0.68      0.98      0.80       139\n",
      "\n",
      "    accuracy                           0.68       232\n",
      "   macro avg       0.68      0.47      0.48       232\n",
      "weighted avg       0.67      0.68      0.61       232\n",
      "\n",
      "\n",
      "Service Classification:\n",
      "Accuracy: 70.26%\n",
      "              precision    recall  f1-score   support\n",
      "\n",
      "    Negative       0.69      0.39      0.49        62\n",
      "        None       0.78      0.79      0.78        87\n",
      "    Positive       0.65      0.84      0.73        83\n",
      "\n",
      "    accuracy                           0.70       232\n",
      "   macro avg       0.70      0.67      0.67       232\n",
      "weighted avg       0.71      0.70      0.69       232\n",
      "\n",
      "\n",
      "Atmosphere Classification:\n",
      "Accuracy: 78.45%\n",
      "              precision    recall  f1-score   support\n",
      "\n",
      "    Negative       0.00      0.00      0.00        20\n",
      "        None       0.79      0.96      0.86       150\n",
      "    Positive       0.78      0.61      0.68        62\n",
      "\n",
      "    accuracy                           0.78       232\n",
      "   macro avg       0.52      0.52      0.52       232\n",
      "weighted avg       0.72      0.78      0.74       232\n",
      "\n"
     ]
    },
    {
     "name": "stderr",
     "output_type": "stream",
     "text": [
      "C:\\Users\\Sebastian\\AppData\\Local\\Programs\\Python\\Python39\\lib\\site-packages\\sklearn\\metrics\\_classification.py:1327: UndefinedMetricWarning: Precision and F-score are ill-defined and being set to 0.0 in labels with no predicted samples. Use `zero_division` parameter to control this behavior.\n",
      "  _warn_prf(average, modifier, msg_start, len(result))\n",
      "C:\\Users\\Sebastian\\AppData\\Local\\Programs\\Python\\Python39\\lib\\site-packages\\sklearn\\metrics\\_classification.py:1327: UndefinedMetricWarning: Precision and F-score are ill-defined and being set to 0.0 in labels with no predicted samples. Use `zero_division` parameter to control this behavior.\n",
      "  _warn_prf(average, modifier, msg_start, len(result))\n",
      "C:\\Users\\Sebastian\\AppData\\Local\\Programs\\Python\\Python39\\lib\\site-packages\\sklearn\\metrics\\_classification.py:1327: UndefinedMetricWarning: Precision and F-score are ill-defined and being set to 0.0 in labels with no predicted samples. Use `zero_division` parameter to control this behavior.\n",
      "  _warn_prf(average, modifier, msg_start, len(result))\n",
      "C:\\Users\\SEBAST~1\\AppData\\Local\\Temp/ipykernel_18484/1378635224.py:35: SettingWithCopyWarning: \n",
      "A value is trying to be set on a copy of a slice from a DataFrame.\n",
      "Try using .loc[row_indexer,col_indexer] = value instead\n",
      "\n",
      "See the caveats in the documentation: https://pandas.pydata.org/pandas-docs/stable/user_guide/indexing.html#returning-a-view-versus-a-copy\n",
      "  df.loc[:, col] = df[col].fillna('None')\n"
     ]
    },
    {
     "name": "stdout",
     "output_type": "stream",
     "text": [
      "\n",
      "Model Performance Metrics:\n",
      "\n",
      "Food Classification:\n",
      "Accuracy: 71.12%\n",
      "              precision    recall  f1-score   support\n",
      "\n",
      "    Negative       0.67      0.47      0.55        66\n",
      "        None       0.75      0.11      0.19        27\n",
      "    Positive       0.72      0.94      0.82       139\n",
      "\n",
      "    accuracy                           0.71       232\n",
      "   macro avg       0.71      0.51      0.52       232\n",
      "weighted avg       0.71      0.71      0.67       232\n",
      "\n",
      "\n",
      "Service Classification:\n",
      "Accuracy: 72.41%\n",
      "              precision    recall  f1-score   support\n",
      "\n",
      "    Negative       0.74      0.60      0.66        62\n",
      "        None       0.68      0.75      0.71        87\n",
      "    Positive       0.77      0.80      0.78        83\n",
      "\n",
      "    accuracy                           0.72       232\n",
      "   macro avg       0.73      0.71      0.72       232\n",
      "weighted avg       0.73      0.72      0.72       232\n",
      "\n",
      "\n",
      "Atmosphere Classification:\n",
      "Accuracy: 77.59%\n",
      "              precision    recall  f1-score   support\n",
      "\n",
      "    Negative       0.00      0.00      0.00        20\n",
      "        None       0.79      0.93      0.86       150\n",
      "    Positive       0.73      0.65      0.68        62\n",
      "\n",
      "    accuracy                           0.78       232\n",
      "   macro avg       0.51      0.53      0.51       232\n",
      "weighted avg       0.71      0.78      0.74       232\n",
      "\n"
     ]
    },
    {
     "name": "stderr",
     "output_type": "stream",
     "text": [
      "C:\\Users\\Sebastian\\AppData\\Local\\Programs\\Python\\Python39\\lib\\site-packages\\sklearn\\metrics\\_classification.py:1327: UndefinedMetricWarning: Precision and F-score are ill-defined and being set to 0.0 in labels with no predicted samples. Use `zero_division` parameter to control this behavior.\n",
      "  _warn_prf(average, modifier, msg_start, len(result))\n",
      "C:\\Users\\Sebastian\\AppData\\Local\\Programs\\Python\\Python39\\lib\\site-packages\\sklearn\\metrics\\_classification.py:1327: UndefinedMetricWarning: Precision and F-score are ill-defined and being set to 0.0 in labels with no predicted samples. Use `zero_division` parameter to control this behavior.\n",
      "  _warn_prf(average, modifier, msg_start, len(result))\n",
      "C:\\Users\\Sebastian\\AppData\\Local\\Programs\\Python\\Python39\\lib\\site-packages\\sklearn\\metrics\\_classification.py:1327: UndefinedMetricWarning: Precision and F-score are ill-defined and being set to 0.0 in labels with no predicted samples. Use `zero_division` parameter to control this behavior.\n",
      "  _warn_prf(average, modifier, msg_start, len(result))\n"
     ]
    }
   ],
   "source": [
    "df = pd.read_csv('../raw_data/clean_data.csv')  # Load your dataset\n",
    "\n",
    "df_low_score = df[df['rating'] < 5]\n",
    "\n",
    "# Sample 500 reviews with a score of 5\n",
    "df_score_5_sample = df[df['rating'] == 5].sample(n=300, random_state=42)\n",
    "\n",
    "# Combine the two DataFrames\n",
    "df_filtered = pd.concat([df_low_score, df_score_5_sample])\n",
    "\n",
    "# Reset the index if needed\n",
    "df_filtered.reset_index(drop=True, inplace=True)\n",
    "\n",
    "df = df_filtered\n",
    "\n",
    "# Train using Logistic Regression\n",
    "classifier_lr.train(df)\n",
    "\n",
    "# Train using Random Forest\n",
    "classifier_rf.train(df)\n",
    "\n",
    "# Train using SVM\n",
    "classifier_svm.train(df)\n"
   ],
   "metadata": {
    "collapsed": false,
    "ExecuteTime": {
     "end_time": "2025-01-15T20:00:32.358035Z",
     "start_time": "2025-01-15T20:00:27.391550Z"
    }
   }
  },
  {
   "cell_type": "code",
   "execution_count": 5,
   "outputs": [
    {
     "name": "stdout",
     "output_type": "stream",
     "text": [
      "Cudowna obsługa , pani dokładnie sprawdzająca każde danie pod względem alergii córki , życzliwość i uśmiech Pani kelnerki . Górale i muzyka tworząca  niesamowitą swojską atmosferę .  Dania bardzo smaczne , porcje ogromne , ceny przystępne . Wrócimy na 100% Dziękujemy jeszcze raz 🥰…\n",
      "Logistic Regression Predictions: {'food': 'Positive', 'service': 'Positive', 'atmosphere': 'None'}\n",
      "\n",
      "\n",
      "Jedliśmy żurek barszcz z uszkami placek po zbójnicku z zestawem surówek i margaritte. Żurek znośny za to barszcz był obrzydliwy do tego uszka były rozgotowane i pokaleczone o kwaśnym smaku. Placek był bez smaku a margarita to wiór do pizzy można dostać co najwyżej ketchup. Bukiet podobno 3 surówek to mały talerzyk od espresso.\n",
      "Logistic Regression Predictions: {'food': 'Negative', 'service': 'None', 'atmosphere': 'None'}\n",
      "\n",
      "\n",
      "Byłem w tym miejscu pierwszy raz ok 10 lat temu i wtedy w tej restauracji było mnóstwo ludzi, pyszne jedzenie w ogromnych porcjach i widać było że knajpa żyje 😊 teraz małe porcje , drogo i niczym nie wyróżniające się jedzenie, trzeba długo czekać na obsługę. Klimat poprawia jedynie Muzyka na Żywo.…\n",
      "Logistic Regression Predictions: {'food': 'Positive', 'service': 'None', 'atmosphere': 'None'}\n",
      "\n",
      "\n",
      "Zestaw dnia za 37 zł myślę że cena bardzo dobra\r\n",
      "Co do samego jedzenia to kwaśnica trochę słaba spodziewałem się lepszych doznań smakowych co do niej :/…\n",
      "Logistic Regression Predictions: {'food': 'Positive', 'service': 'None', 'atmosphere': 'None'}\n",
      "\n",
      "\n",
      "Miałem okazję być pierwszy raz w tej restauracji, niestety późną porą. Na kartę i podejście obsługi czekałem chyba z 20 minut.  Myślałem, że to kwestia późnej por i zmęczenia. Jednak później poczytałem komentarze i okazała się, że tam to…\n",
      "Logistic Regression Predictions: {'food': 'Positive', 'service': 'Negative', 'atmosphere': 'None'}\n",
      "\n",
      "\n"
     ]
    }
   ],
   "source": [
    "# load test_data_reviews\n",
    "test_data = pd.read_csv('../test_data_reviews/2_9_review.csv')    \n",
    "\n",
    "# Predict using Logistic Regression\n",
    "predictions_lr = classifier_lr.predict(test_data['text'][0:5])\n",
    "#print review text and predicted ratings\n",
    "for i in range(5):\n",
    "    print(test_data['wiI7pd'][i])\n",
    "    print(\"Logistic Regression Predictions:\", predictions_lr[i])\n",
    "    print(\"\\n\")"
   ],
   "metadata": {
    "collapsed": false,
    "ExecuteTime": {
     "end_time": "2025-01-15T20:00:32.367065Z",
     "start_time": "2025-01-15T20:00:32.358456Z"
    }
   }
  },
  {
   "cell_type": "code",
   "execution_count": 6,
   "outputs": [
    {
     "name": "stdout",
     "output_type": "stream",
     "text": [
      "Cudowna obsługa , pani dokładnie sprawdzająca każde danie pod względem alergii córki , życzliwość i uśmiech Pani kelnerki . Górale i muzyka tworząca  niesamowitą swojską atmosferę .  Dania bardzo smaczne , porcje ogromne , ceny przystępne . Wrócimy na 100% Dziękujemy jeszcze raz 🥰…\n",
      "Random Forest Predictions: {'food': 'Positive', 'service': 'Positive', 'atmosphere': 'Positive'}\n",
      "\n",
      "\n",
      "Jedliśmy żurek barszcz z uszkami placek po zbójnicku z zestawem surówek i margaritte. Żurek znośny za to barszcz był obrzydliwy do tego uszka były rozgotowane i pokaleczone o kwaśnym smaku. Placek był bez smaku a margarita to wiór do pizzy można dostać co najwyżej ketchup. Bukiet podobno 3 surówek to mały talerzyk od espresso.\n",
      "Random Forest Predictions: {'food': 'Negative', 'service': 'None', 'atmosphere': 'None'}\n",
      "\n",
      "\n",
      "Byłem w tym miejscu pierwszy raz ok 10 lat temu i wtedy w tej restauracji było mnóstwo ludzi, pyszne jedzenie w ogromnych porcjach i widać było że knajpa żyje 😊 teraz małe porcje , drogo i niczym nie wyróżniające się jedzenie, trzeba długo czekać na obsługę. Klimat poprawia jedynie Muzyka na Żywo.…\n",
      "Random Forest Predictions: {'food': 'Positive', 'service': 'Positive', 'atmosphere': 'None'}\n",
      "\n",
      "\n",
      "Zestaw dnia za 37 zł myślę że cena bardzo dobra\r\n",
      "Co do samego jedzenia to kwaśnica trochę słaba spodziewałem się lepszych doznań smakowych co do niej :/…\n",
      "Random Forest Predictions: {'food': 'Positive', 'service': 'None', 'atmosphere': 'None'}\n",
      "\n",
      "\n",
      "Miałem okazję być pierwszy raz w tej restauracji, niestety późną porą. Na kartę i podejście obsługi czekałem chyba z 20 minut.  Myślałem, że to kwestia późnej por i zmęczenia. Jednak później poczytałem komentarze i okazała się, że tam to…\n",
      "Random Forest Predictions: {'food': 'Positive', 'service': 'Negative', 'atmosphere': 'None'}\n",
      "\n",
      "\n"
     ]
    }
   ],
   "source": [
    "# Predict using Random Forest\n",
    "predictions_rf = classifier_rf.predict(test_data['text'][0:5])\n",
    "#print review text and predicted ratings\n",
    "for i in range(5):\n",
    "    print(test_data['wiI7pd'][i])\n",
    "    print(\"Random Forest Predictions:\", predictions_rf[i])\n",
    "    print(\"\\n\")"
   ],
   "metadata": {
    "collapsed": false,
    "ExecuteTime": {
     "end_time": "2025-01-15T20:00:32.380747Z",
     "start_time": "2025-01-15T20:00:32.369958Z"
    }
   }
  },
  {
   "cell_type": "code",
   "execution_count": 7,
   "outputs": [
    {
     "name": "stdout",
     "output_type": "stream",
     "text": [
      "Cudowna obsługa , pani dokładnie sprawdzająca każde danie pod względem alergii córki , życzliwość i uśmiech Pani kelnerki . Górale i muzyka tworząca  niesamowitą swojską atmosferę .  Dania bardzo smaczne , porcje ogromne , ceny przystępne . Wrócimy na 100% Dziękujemy jeszcze raz 🥰…\n",
      "SVM Predictions: {'food': 'Positive', 'service': 'Positive', 'atmosphere': 'None'}\n",
      "\n",
      "\n",
      "Jedliśmy żurek barszcz z uszkami placek po zbójnicku z zestawem surówek i margaritte. Żurek znośny za to barszcz był obrzydliwy do tego uszka były rozgotowane i pokaleczone o kwaśnym smaku. Placek był bez smaku a margarita to wiór do pizzy można dostać co najwyżej ketchup. Bukiet podobno 3 surówek to mały talerzyk od espresso.\n",
      "SVM Predictions: {'food': 'Negative', 'service': 'None', 'atmosphere': 'None'}\n",
      "\n",
      "\n",
      "Byłem w tym miejscu pierwszy raz ok 10 lat temu i wtedy w tej restauracji było mnóstwo ludzi, pyszne jedzenie w ogromnych porcjach i widać było że knajpa żyje 😊 teraz małe porcje , drogo i niczym nie wyróżniające się jedzenie, trzeba długo czekać na obsługę. Klimat poprawia jedynie Muzyka na Żywo.…\n",
      "SVM Predictions: {'food': 'Positive', 'service': 'None', 'atmosphere': 'None'}\n",
      "\n",
      "\n",
      "Zestaw dnia za 37 zł myślę że cena bardzo dobra\r\n",
      "Co do samego jedzenia to kwaśnica trochę słaba spodziewałem się lepszych doznań smakowych co do niej :/…\n",
      "SVM Predictions: {'food': 'Positive', 'service': 'None', 'atmosphere': 'None'}\n",
      "\n",
      "\n",
      "Miałem okazję być pierwszy raz w tej restauracji, niestety późną porą. Na kartę i podejście obsługi czekałem chyba z 20 minut.  Myślałem, że to kwestia późnej por i zmęczenia. Jednak później poczytałem komentarze i okazała się, że tam to…\n",
      "SVM Predictions: {'food': 'Positive', 'service': 'Negative', 'atmosphere': 'None'}\n",
      "\n",
      "\n"
     ]
    }
   ],
   "source": [
    "# Predict using SVM\n",
    "predictions_svm = classifier_svm.predict(test_data['text'][0:5])\n",
    "#print review text and predicted ratings\n",
    "for i in range(5):\n",
    "    print(test_data['wiI7pd'][i])\n",
    "    print(\"SVM Predictions:\", predictions_svm[i])\n",
    "    print(\"\\n\")"
   ],
   "metadata": {
    "collapsed": false,
    "ExecuteTime": {
     "end_time": "2025-01-15T20:00:32.428957Z",
     "start_time": "2025-01-15T20:00:32.381395Z"
    }
   }
  },
  {
   "cell_type": "code",
   "execution_count": 8,
   "outputs": [],
   "source": [
    "from sklearn import metrics\n",
    "import seaborn as sns\n",
    "import matplotlib.pyplot as plt"
   ],
   "metadata": {
    "collapsed": false,
    "ExecuteTime": {
     "end_time": "2025-01-15T20:00:32.429516Z",
     "start_time": "2025-01-15T20:00:32.387791Z"
    }
   }
  },
  {
   "cell_type": "code",
   "execution_count": 9,
   "outputs": [],
   "source": [
    "def show_confusion_matrices(matrices, classifier_name, labels=None, categories_names = [\"food\",\"service\",\"atmosphere\"]):\n",
    "    num_matrices = len(matrices)\n",
    "    fig, axes = plt.subplots(1, num_matrices, figsize=(6 * num_matrices, 6))\n",
    "\n",
    "    for i, matrix in enumerate(matrices):\n",
    "        ax = axes[i] if num_matrices > 1 else axes\n",
    "        num_classes = matrix.shape[0]\n",
    "\n",
    "        if labels is None:\n",
    "            labels = [str(j) for j in range(num_classes)]\n",
    "\n",
    "        sns.heatmap(matrix,\n",
    "                    cmap='coolwarm',\n",
    "                    linecolor='white',\n",
    "                    linewidths=1,\n",
    "                    xticklabels=labels[0:num_classes],\n",
    "                    yticklabels=labels[0:num_classes],\n",
    "                    annot=True,\n",
    "                    fmt='d',\n",
    "                    ax=ax)\n",
    "\n",
    "        ax.set_title(f'Confusion Matrix {categories_names[i]}')\n",
    "        ax.set_ylabel('True Label')\n",
    "        ax.set_xlabel('Predicted Label')\n",
    "        ax.yaxis.set_tick_params(rotation=0)\n",
    "    fig.suptitle(f\"{classifier_name}\", fontsize=16)\n",
    "    plt.tight_layout()\n",
    "    plt.show()"
   ],
   "metadata": {
    "collapsed": false,
    "ExecuteTime": {
     "end_time": "2025-01-15T20:00:32.429896Z",
     "start_time": "2025-01-15T20:00:32.391841Z"
    }
   }
  },
  {
   "cell_type": "code",
   "execution_count": 10,
   "outputs": [],
   "source": [
    "def compute_and_show_confusion_matrix(validations, predictions, classifier_name):\n",
    "    matrices = [metrics.confusion_matrix(validations[i], predictions[i]) for i in range(len(validations))]\n",
    "    show_confusion_matrices(matrices,classifier_name, labels = [\"Negative\",\"None\",\"Positive\"])\n",
    "\n",
    "\n",
    "food_validation =  df['food'].fillna('None').tolist()\n",
    "service_validation = df['service'].fillna('None').tolist()\n",
    "atmosphere_validation = df['atmosphere'].fillna('None').tolist()"
   ],
   "metadata": {
    "collapsed": false,
    "ExecuteTime": {
     "end_time": "2025-01-15T20:00:32.430133Z",
     "start_time": "2025-01-15T20:00:32.395878Z"
    }
   }
  },
  {
   "cell_type": "code",
   "execution_count": 11,
   "outputs": [
    {
     "data": {
      "text/plain": "<Figure size 1296x432 with 6 Axes>",
      "image/png": "[encoded data removed]"
     },
     "metadata": {
      "needs_background": "light"
     },
     "output_type": "display_data"
    },
    {
     "data": {
      "text/plain": "<Figure size 1296x432 with 6 Axes>",
      "image/png": "[encoded data removed]"
     },
     "metadata": {
      "needs_background": "light"
     },
     "output_type": "display_data"
    },
    {
     "data": {
      "text/plain": "<Figure size 1296x432 with 6 Axes>",
      "image/png": "[encoded data removed]"
     },
     "metadata": {
      "needs_background": "light"
     },
     "output_type": "display_data"
    }
   ],
   "source": [
    "def create_predicions_to_list(classifier):\n",
    "    predictions = classifier.predict(df['text'])\n",
    "    preditions_food = [pred[\"food\"] for pred in predictions]\n",
    "    preditions_service = [pred[\"service\"] for pred in predictions]\n",
    "    preditions_atmosphere = [pred[\"atmosphere\"] for pred in predictions]\n",
    "    return preditions_food, preditions_service, preditions_atmosphere\n",
    "\n",
    "labels_to_classificators = [\"Linear regresion\", \"Random Forest\", \"SVM\"]\n",
    "classi_list = [classifier_lr,classifier_rf,classifier_svm]\n",
    "for i in range(3):\n",
    "    pred= create_predicions_to_list(classi_list[i])\n",
    "    validation = [food_validation,service_validation,atmosphere_validation]\n",
    "    compute_and_show_confusion_matrix(validation,pred,  labels_to_classificators[i])"
   ],
   "metadata": {
    "collapsed": false,
    "ExecuteTime": {
     "end_time": "2025-01-15T20:00:34.826430Z",
     "start_time": "2025-01-15T20:00:32.433172Z"
    }
   }
  },
  {
   "cell_type": "code",
   "execution_count": 12,
   "outputs": [
    {
     "name": "stdout",
     "output_type": "stream",
     "text": [
      "0 -1.191828917969997 -0.06526228831061545\n",
      "{'food': {'None': 0.0, 'Positive': 64.56, 'Negative': 35.44}, 'service': {'None': 62.66, 'Positive': 12.66, 'Negative': 24.68}, 'atmosphere': {'None': 96.84, 'Positive': 3.16, 'Negative': 0.0}}\n",
      "0 -1.2245687570530388 -0.10659363808721298\n",
      "{'food': {'None': 3.8, 'Positive': 75.32, 'Negative': 20.89}, 'service': {'None': 62.03, 'Positive': 18.99, 'Negative': 18.99}, 'atmosphere': {'None': 94.94, 'Positive': 5.06, 'Negative': 0.0}}\n",
      "0 -1.2916392363396973 -0.0787941787941788\n",
      "{'food': {'None': 1.9, 'Positive': 51.27, 'Negative': 46.84}, 'service': {'None': 60.76, 'Positive': 10.76, 'Negative': 28.48}, 'atmosphere': {'None': 96.2, 'Positive': 3.16, 'Negative': 0.63}}\n",
      "0 -1.8993955936829792 -0.23838836038052605\n",
      "{'food': {'None': 1.61, 'Positive': 71.94, 'Negative': 26.45}, 'service': {'None': 51.29, 'Positive': 24.84, 'Negative': 23.87}, 'atmosphere': {'None': 89.35, 'Positive': 10.65, 'Negative': 0.0}}\n",
      "0 0 -0.41254523522316044\n",
      "{'food': {'None': 5.48, 'Positive': 77.1, 'Negative': 17.42}, 'service': {'None': 46.77, 'Positive': 34.52, 'Negative': 18.71}, 'atmosphere': {'None': 82.9, 'Positive': 17.1, 'Negative': 0.0}}\n",
      "0 0 -0.38464289972576604\n",
      "{'food': {'None': 4.84, 'Positive': 59.68, 'Negative': 35.48}, 'service': {'None': 45.48, 'Positive': 22.9, 'Negative': 31.61}, 'atmosphere': {'None': 83.87, 'Positive': 15.81, 'Negative': 0.32}}\n",
      "0 -1.903962521959789 -0.49221183800623053\n",
      "{'food': {'None': 0.62, 'Positive': 82.72, 'Negative': 16.67}, 'service': {'None': 51.23, 'Positive': 32.72, 'Negative': 16.05}, 'atmosphere': {'None': 80.25, 'Positive': 19.75, 'Negative': 0.0}}\n",
      "0 0 -0.43605359317904996\n",
      "{'food': {'None': 6.79, 'Positive': 79.01, 'Negative': 14.2}, 'service': {'None': 48.15, 'Positive': 39.51, 'Negative': 12.35}, 'atmosphere': {'None': 82.1, 'Positive': 17.9, 'Negative': 0.0}}\n",
      "0 0 -0.6556898154295578\n",
      "{'food': {'None': 2.47, 'Positive': 71.6, 'Negative': 25.93}, 'service': {'None': 48.15, 'Positive': 32.1, 'Negative': 19.75}, 'atmosphere': {'None': 75.31, 'Positive': 24.69, 'Negative': 0.0}}\n",
      "0 0 -1.403096818104475\n",
      "{'food': {'None': 0.0, 'Positive': 97.49, 'Negative': 2.51}, 'service': {'None': 37.05, 'Positive': 60.45, 'Negative': 2.51}, 'atmosphere': {'None': 58.77, 'Positive': 41.23, 'Negative': 0.0}}\n",
      "0 0 -1.0165912518853697\n",
      "{'food': {'None': 1.11, 'Positive': 96.94, 'Negative': 1.95}, 'service': {'None': 39.28, 'Positive': 56.55, 'Negative': 4.18}, 'atmosphere': {'None': 66.3, 'Positive': 33.7, 'Negative': 0.0}}\n",
      "0 0 -1.9238767902687857\n",
      "{'food': {'None': 0.0, 'Positive': 96.38, 'Negative': 3.62}, 'service': {'None': 34.82, 'Positive': 61.0, 'Negative': 4.18}, 'atmosphere': {'None': 50.97, 'Positive': 49.03, 'Negative': 0.0}}\n",
      "              File           Classifier  Food_Rating  Service_Rating  \\\n",
      "0   2_4_review.csv  Logistic Regression       3.5824         2.46088   \n",
      "1   2_4_review.csv        Random Forest       4.0886         2.69616   \n",
      "2   2_4_review.csv                  SVM       3.0886         2.33168   \n",
      "3   2_9_review.csv  Logistic Regression       3.9098         2.62972   \n",
      "4   2_9_review.csv        Random Forest       4.1936         3.31620   \n",
      "5   2_9_review.csv                  SVM       3.4840         2.82580   \n",
      "6   3_4_review.csv  Logistic Regression       4.3210         2.94324   \n",
      "7   3_4_review.csv        Random Forest       4.2962         3.54320   \n",
      "8   3_4_review.csv                  SVM       3.9134         3.24700   \n",
      "9   4_7_review.csv  Logistic Regression       4.8996         4.15880   \n",
      "10  4_7_review.csv        Random Forest       4.8998         4.04740   \n",
      "11  4_7_review.csv                  SVM       4.8552         4.13640   \n",
      "\n",
      "    Atmosphere_Rating  Average_Rating  \n",
      "0             3.03792             3.0  \n",
      "1             3.06072             3.3  \n",
      "2             3.02028             2.8  \n",
      "3             3.12780             3.2  \n",
      "4             3.20520             3.6  \n",
      "5             3.18076             3.2  \n",
      "6             3.23700             3.5  \n",
      "7             3.21480             3.7  \n",
      "8             3.29628             3.5  \n",
      "9             3.49476             4.2  \n",
      "10            3.40440             4.1  \n",
      "11            3.58836             4.2  \n"
     ]
    }
   ],
   "source": [
    "def adjusted_weight(none, positive, negative):\n",
    "    total = positive + negative\n",
    "    if none > total:\n",
    "        factor = (total / none) *(-2)  if none > -2 else -2\n",
    "        return factor\n",
    "    return 0\n",
    "\n",
    "def Final_Rating(reviews_path,classifier):\n",
    "    test_data = pd.read_csv(reviews_path)\n",
    "\n",
    "    predictions = classifier.predict(test_data['text'])\n",
    "\n",
    "    total_amount_of_predicions = len(predictions)\n",
    "    Ratings = \\\n",
    "        {\n",
    "            \"food\":{\n",
    "                'None':0 ,'Positive':0,'Negative':0\n",
    "            },\n",
    "            \"service\":{\n",
    "                'None':0 ,'Positive':0,'Negative':0\n",
    "            },\n",
    "            \"atmosphere\":{\n",
    "                'None':0 ,'Positive':0,'Negative':0\n",
    "            }\n",
    "        }\n",
    "    # print(Ratings)\n",
    "\n",
    "    for i in predictions:\n",
    "        for aspect in [\"food\",\"service\",\"atmosphere\"]:\n",
    "            Ratings[aspect][i[aspect]] += 1\n",
    "\n",
    "    for aspect in Ratings:\n",
    "        for rate in Ratings[aspect]:\n",
    "            Ratings[aspect][rate] =  round(Ratings[aspect][rate]/total_amount_of_predicions*100,2)\n",
    "\n",
    "    food_weight = adjusted_weight(Ratings[\"food\"]['None'], Ratings[\"food\"]['Positive'], Ratings[\"food\"]['Negative'])\n",
    "    service_weight = adjusted_weight(Ratings[\"service\"]['None'], Ratings[\"service\"]['Positive'], Ratings[\"service\"]['Negative'])\n",
    "    atmosphere_weight = adjusted_weight(Ratings[\"atmosphere\"]['None'], Ratings[\"atmosphere\"]['Positive'], Ratings[\"atmosphere\"]['Negative'])\n",
    "\n",
    "    # weight_sum = food_weight + service_weight + atmosphere_weight\n",
    "    # food_weight /= weight_sum\n",
    "    # service_weight /= weight_sum\n",
    "    # atmosphere_weight /= weight_sum\n",
    "\n",
    "    print(food_weight,service_weight, atmosphere_weight)\n",
    "\n",
    "    wages = {'None':0 ,'Positive':5 ,'Negative':-5}\n",
    "\n",
    "    print(Ratings)\n",
    "\n",
    "    a = 4 / (wages['Positive'] - wages['Negative'])\n",
    "\n",
    "    b = 5 - a * wages['Positive']\n",
    "\n",
    "    food_final_score = (Ratings[\"food\"]['None'] * food_weight +\n",
    "                        Ratings[\"food\"]['Positive'] * wages['Positive'] +\n",
    "                        Ratings[\"food\"]['Negative']  * wages['Negative'])/100 *a +b\n",
    "    service_final_score = (Ratings[\"service\"]['None'] *service_weight +\n",
    "                           Ratings[\"service\"]['Positive'] * wages['Positive']\n",
    "                           + Ratings[\"service\"]['Negative'] * wages['Negative'])/100 *a +b\n",
    "    atmosphere_final_score = (Ratings[\"atmosphere\"]['None'] * atmosphere_weight +\n",
    "                              Ratings[\"atmosphere\"]['Positive'] * wages['Positive']\n",
    "                              + Ratings[\"atmosphere\"]['Negative'] * wages['Negative'])/100 *a +b\n",
    "\n",
    "\n",
    "\n",
    "\n",
    "    return food_final_score,service_final_score,atmosphere_final_score,round((food_final_score+service_final_score+atmosphere_final_score)/3,1)\n",
    "\n",
    "\n",
    "files = ['../test_data_reviews/2_4_review.csv',\n",
    "         '../test_data_reviews/2_9_review.csv',\n",
    "         '../test_data_reviews/3_4_review.csv',\n",
    "         '../test_data_reviews/4_7_review.csv']\n",
    "\n",
    "classifiers = {'Logistic Regression': classifier_lr,\n",
    "               'Random Forest': classifier_rf,\n",
    "               'SVM': classifier_svm}\n",
    "\n",
    "results = []\n",
    "for file in files:\n",
    "    file_name = file.split('/')[-1]\n",
    "    for name, clf in classifiers.items():\n",
    "        rating = Final_Rating(file, clf)\n",
    "        results.append({'File': file_name, 'Classifier': name, 'Food_Rating': rating[0], 'Service_Rating': rating[1],\n",
    "                        'Atmosphere_Rating': rating[2], 'Average_Rating': rating[3]})\n",
    "\n",
    "results_df = pd.DataFrame(results)\n",
    "\n",
    "print(results_df)"
   ],
   "metadata": {
    "collapsed": false,
    "ExecuteTime": {
     "end_time": "2025-01-15T20:00:35.646853Z",
     "start_time": "2025-01-15T20:00:34.832492Z"
    }
   }
  },
  {
   "cell_type": "code",
   "execution_count": 13,
   "outputs": [
    {
     "data": {
      "text/plain": "              File           Classifier  Food_Rating  Service_Rating  \\\n0   2_4_review.csv  Logistic Regression       3.5824         2.46088   \n1   2_4_review.csv        Random Forest       4.0886         2.69616   \n2   2_4_review.csv                  SVM       3.0886         2.33168   \n3   2_9_review.csv  Logistic Regression       3.9098         2.62972   \n4   2_9_review.csv        Random Forest       4.1936         3.31620   \n5   2_9_review.csv                  SVM       3.4840         2.82580   \n6   3_4_review.csv  Logistic Regression       4.3210         2.94324   \n7   3_4_review.csv        Random Forest       4.2962         3.54320   \n8   3_4_review.csv                  SVM       3.9134         3.24700   \n9   4_7_review.csv  Logistic Regression       4.8996         4.15880   \n10  4_7_review.csv        Random Forest       4.8998         4.04740   \n11  4_7_review.csv                  SVM       4.8552         4.13640   \n\n    Atmosphere_Rating  Average_Rating  \n0             3.03792             3.0  \n1             3.06072             3.3  \n2             3.02028             2.8  \n3             3.12780             3.2  \n4             3.20520             3.6  \n5             3.18076             3.2  \n6             3.23700             3.5  \n7             3.21480             3.7  \n8             3.29628             3.5  \n9             3.49476             4.2  \n10            3.40440             4.1  \n11            3.58836             4.2  ",
      "text/html": "<div>\n<style scoped>\n    .dataframe tbody tr th:only-of-type {\n        vertical-align: middle;\n    }\n\n    .dataframe tbody tr th {\n        vertical-align: top;\n    }\n\n    .dataframe thead th {\n        text-align: right;\n    }\n</style>\n<table border=\"1\" class=\"dataframe\">\n  <thead>\n    <tr style=\"text-align: right;\">\n      <th></th>\n      <th>File</th>\n      <th>Classifier</th>\n      <th>Food_Rating</th>\n      <th>Service_Rating</th>\n      <th>Atmosphere_Rating</th>\n      <th>Average_Rating</th>\n    </tr>\n  </thead>\n  <tbody>\n    <tr>\n      <th>0</th>\n      <td>2_4_review.csv</td>\n      <td>Logistic Regression</td>\n      <td>3.5824</td>\n      <td>2.46088</td>\n      <td>3.03792</td>\n      <td>3.0</td>\n    </tr>\n    <tr>\n      <th>1</th>\n      <td>2_4_review.csv</td>\n      <td>Random Forest</td>\n      <td>4.0886</td>\n      <td>2.69616</td>\n      <td>3.06072</td>\n      <td>3.3</td>\n    </tr>\n    <tr>\n      <th>2</th>\n      <td>2_4_review.csv</td>\n      <td>SVM</td>\n      <td>3.0886</td>\n      <td>2.33168</td>\n      <td>3.02028</td>\n      <td>2.8</td>\n    </tr>\n    <tr>\n      <th>3</th>\n      <td>2_9_review.csv</td>\n      <td>Logistic Regression</td>\n      <td>3.9098</td>\n      <td>2.62972</td>\n      <td>3.12780</td>\n      <td>3.2</td>\n    </tr>\n    <tr>\n      <th>4</th>\n      <td>2_9_review.csv</td>\n      <td>Random Forest</td>\n      <td>4.1936</td>\n      <td>3.31620</td>\n      <td>3.20520</td>\n      <td>3.6</td>\n    </tr>\n    <tr>\n      <th>5</th>\n      <td>2_9_review.csv</td>\n      <td>SVM</td>\n      <td>3.4840</td>\n      <td>2.82580</td>\n      <td>3.18076</td>\n      <td>3.2</td>\n    </tr>\n    <tr>\n      <th>6</th>\n      <td>3_4_review.csv</td>\n      <td>Logistic Regression</td>\n      <td>4.3210</td>\n      <td>2.94324</td>\n      <td>3.23700</td>\n      <td>3.5</td>\n    </tr>\n    <tr>\n      <th>7</th>\n      <td>3_4_review.csv</td>\n      <td>Random Forest</td>\n      <td>4.2962</td>\n      <td>3.54320</td>\n      <td>3.21480</td>\n      <td>3.7</td>\n    </tr>\n    <tr>\n      <th>8</th>\n      <td>3_4_review.csv</td>\n      <td>SVM</td>\n      <td>3.9134</td>\n      <td>3.24700</td>\n      <td>3.29628</td>\n      <td>3.5</td>\n    </tr>\n    <tr>\n      <th>9</th>\n      <td>4_7_review.csv</td>\n      <td>Logistic Regression</td>\n      <td>4.8996</td>\n      <td>4.15880</td>\n      <td>3.49476</td>\n      <td>4.2</td>\n    </tr>\n    <tr>\n      <th>10</th>\n      <td>4_7_review.csv</td>\n      <td>Random Forest</td>\n      <td>4.8998</td>\n      <td>4.04740</td>\n      <td>3.40440</td>\n      <td>4.1</td>\n    </tr>\n    <tr>\n      <th>11</th>\n      <td>4_7_review.csv</td>\n      <td>SVM</td>\n      <td>4.8552</td>\n      <td>4.13640</td>\n      <td>3.58836</td>\n      <td>4.2</td>\n    </tr>\n  </tbody>\n</table>\n</div>"
     },
     "execution_count": 13,
     "metadata": {},
     "output_type": "execute_result"
    }
   ],
   "source": [
    "results_df"
   ],
   "metadata": {
    "collapsed": false,
    "pycharm": {
     "name": "#%%\n"
    }
   }
  }
 ],
 "metadata": {
  "kernelspec": {
   "display_name": "Python 3",
   "language": "python",
   "name": "python3"
  },
  "language_info": {
   "codemirror_mode": {
    "name": "ipython",
    "version": 3
   },
   "file_extension": ".py",
   "mimetype": "text/x-python",
   "name": "python",
   "nbconvert_exporter": "python",
   "pygments_lexer": "ipython3",
   "version": "3.8.5"
  }
 },
 "nbformat": 4,
 "nbformat_minor": 4
}