{
 "cells": [
  {
   "cell_type": "markdown",
   "metadata": {},
   "source": [
    "# Restaurant Review Classifiers\n",
    "\n",
    "## Overview\n",
    "This notebook demonstrates a multi-output classification model for restaurant reviews, predicting food, service, and atmosphere ratings."
   ]
  },
  {
   "cell_type": "code",
   "execution_count": 23,
   "outputs": [],
   "source": [
    "from sklearn.ensemble import RandomForestClassifier\n",
    "from sklearn.svm import SVC\n",
    "from sklearn.multioutput import MultiOutputClassifier\n",
    "from sklearn.linear_model import LogisticRegression\n",
    "from sklearn.metrics import accuracy_score, classification_report\n",
    "from sklearn.feature_extraction.text import TfidfVectorizer\n",
    "from sklearn.model_selection import train_test_split\n",
    "from sklearn.preprocessing import LabelEncoder\n",
    "import pandas as pd"
   ],
   "metadata": {
    "collapsed": false,
    "ExecuteTime": {
     "end_time": "2025-01-15T19:49:03.647070Z",
     "start_time": "2025-01-15T19:49:03.572127Z"
    }
   }
  },
  {
   "cell_type": "code",
   "execution_count": 24,
   "outputs": [],
   "source": [
    "class RestaurantReviewClassifier:\n",
    "    def __init__(self, model='logistic_regression'):\n",
    "        self.tfidf_vectorizer = TfidfVectorizer(\n",
    "            stop_words='english',\n",
    "            max_features=5000,\n",
    "            ngram_range=(1, 2)\n",
    "        )\n",
    "        self.label_encoders = {\n",
    "            'food': LabelEncoder(),\n",
    "            'service': LabelEncoder(),\n",
    "            'atmosphere': LabelEncoder()\n",
    "        }\n",
    "\n",
    "        # Initialize classifier based on input model\n",
    "        if model == 'logistic_regression':\n",
    "            base_classifier = LogisticRegression(max_iter=1000)\n",
    "        elif model == 'random_forest':\n",
    "            base_classifier = RandomForestClassifier(n_estimators=100, random_state=42)\n",
    "        elif model == 'svm':\n",
    "            base_classifier = SVC(probability=True, kernel='linear')\n",
    "        else:\n",
    "            raise ValueError(\"Model not supported. Choose from 'logistic_regression', 'random_forest', 'svm'.\")\n",
    "\n",
    "        self.classifier = MultiOutputClassifier(base_classifier)\n",
    "\n",
    "    def preprocess_data(self, df):\n",
    "        # Drop rows with NaN in text column\n",
    "        df = df.dropna(subset=['text'])\n",
    "\n",
    "        # Fill NaN in categorical columns with 'None'\n",
    "        columns = ['food', 'service', 'atmosphere']\n",
    "        for col in columns:\n",
    "            if col not in df.columns:\n",
    "                df[col] = 'None'\n",
    "            df.loc[:, col] = df[col].fillna('None')\n",
    "\n",
    "        return df\n",
    "\n",
    "    def train(self, df):\n",
    "        # Preprocess data\n",
    "        df = self.preprocess_data(df)\n",
    "\n",
    "        # Vectorize text\n",
    "        X = self.tfidf_vectorizer.fit_transform(df['text'].astype(str))\n",
    "\n",
    "        # Encode labels dynamically\n",
    "        y_dict = {}\n",
    "        for col in ['food', 'service', 'atmosphere']:\n",
    "            unique_labels = df[col].unique()\n",
    "            self.label_encoders[col].fit(unique_labels)\n",
    "            y_dict[col] = self.label_encoders[col].transform(df[col])\n",
    "\n",
    "        y = pd.DataFrame(y_dict)\n",
    "\n",
    "        # Split data\n",
    "        X_train, X_test, y_train, y_test = train_test_split(\n",
    "            X, y, test_size=0.2, random_state=42\n",
    "        )\n",
    "\n",
    "        # Train classifier\n",
    "        self.classifier.fit(X_train, y_train)\n",
    "\n",
    "        # Predict\n",
    "        y_pred = self.classifier.predict(X_test)\n",
    "\n",
    "        # Evaluate\n",
    "        print(\"\\nModel Performance Metrics:\")\n",
    "        for i, col in enumerate(['food', 'service', 'atmosphere']):\n",
    "            print(f\"\\n{col.capitalize()} Classification:\")\n",
    "            classes = self.label_encoders[col].classes_\n",
    "\n",
    "            accuracy = accuracy_score(y_test.iloc[:, i], y_pred[:, i])\n",
    "            print(f\"Accuracy: {accuracy:.2%}\")\n",
    "\n",
    "            print(classification_report(\n",
    "                y_test.iloc[:, i],\n",
    "                y_pred[:, i],\n",
    "                labels=range(len(classes)),\n",
    "                target_names=classes\n",
    "            ))\n",
    "\n",
    "    def predict(self, texts):\n",
    "        # Convert texts to strings and handle potential NaN\n",
    "        texts = [str(text) if pd.notna(text) else '' for text in texts]\n",
    "\n",
    "        # Vectorize input\n",
    "        X = self.tfidf_vectorizer.transform(texts)\n",
    "\n",
    "        # Predict\n",
    "        predictions = self.classifier.predict(X)\n",
    "\n",
    "        # Decode predictions\n",
    "        results = []\n",
    "        for pred in predictions:\n",
    "            result = {\n",
    "                col: self.label_encoders[col].inverse_transform([p])[0]\n",
    "                for col, p in zip(['food', 'service', 'atmosphere'], pred)\n",
    "            }\n",
    "            results.append(result)\n",
    "\n",
    "        return results\n"
   ],
   "metadata": {
    "collapsed": false,
    "ExecuteTime": {
     "end_time": "2025-01-15T19:49:03.681690Z",
     "start_time": "2025-01-15T19:49:03.577504Z"
    }
   }
  },
  {
   "cell_type": "code",
   "execution_count": 25,
   "outputs": [],
   "source": [
    "# Logistic Regression\n",
    "classifier_lr = RestaurantReviewClassifier(model='logistic_regression')\n",
    "\n",
    "# Random Forest\n",
    "classifier_rf = RestaurantReviewClassifier(model='random_forest')\n",
    "\n",
    "# Support Vector Machine\n",
    "classifier_svm = RestaurantReviewClassifier(model='svm')\n"
   ],
   "metadata": {
    "collapsed": false,
    "ExecuteTime": {
     "end_time": "2025-01-15T19:49:03.681970Z",
     "start_time": "2025-01-15T19:49:03.592240Z"
    }
   }
  },
  {
   "cell_type": "markdown",
   "source": [
    "### Load Data"
   ],
   "metadata": {
    "collapsed": false
   }
  },
  {
   "cell_type": "code",
   "execution_count": 26,
   "outputs": [],
   "source": [
    "df = pd.read_csv('../raw_data/filtered_data_.csv')  # Load your dataset\n"
   ],
   "metadata": {
    "collapsed": false,
    "ExecuteTime": {
     "end_time": "2025-01-15T19:49:03.718627Z",
     "start_time": "2025-01-15T19:49:03.596810Z"
    }
   }
  },
  {
   "cell_type": "markdown",
   "source": [
    "### Train using Logistic Regression"
   ],
   "metadata": {
    "collapsed": false
   }
  },
  {
   "cell_type": "code",
   "execution_count": 27,
   "outputs": [
    {
     "name": "stderr",
     "output_type": "stream",
     "text": [
      "C:\\Users\\SEBAST~1\\AppData\\Local\\Temp/ipykernel_18944/1378635224.py:35: SettingWithCopyWarning: \n",
      "A value is trying to be set on a copy of a slice from a DataFrame.\n",
      "Try using .loc[row_indexer,col_indexer] = value instead\n",
      "\n",
      "See the caveats in the documentation: https://pandas.pydata.org/pandas-docs/stable/user_guide/indexing.html#returning-a-view-versus-a-copy\n",
      "  df.loc[:, col] = df[col].fillna('None')\n"
     ]
    },
    {
     "name": "stdout",
     "output_type": "stream",
     "text": [
      "\n",
      "Model Performance Metrics:\n",
      "\n",
      "Food Classification:\n",
      "Accuracy: 72.63%\n",
      "              precision    recall  f1-score   support\n",
      "\n",
      "    Negative       0.74      0.33      0.46        69\n",
      "        None       0.00      0.00      0.00        27\n",
      "    Positive       0.72      0.99      0.84       178\n",
      "\n",
      "    accuracy                           0.73       274\n",
      "   macro avg       0.49      0.44      0.43       274\n",
      "weighted avg       0.66      0.73      0.66       274\n",
      "\n",
      "\n",
      "Service Classification:\n",
      "Accuracy: 66.42%\n",
      "              precision    recall  f1-score   support\n",
      "\n",
      "    Negative       0.72      0.61      0.66        80\n",
      "        None       0.65      0.43      0.52        86\n",
      "    Positive       0.64      0.89      0.75       108\n",
      "\n",
      "    accuracy                           0.66       274\n",
      "   macro avg       0.67      0.64      0.64       274\n",
      "weighted avg       0.67      0.66      0.65       274\n",
      "\n",
      "\n",
      "Atmosphere Classification:\n",
      "Accuracy: 67.15%\n",
      "              precision    recall  f1-score   support\n",
      "\n",
      "    Negative       1.00      0.27      0.43        74\n",
      "        None       0.60      0.92      0.73       123\n",
      "    Positive       0.77      0.66      0.71        77\n",
      "\n",
      "    accuracy                           0.67       274\n",
      "   macro avg       0.79      0.62      0.62       274\n",
      "weighted avg       0.76      0.67      0.64       274\n",
      "\n"
     ]
    },
    {
     "name": "stderr",
     "output_type": "stream",
     "text": [
      "C:\\Users\\Sebastian\\AppData\\Local\\Programs\\Python\\Python39\\lib\\site-packages\\sklearn\\metrics\\_classification.py:1327: UndefinedMetricWarning: Precision and F-score are ill-defined and being set to 0.0 in labels with no predicted samples. Use `zero_division` parameter to control this behavior.\n",
      "  _warn_prf(average, modifier, msg_start, len(result))\n",
      "C:\\Users\\Sebastian\\AppData\\Local\\Programs\\Python\\Python39\\lib\\site-packages\\sklearn\\metrics\\_classification.py:1327: UndefinedMetricWarning: Precision and F-score are ill-defined and being set to 0.0 in labels with no predicted samples. Use `zero_division` parameter to control this behavior.\n",
      "  _warn_prf(average, modifier, msg_start, len(result))\n",
      "C:\\Users\\Sebastian\\AppData\\Local\\Programs\\Python\\Python39\\lib\\site-packages\\sklearn\\metrics\\_classification.py:1327: UndefinedMetricWarning: Precision and F-score are ill-defined and being set to 0.0 in labels with no predicted samples. Use `zero_division` parameter to control this behavior.\n",
      "  _warn_prf(average, modifier, msg_start, len(result))\n"
     ]
    }
   ],
   "source": [
    "# Train using Logistic Regression\n",
    "classifier_lr.train(df)"
   ],
   "metadata": {
    "collapsed": false,
    "ExecuteTime": {
     "end_time": "2025-01-15T19:49:03.848604Z",
     "start_time": "2025-01-15T19:49:03.652979Z"
    }
   }
  },
  {
   "cell_type": "markdown",
   "source": [
    "### Train using Random Forest"
   ],
   "metadata": {
    "collapsed": false
   }
  },
  {
   "cell_type": "code",
   "execution_count": 28,
   "outputs": [
    {
     "name": "stderr",
     "output_type": "stream",
     "text": [
      "C:\\Users\\SEBAST~1\\AppData\\Local\\Temp/ipykernel_18944/1378635224.py:35: SettingWithCopyWarning: \n",
      "A value is trying to be set on a copy of a slice from a DataFrame.\n",
      "Try using .loc[row_indexer,col_indexer] = value instead\n",
      "\n",
      "See the caveats in the documentation: https://pandas.pydata.org/pandas-docs/stable/user_guide/indexing.html#returning-a-view-versus-a-copy\n",
      "  df.loc[:, col] = df[col].fillna('None')\n"
     ]
    },
    {
     "name": "stdout",
     "output_type": "stream",
     "text": [
      "\n",
      "Model Performance Metrics:\n",
      "\n",
      "Food Classification:\n",
      "Accuracy: 71.17%\n",
      "              precision    recall  f1-score   support\n",
      "\n",
      "    Negative       0.81      0.25      0.38        69\n",
      "        None       0.67      0.07      0.13        27\n",
      "    Positive       0.70      0.99      0.82       178\n",
      "\n",
      "    accuracy                           0.71       274\n",
      "   macro avg       0.73      0.44      0.44       274\n",
      "weighted avg       0.73      0.71      0.64       274\n",
      "\n",
      "\n",
      "Service Classification:\n",
      "Accuracy: 71.90%\n",
      "              precision    recall  f1-score   support\n",
      "\n",
      "    Negative       0.76      0.64      0.69        80\n",
      "        None       0.77      0.58      0.66        86\n",
      "    Positive       0.68      0.89      0.77       108\n",
      "\n",
      "    accuracy                           0.72       274\n",
      "   macro avg       0.74      0.70      0.71       274\n",
      "weighted avg       0.73      0.72      0.71       274\n",
      "\n",
      "\n",
      "Atmosphere Classification:\n",
      "Accuracy: 73.36%\n",
      "              precision    recall  f1-score   support\n",
      "\n",
      "    Negative       0.98      0.58      0.73        74\n",
      "        None       0.73      0.80      0.76       123\n",
      "    Positive       0.63      0.77      0.69        77\n",
      "\n",
      "    accuracy                           0.73       274\n",
      "   macro avg       0.78      0.72      0.73       274\n",
      "weighted avg       0.77      0.73      0.73       274\n",
      "\n"
     ]
    }
   ],
   "source": [
    "classifier_rf.train(df)"
   ],
   "metadata": {
    "collapsed": false,
    "ExecuteTime": {
     "end_time": "2025-01-15T19:49:05.440760Z",
     "start_time": "2025-01-15T19:49:03.844705Z"
    }
   }
  },
  {
   "cell_type": "markdown",
   "source": [
    "### Train using SVM"
   ],
   "metadata": {
    "collapsed": false
   }
  },
  {
   "cell_type": "code",
   "execution_count": 29,
   "outputs": [
    {
     "name": "stderr",
     "output_type": "stream",
     "text": [
      "C:\\Users\\SEBAST~1\\AppData\\Local\\Temp/ipykernel_18944/1378635224.py:35: SettingWithCopyWarning: \n",
      "A value is trying to be set on a copy of a slice from a DataFrame.\n",
      "Try using .loc[row_indexer,col_indexer] = value instead\n",
      "\n",
      "See the caveats in the documentation: https://pandas.pydata.org/pandas-docs/stable/user_guide/indexing.html#returning-a-view-versus-a-copy\n",
      "  df.loc[:, col] = df[col].fillna('None')\n"
     ]
    },
    {
     "name": "stdout",
     "output_type": "stream",
     "text": [
      "\n",
      "Model Performance Metrics:\n",
      "\n",
      "Food Classification:\n",
      "Accuracy: 74.82%\n",
      "              precision    recall  f1-score   support\n",
      "\n",
      "    Negative       0.69      0.54      0.60        69\n",
      "        None       1.00      0.04      0.07        27\n",
      "    Positive       0.76      0.94      0.84       178\n",
      "\n",
      "    accuracy                           0.75       274\n",
      "   macro avg       0.82      0.50      0.50       274\n",
      "weighted avg       0.77      0.75      0.71       274\n",
      "\n",
      "\n",
      "Service Classification:\n",
      "Accuracy: 71.90%\n",
      "              precision    recall  f1-score   support\n",
      "\n",
      "    Negative       0.78      0.70      0.74        80\n",
      "        None       0.68      0.57      0.62        86\n",
      "    Positive       0.71      0.85      0.77       108\n",
      "\n",
      "    accuracy                           0.72       274\n",
      "   macro avg       0.72      0.71      0.71       274\n",
      "weighted avg       0.72      0.72      0.71       274\n",
      "\n",
      "\n",
      "Atmosphere Classification:\n",
      "Accuracy: 70.80%\n",
      "              precision    recall  f1-score   support\n",
      "\n",
      "    Negative       0.95      0.49      0.64        74\n",
      "        None       0.64      0.86      0.74       123\n",
      "    Positive       0.73      0.68      0.70        77\n",
      "\n",
      "    accuracy                           0.71       274\n",
      "   macro avg       0.77      0.67      0.69       274\n",
      "weighted avg       0.75      0.71      0.70       274\n",
      "\n"
     ]
    }
   ],
   "source": [
    "classifier_svm.train(df)"
   ],
   "metadata": {
    "collapsed": false,
    "ExecuteTime": {
     "end_time": "2025-01-15T19:49:09.801714Z",
     "start_time": "2025-01-15T19:49:05.442449Z"
    }
   }
  },
  {
   "cell_type": "markdown",
   "source": [
    "### Predict using Logistic Regression"
   ],
   "metadata": {
    "collapsed": false
   }
  },
  {
   "cell_type": "code",
   "execution_count": 30,
   "outputs": [
    {
     "name": "stdout",
     "output_type": "stream",
     "text": [
      "Żenada ulotki zostawione w pensjonacie ale można sobie do nich dzwonić. Po kilkunastu wykonanych połączeniach i braku odzewu, udaliśmy się tam osobiście bo mieliśmy 750m. Po dotarciu na miejsce dodam że to była niedziela lokal Restro &…\n",
      "Logistic Regression Predictions: {'food': 'Positive', 'service': 'Negative', 'atmosphere': 'None'}\n",
      "\n",
      "\n",
      "Jedzenie okropne kebab się rozlatuje. Zamawiasz kebaba i dostajesz i tak tego z menu wszystko wygląda okropnie. Obsługa niemiła i wredna. Czas oczekiwania również długi.\n",
      "Logistic Regression Predictions: {'food': 'Negative', 'service': 'Negative', 'atmosphere': 'None'}\n",
      "\n",
      "\n",
      "Dostałem kebab, który został zamówiony na wskazany adres.  Kebab to jedna wielka porażka tłuszczowa.  Nie polecam nikomu, pizza przykleiła się do tektury z opakowania.\n",
      "Logistic Regression Predictions: {'food': 'Positive', 'service': 'None', 'atmosphere': 'None'}\n",
      "\n",
      "\n",
      "Jeśli jesteś miłośnikiem dobrych zartów, to ta pizzeria to jest właśnie to. Boczek przykleja się do pudełka niczym cygan do zasiłku. Szynka konserwowa złapana na promocji pięknie przyozdabia te wymiociny. Cena 50 złotych myślę, że lekko…\n",
      "Logistic Regression Predictions: {'food': 'Positive', 'service': 'None', 'atmosphere': 'None'}\n",
      "\n",
      "\n",
      "Nie rozumiem negatywnych opini. Poza sezonem pizza zrobiona od momentu zamówienia do podania w 10minut, czyli tyle ile trzeba. Ciasto lekkie, przyjemne składniki świeże. Jak dla mnie i mojej rodziny duży plus. Sałatka Cezar świeża, choć…\n",
      "Logistic Regression Predictions: {'food': 'Positive', 'service': 'Positive', 'atmosphere': 'None'}\n",
      "\n",
      "\n"
     ]
    }
   ],
   "source": [
    "# load test_data_reviews\n",
    "test_data = pd.read_csv('../test_data_reviews/2_4_review.csv')    \n",
    "\n",
    "# Predict using Logistic Regression\n",
    "predictions_lr = classifier_lr.predict(test_data['text'][0:5])\n",
    "#print review text and predicted ratings\n",
    "for i in range(5):\n",
    "    print(test_data['wiI7pd'][i])\n",
    "    print(\"Logistic Regression Predictions:\", predictions_lr[i])\n",
    "    print(\"\\n\")"
   ],
   "metadata": {
    "collapsed": false,
    "ExecuteTime": {
     "end_time": "2025-01-15T19:49:09.815867Z",
     "start_time": "2025-01-15T19:49:09.802734Z"
    }
   }
  },
  {
   "cell_type": "markdown",
   "source": [
    "### Predict using Random Forest"
   ],
   "metadata": {
    "collapsed": false
   }
  },
  {
   "cell_type": "code",
   "execution_count": 31,
   "outputs": [
    {
     "name": "stdout",
     "output_type": "stream",
     "text": [
      "Cudowna obsługa , pani dokładnie sprawdzająca każde danie pod względem alergii córki , życzliwość i uśmiech Pani kelnerki . Górale i muzyka tworząca  niesamowitą swojską atmosferę .  Dania bardzo smaczne , porcje ogromne , ceny przystępne . Wrócimy na 100% Dziękujemy jeszcze raz 🥰…\n",
      "Random Forest Predictions: {'food': 'Positive', 'service': 'Positive', 'atmosphere': 'Positive'}\n",
      "\n",
      "\n",
      "Jedliśmy żurek barszcz z uszkami placek po zbójnicku z zestawem surówek i margaritte. Żurek znośny za to barszcz był obrzydliwy do tego uszka były rozgotowane i pokaleczone o kwaśnym smaku. Placek był bez smaku a margarita to wiór do pizzy można dostać co najwyżej ketchup. Bukiet podobno 3 surówek to mały talerzyk od espresso.\n",
      "Random Forest Predictions: {'food': 'Negative', 'service': 'None', 'atmosphere': 'None'}\n",
      "\n",
      "\n",
      "Byłem w tym miejscu pierwszy raz ok 10 lat temu i wtedy w tej restauracji było mnóstwo ludzi, pyszne jedzenie w ogromnych porcjach i widać było że knajpa żyje 😊 teraz małe porcje , drogo i niczym nie wyróżniające się jedzenie, trzeba długo czekać na obsługę. Klimat poprawia jedynie Muzyka na Żywo.…\n",
      "Random Forest Predictions: {'food': 'Positive', 'service': 'Positive', 'atmosphere': 'None'}\n",
      "\n",
      "\n",
      "Zestaw dnia za 37 zł myślę że cena bardzo dobra\r\n",
      "Co do samego jedzenia to kwaśnica trochę słaba spodziewałem się lepszych doznań smakowych co do niej :/…\n",
      "Random Forest Predictions: {'food': 'Positive', 'service': 'Negative', 'atmosphere': 'None'}\n",
      "\n",
      "\n",
      "Miałem okazję być pierwszy raz w tej restauracji, niestety późną porą. Na kartę i podejście obsługi czekałem chyba z 20 minut.  Myślałem, że to kwestia późnej por i zmęczenia. Jednak później poczytałem komentarze i okazała się, że tam to…\n",
      "Random Forest Predictions: {'food': 'Positive', 'service': 'Negative', 'atmosphere': 'None'}\n",
      "\n",
      "\n"
     ]
    }
   ],
   "source": [
    "# load test_data_reviews\n",
    "test_data = pd.read_csv('../test_data_reviews/2_9_review.csv')    \n",
    "\n",
    "# Predict using Random Forest\n",
    "predictions_rf = classifier_rf.predict(test_data['text'][0:5])\n",
    "#print review text and predicted ratings\n",
    "for i in range(5):\n",
    "    print(test_data['wiI7pd'][i])\n",
    "    print(\"Random Forest Predictions:\", predictions_rf[i])\n",
    "    print(\"\\n\")"
   ],
   "metadata": {
    "collapsed": false,
    "ExecuteTime": {
     "end_time": "2025-01-15T19:49:09.864682Z",
     "start_time": "2025-01-15T19:49:09.809778Z"
    }
   }
  },
  {
   "cell_type": "markdown",
   "source": [
    "### Predict using SVM"
   ],
   "metadata": {
    "collapsed": false
   }
  },
  {
   "cell_type": "code",
   "execution_count": 32,
   "outputs": [
    {
     "name": "stdout",
     "output_type": "stream",
     "text": [
      "Miejsce z klimatem różniące się do innych w Rynku. Przypomina wystrojem karczmę góralską, klimat jest niezobowązujący, można się tam poczuć swobodnie. Jedzenie jest bardzo smaczne. Polecam łososia z ognia w przepysznym sosie (najlepszy…\n",
      "SVM Predictions: {'food': 'Positive', 'service': 'None', 'atmosphere': 'None'}\n",
      "\n",
      "\n",
      "Brak informacji przy wejściu, że możliwość płatności tylko gotówką, dopiero po złożeniu zamówienia otrzymaliśmy taką wiadomość.\r\n",
      "Toaleta i drzwi do niej tragedia, a toaleta wizytówką lokalu.…\n",
      "SVM Predictions: {'food': 'Positive', 'service': 'Negative', 'atmosphere': 'None'}\n",
      "\n",
      "\n",
      "Po prostu DNO !!😡\r\n",
      "Omijajcie szerokim łukiem!\r\n",
      "Po wejściu(3 osoby)nikt się nami nie zainteresował-trzeba było samemu zejść z…\n",
      "SVM Predictions: {'food': 'Positive', 'service': 'Positive', 'atmosphere': 'None'}\n",
      "\n",
      "\n",
      "Pierogi smaczne, pizza smaczna, sos czosnkowy - odradzam. Smakował octowo. Czekaliśmy do 30 minut na danie.\r\n",
      "Kochania chyba nie lubi się z solą bo i czuć było jej brak w pizzy i pierogach.\r\n",
      "Pan zaganiający do restauracji uprzejmy, kelnerka bardzo miła.\n",
      "SVM Predictions: {'food': 'Positive', 'service': 'None', 'atmosphere': 'None'}\n",
      "\n",
      "\n",
      "Żurek w chlebie bardzo dobry, sam chleb smaczny można zjeść cały. Żeberka bardzo smaczne bez wad, pstrąg przyprawiony od środka brakuje tylko chrupiącej skórki ale to wedle uznania obsługa bardzo miła wodka zimna polecam\n",
      "SVM Predictions: {'food': 'Positive', 'service': 'Positive', 'atmosphere': 'None'}\n",
      "\n",
      "\n"
     ]
    }
   ],
   "source": [
    "# load test_data_reviews\n",
    "test_data = pd.read_csv('../test_data_reviews/3_4_review.csv')    \n",
    "\n",
    "# Predict using SVM\n",
    "predictions_svm = classifier_svm.predict(test_data['text'][0:5])\n",
    "#print review text and predicted ratings\n",
    "for i in range(5):\n",
    "    print(test_data['wiI7pd'][i])\n",
    "    print(\"SVM Predictions:\", predictions_svm[i])\n",
    "    print(\"\\n\")"
   ],
   "metadata": {
    "collapsed": false,
    "ExecuteTime": {
     "end_time": "2025-01-15T19:49:09.864936Z",
     "start_time": "2025-01-15T19:49:09.825121Z"
    }
   }
  },
  {
   "cell_type": "code",
   "execution_count": 33,
   "outputs": [],
   "source": [
    "from sklearn import metrics\n",
    "import seaborn as sns\n",
    "import matplotlib.pyplot as plt"
   ],
   "metadata": {
    "collapsed": false,
    "ExecuteTime": {
     "end_time": "2025-01-15T19:49:09.865011Z",
     "start_time": "2025-01-15T19:49:09.834873Z"
    }
   }
  },
  {
   "cell_type": "code",
   "execution_count": 34,
   "outputs": [],
   "source": [
    "def show_confusion_matrices(matrices, classifier_name, labels=None, categories_names = [\"food\",\"service\",\"atmosphere\"]):\n",
    "    num_matrices = len(matrices)\n",
    "    fig, axes = plt.subplots(1, num_matrices, figsize=(6 * num_matrices, 6))\n",
    "\n",
    "    for i, matrix in enumerate(matrices):\n",
    "        ax = axes[i] if num_matrices > 1 else axes\n",
    "        num_classes = matrix.shape[0]\n",
    "\n",
    "        if labels is None:\n",
    "            labels = [str(j) for j in range(num_classes)]\n",
    "\n",
    "        sns.heatmap(matrix,\n",
    "                    cmap='coolwarm',\n",
    "                    linecolor='white',\n",
    "                    linewidths=1,\n",
    "                    xticklabels=labels[0:num_classes],\n",
    "                    yticklabels=labels[0:num_classes],\n",
    "                    annot=True,\n",
    "                    fmt='d',\n",
    "                    ax=ax)\n",
    "\n",
    "        ax.set_title(f'Confusion Matrix {categories_names[i]}')\n",
    "        ax.set_ylabel('True Label')\n",
    "        ax.set_xlabel('Predicted Label')\n",
    "        ax.yaxis.set_tick_params(rotation=0)\n",
    "    fig.suptitle(f\"{classifier_name}\", fontsize=16)\n",
    "    plt.tight_layout()\n",
    "    plt.show()"
   ],
   "metadata": {
    "collapsed": false,
    "ExecuteTime": {
     "end_time": "2025-01-15T19:49:09.883361Z",
     "start_time": "2025-01-15T19:49:09.839328Z"
    }
   }
  },
  {
   "cell_type": "code",
   "execution_count": 35,
   "outputs": [],
   "source": [
    "def compute_and_show_confusion_matrix(validations, predictions, classifier_name):\n",
    "    matrices = [metrics.confusion_matrix(validations[i], predictions[i]) for i in range(len(validations))]\n",
    "    show_confusion_matrices(matrices,classifier_name, labels = [\"Negative\",\"None\",\"Positive\"])\n",
    "\n",
    "\n",
    "food_validation =  df['food'].fillna('None').tolist()\n",
    "service_validation = df['service'].fillna('None').tolist()\n",
    "atmosphere_validation = df['atmosphere'].fillna('None').tolist()"
   ],
   "metadata": {
    "collapsed": false,
    "ExecuteTime": {
     "end_time": "2025-01-15T19:49:09.883603Z",
     "start_time": "2025-01-15T19:49:09.843071Z"
    }
   }
  },
  {
   "cell_type": "code",
   "execution_count": 36,
   "outputs": [
    {
     "data": {
      "text/plain": "<Figure size 1296x432 with 6 Axes>",
      "image/png": "[encoded data removed]"
     },
     "metadata": {
      "needs_background": "light"
     },
     "output_type": "display_data"
    },
    {
     "data": {
      "text/plain": "<Figure size 1296x432 with 6 Axes>",
      "image/png": "[encoded data removed]"
     },
     "metadata": {
      "needs_background": "light"
     },
     "output_type": "display_data"
    },
    {
     "data": {
      "text/plain": "<Figure size 1296x432 with 6 Axes>",
      "image/png": "[encoded data removed]"
     },
     "metadata": {
      "needs_background": "light"
     },
     "output_type": "display_data"
    }
   ],
   "source": [
    "def create_predicions_to_list(classifier):\n",
    "    predictions = classifier.predict(df['text'])\n",
    "    preditions_food = [pred[\"food\"] for pred in predictions]\n",
    "    preditions_service = [pred[\"service\"] for pred in predictions]\n",
    "    preditions_atmosphere = [pred[\"atmosphere\"] for pred in predictions]\n",
    "    return preditions_food, preditions_service, preditions_atmosphere\n",
    "\n",
    "labels_to_classificators = [\"Linear regresion\", \"Random Forest\", \"SVM\"]\n",
    "classi_list = [classifier_lr,classifier_rf,classifier_svm]\n",
    "for i in range(3):\n",
    "    pred= create_predicions_to_list(classi_list[i])\n",
    "    validation = [food_validation,service_validation,atmosphere_validation]\n",
    "    compute_and_show_confusion_matrix(validation,pred,  labels_to_classificators[i])"
   ],
   "metadata": {
    "collapsed": false,
    "ExecuteTime": {
     "end_time": "2025-01-15T19:49:12.505345Z",
     "start_time": "2025-01-15T19:49:09.884977Z"
    }
   }
  },
  {
   "cell_type": "code",
   "execution_count": 37,
   "outputs": [
    {
     "name": "stdout",
     "output_type": "stream",
     "text": [
      "0 -1.9498321153466323 -0.0927069163963587\n",
      "{'food': {'None': 0.0, 'Positive': 63.92, 'Negative': 36.08}, 'service': {'None': 50.63, 'Positive': 15.82, 'Negative': 33.54}, 'atmosphere': {'None': 95.57, 'Positive': 4.43, 'Negative': 0.0}}\n",
      "0 -1.717472118959108 -0.3065390381732211\n",
      "{'food': {'None': 1.9, 'Positive': 79.11, 'Negative': 18.99}, 'service': {'None': 53.8, 'Positive': 23.42, 'Negative': 22.78}, 'atmosphere': {'None': 86.71, 'Positive': 13.29, 'Negative': 0.0}}\n",
      "0 -1.5906642728904845 -0.2732749801068546\n",
      "{'food': {'None': 0.0, 'Positive': 51.9, 'Negative': 48.1}, 'service': {'None': 55.7, 'Positive': 13.29, 'Negative': 31.01}, 'atmosphere': {'None': 87.97, 'Positive': 9.49, 'Negative': 2.53}}\n",
      "0 0 -0.520478890989288\n",
      "{'food': {'None': 0.65, 'Positive': 74.52, 'Negative': 24.84}, 'service': {'None': 28.39, 'Positive': 36.77, 'Negative': 34.84}, 'atmosphere': {'None': 79.35, 'Positive': 19.68, 'Negative': 0.97}}\n",
      "0 0 -0.870264064293915\n",
      "{'food': {'None': 2.26, 'Positive': 81.61, 'Negative': 16.13}, 'service': {'None': 37.42, 'Positive': 42.26, 'Negative': 20.32}, 'atmosphere': {'None': 69.68, 'Positive': 29.03, 'Negative': 1.29}}\n",
      "0 0 -0.6497085320614732\n",
      "{'food': {'None': 0.65, 'Positive': 60.65, 'Negative': 38.71}, 'service': {'None': 32.26, 'Positive': 31.61, 'Negative': 36.13}, 'atmosphere': {'None': 75.48, 'Positive': 20.97, 'Negative': 3.55}}\n",
      "0 0 -0.7228423631908523\n",
      "{'food': {'None': 0.0, 'Positive': 82.72, 'Negative': 17.28}, 'service': {'None': 31.48, 'Positive': 43.83, 'Negative': 24.69}, 'atmosphere': {'None': 73.46, 'Positive': 25.93, 'Negative': 0.62}}\n",
      "0 0 -0.8421202216853773\n",
      "{'food': {'None': 0.62, 'Positive': 85.19, 'Negative': 14.2}, 'service': {'None': 36.42, 'Positive': 48.77, 'Negative': 14.81}, 'atmosphere': {'None': 70.37, 'Positive': 28.4, 'Negative': 1.23}}\n",
      "0 0 -0.8673835125448028\n",
      "{'food': {'None': 0.0, 'Positive': 79.63, 'Negative': 20.37}, 'service': {'None': 41.36, 'Positive': 35.19, 'Negative': 23.46}, 'atmosphere': {'None': 69.75, 'Positive': 28.4, 'Negative': 1.85}}\n",
      "0 0 0\n",
      "{'food': {'None': 0.0, 'Positive': 97.77, 'Negative': 2.23}, 'service': {'None': 17.27, 'Positive': 76.88, 'Negative': 5.85}, 'atmosphere': {'None': 41.23, 'Positive': 58.77, 'Negative': 0.0}}\n",
      "0 0 0\n",
      "{'food': {'None': 0.0, 'Positive': 98.61, 'Negative': 1.39}, 'service': {'None': 28.13, 'Positive': 67.13, 'Negative': 4.74}, 'atmosphere': {'None': 48.19, 'Positive': 51.25, 'Negative': 0.56}}\n",
      "0 0 0\n",
      "{'food': {'None': 0.0, 'Positive': 95.82, 'Negative': 4.18}, 'service': {'None': 25.91, 'Positive': 68.52, 'Negative': 5.57}, 'atmosphere': {'None': 40.67, 'Positive': 58.77, 'Negative': 0.56}}\n",
      "              File           Classifier  Food_Rating  Service_Rating  \\\n",
      "0   2_4_review.csv  Logistic Regression       3.5568         2.25072   \n",
      "1   2_4_review.csv        Random Forest       4.2024         2.64320   \n",
      "2   2_4_review.csv                  SVM       3.0760         2.29120   \n",
      "3   2_9_review.csv  Logistic Regression       3.9936         3.03860   \n",
      "4   2_9_review.csv        Random Forest       4.3096         3.43880   \n",
      "5   2_9_review.csv                  SVM       3.4388         2.90960   \n",
      "6   3_4_review.csv  Logistic Regression       4.3088         3.38280   \n",
      "7   3_4_review.csv        Random Forest       4.4198         3.67920   \n",
      "8   3_4_review.csv                  SVM       4.1852         3.23460   \n",
      "9   4_7_review.csv  Logistic Regression       4.9108         4.42060   \n",
      "10  4_7_review.csv        Random Forest       4.9444         4.24780   \n",
      "11  4_7_review.csv                  SVM       4.8328         4.25900   \n",
      "\n",
      "    Atmosphere_Rating  Average_Rating  \n",
      "0             3.05316             3.0  \n",
      "1             3.15948             3.3  \n",
      "2             3.04304             2.8  \n",
      "3             3.20900             3.4  \n",
      "4             3.31224             3.7  \n",
      "5             3.15224             3.2  \n",
      "6             3.29380             3.7  \n",
      "7             3.30636             3.8  \n",
      "8             3.28900             3.6  \n",
      "9             4.17540             4.5  \n",
      "10            4.01380             4.4  \n",
      "11            4.16420             4.4  \n"
     ]
    }
   ],
   "source": [
    "def adjusted_weight(none, positive, negative):\n",
    "    total = positive + negative\n",
    "    if none > total:\n",
    "        factor = (total / none) *(-2)  if none > -2 else -2\n",
    "        return factor\n",
    "    return 0\n",
    "\n",
    "def Final_Rating(reviews_path,classifier):\n",
    "    test_data = pd.read_csv(reviews_path)\n",
    "\n",
    "    predictions = classifier.predict(test_data['text'])\n",
    "\n",
    "    total_amount_of_predicions = len(predictions)\n",
    "    Ratings = \\\n",
    "        {\n",
    "            \"food\":{\n",
    "                'None':0 ,'Positive':0,'Negative':0\n",
    "            },\n",
    "            \"service\":{\n",
    "                'None':0 ,'Positive':0,'Negative':0\n",
    "            },\n",
    "            \"atmosphere\":{\n",
    "                'None':0 ,'Positive':0,'Negative':0\n",
    "            }\n",
    "        }\n",
    "    # print(Ratings)\n",
    "\n",
    "    for i in predictions:\n",
    "        for aspect in [\"food\",\"service\",\"atmosphere\"]:\n",
    "            Ratings[aspect][i[aspect]] += 1\n",
    "\n",
    "    for aspect in Ratings:\n",
    "        for rate in Ratings[aspect]:\n",
    "            Ratings[aspect][rate] =  round(Ratings[aspect][rate]/total_amount_of_predicions*100,2)\n",
    "\n",
    "    food_weight = adjusted_weight(Ratings[\"food\"]['None'], Ratings[\"food\"]['Positive'], Ratings[\"food\"]['Negative'])\n",
    "    service_weight = adjusted_weight(Ratings[\"service\"]['None'], Ratings[\"service\"]['Positive'], Ratings[\"service\"]['Negative'])\n",
    "    atmosphere_weight = adjusted_weight(Ratings[\"atmosphere\"]['None'], Ratings[\"atmosphere\"]['Positive'], Ratings[\"atmosphere\"]['Negative'])\n",
    "\n",
    "    # weight_sum = food_weight + service_weight + atmosphere_weight\n",
    "    # food_weight /= weight_sum\n",
    "    # service_weight /= weight_sum\n",
    "    # atmosphere_weight /= weight_sum\n",
    "\n",
    "    print(food_weight,service_weight, atmosphere_weight)\n",
    "\n",
    "    wages = {'None':0 ,'Positive':5 ,'Negative':-5}\n",
    "\n",
    "    print(Ratings)\n",
    "\n",
    "    a = 4 / (wages['Positive'] - wages['Negative'])\n",
    "\n",
    "    b = 5 - a * wages['Positive']\n",
    "\n",
    "    food_final_score = (Ratings[\"food\"]['None'] * food_weight +\n",
    "                        Ratings[\"food\"]['Positive'] * wages['Positive'] +\n",
    "                        Ratings[\"food\"]['Negative']  * wages['Negative'])/100 *a +b\n",
    "    service_final_score = (Ratings[\"service\"]['None'] *service_weight +\n",
    "                           Ratings[\"service\"]['Positive'] * wages['Positive']\n",
    "                           + Ratings[\"service\"]['Negative'] * wages['Negative'])/100 *a +b\n",
    "    atmosphere_final_score = (Ratings[\"atmosphere\"]['None'] * atmosphere_weight +\n",
    "                              Ratings[\"atmosphere\"]['Positive'] * wages['Positive']\n",
    "                              + Ratings[\"atmosphere\"]['Negative'] * wages['Negative'])/100 *a +b\n",
    "\n",
    "\n",
    "\n",
    "\n",
    "    return food_final_score,service_final_score,atmosphere_final_score,round((food_final_score+service_final_score+atmosphere_final_score)/3,1)\n",
    "\n",
    "\n",
    "files = ['../test_data_reviews/2_4_review.csv',\n",
    "         '../test_data_reviews/2_9_review.csv',\n",
    "         '../test_data_reviews/3_4_review.csv',\n",
    "         '../test_data_reviews/4_7_review.csv']\n",
    "\n",
    "classifiers = {'Logistic Regression': classifier_lr,\n",
    "               'Random Forest': classifier_rf,\n",
    "               'SVM': classifier_svm}\n",
    "\n",
    "results = []\n",
    "for file in files:\n",
    "    file_name = file.split('/')[-1]\n",
    "    for name, clf in classifiers.items():\n",
    "        rating = Final_Rating(file, clf)\n",
    "        results.append({'File': file_name, 'Classifier': name, 'Food_Rating': rating[0], 'Service_Rating': rating[1],\n",
    "                        'Atmosphere_Rating': rating[2], 'Average_Rating': rating[3]})\n",
    "\n",
    "results_df = pd.DataFrame(results)\n",
    "\n",
    "print(results_df)"
   ],
   "metadata": {
    "collapsed": false,
    "ExecuteTime": {
     "end_time": "2025-01-15T19:49:13.468060Z",
     "start_time": "2025-01-15T19:49:12.514639Z"
    }
   }
  },
  {
   "cell_type": "code",
   "execution_count": 38,
   "outputs": [
    {
     "data": {
      "text/plain": "              File           Classifier  Food_Rating  Service_Rating  \\\n0   2_4_review.csv  Logistic Regression       3.5568         2.25072   \n1   2_4_review.csv        Random Forest       4.2024         2.64320   \n2   2_4_review.csv                  SVM       3.0760         2.29120   \n3   2_9_review.csv  Logistic Regression       3.9936         3.03860   \n4   2_9_review.csv        Random Forest       4.3096         3.43880   \n5   2_9_review.csv                  SVM       3.4388         2.90960   \n6   3_4_review.csv  Logistic Regression       4.3088         3.38280   \n7   3_4_review.csv        Random Forest       4.4198         3.67920   \n8   3_4_review.csv                  SVM       4.1852         3.23460   \n9   4_7_review.csv  Logistic Regression       4.9108         4.42060   \n10  4_7_review.csv        Random Forest       4.9444         4.24780   \n11  4_7_review.csv                  SVM       4.8328         4.25900   \n\n    Atmosphere_Rating  Average_Rating  \n0             3.05316             3.0  \n1             3.15948             3.3  \n2             3.04304             2.8  \n3             3.20900             3.4  \n4             3.31224             3.7  \n5             3.15224             3.2  \n6             3.29380             3.7  \n7             3.30636             3.8  \n8             3.28900             3.6  \n9             4.17540             4.5  \n10            4.01380             4.4  \n11            4.16420             4.4  ",
      "text/html": "<div>\n<style scoped>\n    .dataframe tbody tr th:only-of-type {\n        vertical-align: middle;\n    }\n\n    .dataframe tbody tr th {\n        vertical-align: top;\n    }\n\n    .dataframe thead th {\n        text-align: right;\n    }\n</style>\n<table border=\"1\" class=\"dataframe\">\n  <thead>\n    <tr style=\"text-align: right;\">\n      <th></th>\n      <th>File</th>\n      <th>Classifier</th>\n      <th>Food_Rating</th>\n      <th>Service_Rating</th>\n      <th>Atmosphere_Rating</th>\n      <th>Average_Rating</th>\n    </tr>\n  </thead>\n  <tbody>\n    <tr>\n      <th>0</th>\n      <td>2_4_review.csv</td>\n      <td>Logistic Regression</td>\n      <td>3.5568</td>\n      <td>2.25072</td>\n      <td>3.05316</td>\n      <td>3.0</td>\n    </tr>\n    <tr>\n      <th>1</th>\n      <td>2_4_review.csv</td>\n      <td>Random Forest</td>\n      <td>4.2024</td>\n      <td>2.64320</td>\n      <td>3.15948</td>\n      <td>3.3</td>\n    </tr>\n    <tr>\n      <th>2</th>\n      <td>2_4_review.csv</td>\n      <td>SVM</td>\n      <td>3.0760</td>\n      <td>2.29120</td>\n      <td>3.04304</td>\n      <td>2.8</td>\n    </tr>\n    <tr>\n      <th>3</th>\n      <td>2_9_review.csv</td>\n      <td>Logistic Regression</td>\n      <td>3.9936</td>\n      <td>3.03860</td>\n      <td>3.20900</td>\n      <td>3.4</td>\n    </tr>\n    <tr>\n      <th>4</th>\n      <td>2_9_review.csv</td>\n      <td>Random Forest</td>\n      <td>4.3096</td>\n      <td>3.43880</td>\n      <td>3.31224</td>\n      <td>3.7</td>\n    </tr>\n    <tr>\n      <th>5</th>\n      <td>2_9_review.csv</td>\n      <td>SVM</td>\n      <td>3.4388</td>\n      <td>2.90960</td>\n      <td>3.15224</td>\n      <td>3.2</td>\n    </tr>\n    <tr>\n      <th>6</th>\n      <td>3_4_review.csv</td>\n      <td>Logistic Regression</td>\n      <td>4.3088</td>\n      <td>3.38280</td>\n      <td>3.29380</td>\n      <td>3.7</td>\n    </tr>\n    <tr>\n      <th>7</th>\n      <td>3_4_review.csv</td>\n      <td>Random Forest</td>\n      <td>4.4198</td>\n      <td>3.67920</td>\n      <td>3.30636</td>\n      <td>3.8</td>\n    </tr>\n    <tr>\n      <th>8</th>\n      <td>3_4_review.csv</td>\n      <td>SVM</td>\n      <td>4.1852</td>\n      <td>3.23460</td>\n      <td>3.28900</td>\n      <td>3.6</td>\n    </tr>\n    <tr>\n      <th>9</th>\n      <td>4_7_review.csv</td>\n      <td>Logistic Regression</td>\n      <td>4.9108</td>\n      <td>4.42060</td>\n      <td>4.17540</td>\n      <td>4.5</td>\n    </tr>\n    <tr>\n      <th>10</th>\n      <td>4_7_review.csv</td>\n      <td>Random Forest</td>\n      <td>4.9444</td>\n      <td>4.24780</td>\n      <td>4.01380</td>\n      <td>4.4</td>\n    </tr>\n    <tr>\n      <th>11</th>\n      <td>4_7_review.csv</td>\n      <td>SVM</td>\n      <td>4.8328</td>\n      <td>4.25900</td>\n      <td>4.16420</td>\n      <td>4.4</td>\n    </tr>\n  </tbody>\n</table>\n</div>"
     },
     "execution_count": 38,
     "metadata": {},
     "output_type": "execute_result"
    }
   ],
   "source": [
    "results_df"
   ],
   "metadata": {
    "collapsed": false,
    "pycharm": {
     "name": "#%%\n"
    }
   }
  }
 ],
 "metadata": {
  "kernelspec": {
   "display_name": "Python 3",
   "language": "python",
   "name": "python3"
  },
  "language_info": {
   "codemirror_mode": {
    "name": "ipython",
    "version": 3
   },
   "file_extension": ".py",
   "mimetype": "text/x-python",
   "name": "python",
   "nbconvert_exporter": "python",
   "pygments_lexer": "ipython3",
   "version": "3.8.5"
  }
 },
 "nbformat": 4,
 "nbformat_minor": 4
}