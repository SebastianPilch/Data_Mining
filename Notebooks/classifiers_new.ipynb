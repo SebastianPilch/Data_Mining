{
 "cells": [
  {
   "cell_type": "markdown",
   "metadata": {},
   "source": [
    "# Restaurant Review Classifiers\n",
    "\n",
    "## Overview\n",
    "This notebook demonstrates a multi-output classification model for restaurant reviews, predicting food, service, and atmosphere ratings."
   ]
  },
  {
   "cell_type": "code",
   "execution_count": 2,
   "outputs": [],
   "source": [
    "from sklearn.ensemble import RandomForestClassifier\n",
    "from sklearn.svm import SVC\n",
    "from sklearn.multioutput import MultiOutputClassifier\n",
    "from sklearn.linear_model import LogisticRegression\n",
    "from sklearn.metrics import accuracy_score, classification_report\n",
    "from sklearn.feature_extraction.text import TfidfVectorizer\n",
    "from sklearn.model_selection import train_test_split\n",
    "from sklearn.preprocessing import LabelEncoder\n",
    "import pandas as pd"
   ],
   "metadata": {
    "collapsed": false,
    "ExecuteTime": {
     "end_time": "2024-12-18T16:48:45.809424Z",
     "start_time": "2024-12-18T16:48:45.513886Z"
    }
   }
  },
  {
   "cell_type": "code",
   "execution_count": 3,
   "outputs": [],
   "source": [
    "class RestaurantReviewClassifier:\n",
    "    def __init__(self, model='logistic_regression'):\n",
    "        self.tfidf_vectorizer = TfidfVectorizer(\n",
    "            stop_words='english',\n",
    "            max_features=5000,\n",
    "            ngram_range=(1, 2)\n",
    "        )\n",
    "        self.label_encoders = {\n",
    "            'food': LabelEncoder(),\n",
    "            'service': LabelEncoder(),\n",
    "            'atmosphere': LabelEncoder()\n",
    "        }\n",
    "\n",
    "        # Initialize classifier based on input model\n",
    "        if model == 'logistic_regression':\n",
    "            base_classifier = LogisticRegression(max_iter=1000)\n",
    "        elif model == 'random_forest':\n",
    "            base_classifier = RandomForestClassifier(n_estimators=100, random_state=42)\n",
    "        elif model == 'svm':\n",
    "            base_classifier = SVC(probability=True, kernel='linear')\n",
    "        else:\n",
    "            raise ValueError(\"Model not supported. Choose from 'logistic_regression', 'random_forest', 'svm'.\")\n",
    "\n",
    "        self.classifier = MultiOutputClassifier(base_classifier)\n",
    "\n",
    "    def preprocess_data(self, df):\n",
    "        # Drop rows with NaN in text column\n",
    "        df = df.dropna(subset=['text'])\n",
    "\n",
    "        # Fill NaN in categorical columns with 'None'\n",
    "        columns = ['food', 'service', 'atmosphere']\n",
    "        for col in columns:\n",
    "            if col not in df.columns:\n",
    "                df[col] = 'None'\n",
    "            df.loc[:, col] = df[col].fillna('None')\n",
    "\n",
    "        return df\n",
    "\n",
    "    def train(self, df):\n",
    "        # Preprocess data\n",
    "        df = self.preprocess_data(df)\n",
    "\n",
    "        # Vectorize text\n",
    "        X = self.tfidf_vectorizer.fit_transform(df['text'].astype(str))\n",
    "\n",
    "        # Encode labels dynamically\n",
    "        y_dict = {}\n",
    "        for col in ['food', 'service', 'atmosphere']:\n",
    "            unique_labels = df[col].unique()\n",
    "            self.label_encoders[col].fit(unique_labels)\n",
    "            y_dict[col] = self.label_encoders[col].transform(df[col])\n",
    "\n",
    "        y = pd.DataFrame(y_dict)\n",
    "\n",
    "        # Split data\n",
    "        X_train, X_test, y_train, y_test = train_test_split(\n",
    "            X, y, test_size=0.2, random_state=42\n",
    "        )\n",
    "\n",
    "        # Train classifier\n",
    "        self.classifier.fit(X_train, y_train)\n",
    "\n",
    "        # Predict\n",
    "        y_pred = self.classifier.predict(X_test)\n",
    "\n",
    "        # Evaluate\n",
    "        print(\"\\nModel Performance Metrics:\")\n",
    "        for i, col in enumerate(['food', 'service', 'atmosphere']):\n",
    "            print(f\"\\n{col.capitalize()} Classification:\")\n",
    "            classes = self.label_encoders[col].classes_\n",
    "\n",
    "            accuracy = accuracy_score(y_test.iloc[:, i], y_pred[:, i])\n",
    "            print(f\"Accuracy: {accuracy:.2%}\")\n",
    "\n",
    "            print(classification_report(\n",
    "                y_test.iloc[:, i],\n",
    "                y_pred[:, i],\n",
    "                labels=range(len(classes)),\n",
    "                target_names=classes\n",
    "            ))\n",
    "\n",
    "    def predict(self, texts):\n",
    "        # Convert texts to strings and handle potential NaN\n",
    "        texts = [str(text) if pd.notna(text) else '' for text in texts]\n",
    "\n",
    "        # Vectorize input\n",
    "        X = self.tfidf_vectorizer.transform(texts)\n",
    "\n",
    "        # Predict\n",
    "        predictions = self.classifier.predict(X)\n",
    "\n",
    "        # Decode predictions\n",
    "        results = []\n",
    "        for pred in predictions:\n",
    "            result = {\n",
    "                col: self.label_encoders[col].inverse_transform([p])[0]\n",
    "                for col, p in zip(['food', 'service', 'atmosphere'], pred)\n",
    "            }\n",
    "            results.append(result)\n",
    "\n",
    "        return results\n"
   ],
   "metadata": {
    "collapsed": false,
    "ExecuteTime": {
     "end_time": "2024-12-18T16:48:45.924985Z",
     "start_time": "2024-12-18T16:48:45.919412Z"
    }
   }
  },
  {
   "cell_type": "code",
   "execution_count": 4,
   "outputs": [],
   "source": [
    "# Logistic Regression\n",
    "classifier_lr = RestaurantReviewClassifier(model='logistic_regression')\n",
    "\n",
    "# Random Forest\n",
    "classifier_rf = RestaurantReviewClassifier(model='random_forest')\n",
    "\n",
    "# Support Vector Machine\n",
    "classifier_svm = RestaurantReviewClassifier(model='svm')\n"
   ],
   "metadata": {
    "collapsed": false,
    "ExecuteTime": {
     "end_time": "2024-12-18T16:48:46.431904Z",
     "start_time": "2024-12-18T16:48:46.425369Z"
    }
   }
  },
  {
   "cell_type": "code",
   "execution_count": 11,
   "outputs": [
    {
     "name": "stdout",
     "output_type": "stream",
     "text": [
      "\n",
      "Model Performance Metrics:\n",
      "\n",
      "Food Classification:\n",
      "Accuracy: 68.10%\n",
      "              precision    recall  f1-score   support\n",
      "\n",
      "    Negative       0.69      0.33      0.45        66\n",
      "        None       1.00      0.04      0.07        27\n",
      "    Positive       0.68      0.97      0.80       139\n",
      "\n",
      "    accuracy                           0.68       232\n",
      "   macro avg       0.79      0.45      0.44       232\n",
      "weighted avg       0.72      0.68      0.61       232\n",
      "\n",
      "\n",
      "Service Classification:\n",
      "Accuracy: 71.98%\n",
      "              precision    recall  f1-score   support\n",
      "\n",
      "    Negative       0.79      0.55      0.65        62\n",
      "        None       0.66      0.77      0.71        87\n",
      "    Positive       0.75      0.80      0.77        83\n",
      "\n",
      "    accuracy                           0.72       232\n",
      "   macro avg       0.73      0.70      0.71       232\n",
      "weighted avg       0.73      0.72      0.72       232\n",
      "\n",
      "\n",
      "Atmosphere Classification:\n",
      "Accuracy: 77.59%\n",
      "              precision    recall  f1-score   support\n",
      "\n",
      "    Negative       0.00      0.00      0.00        20\n",
      "        None       0.76      0.97      0.85       150\n",
      "    Positive       0.85      0.55      0.67        62\n",
      "\n",
      "    accuracy                           0.78       232\n",
      "   macro avg       0.54      0.51      0.51       232\n",
      "weighted avg       0.72      0.78      0.73       232\n"
     ]
    },
    {
     "name": "stderr",
     "output_type": "stream",
     "text": [
      "/Users/aneta/opt/miniconda3/envs/DataMining/lib/python3.10/site-packages/sklearn/metrics/_classification.py:1531: UndefinedMetricWarning: Precision is ill-defined and being set to 0.0 in labels with no predicted samples. Use `zero_division` parameter to control this behavior.\n",
      "  _warn_prf(average, modifier, f\"{metric.capitalize()} is\", len(result))\n",
      "/Users/aneta/opt/miniconda3/envs/DataMining/lib/python3.10/site-packages/sklearn/metrics/_classification.py:1531: UndefinedMetricWarning: Precision is ill-defined and being set to 0.0 in labels with no predicted samples. Use `zero_division` parameter to control this behavior.\n",
      "  _warn_prf(average, modifier, f\"{metric.capitalize()} is\", len(result))\n",
      "/Users/aneta/opt/miniconda3/envs/DataMining/lib/python3.10/site-packages/sklearn/metrics/_classification.py:1531: UndefinedMetricWarning: Precision is ill-defined and being set to 0.0 in labels with no predicted samples. Use `zero_division` parameter to control this behavior.\n",
      "  _warn_prf(average, modifier, f\"{metric.capitalize()} is\", len(result))\n"
     ]
    },
    {
     "name": "stdout",
     "output_type": "stream",
     "text": [
      "\n",
      "Model Performance Metrics:\n",
      "\n",
      "Food Classification:\n",
      "Accuracy: 67.67%\n",
      "              precision    recall  f1-score   support\n",
      "\n",
      "    Negative       0.64      0.24      0.35        66\n",
      "        None       0.71      0.19      0.29        27\n",
      "    Positive       0.68      0.98      0.80       139\n",
      "\n",
      "    accuracy                           0.68       232\n",
      "   macro avg       0.68      0.47      0.48       232\n",
      "weighted avg       0.67      0.68      0.61       232\n",
      "\n",
      "\n",
      "Service Classification:\n",
      "Accuracy: 70.26%\n",
      "              precision    recall  f1-score   support\n",
      "\n",
      "    Negative       0.69      0.39      0.49        62\n",
      "        None       0.78      0.79      0.78        87\n",
      "    Positive       0.65      0.84      0.73        83\n",
      "\n",
      "    accuracy                           0.70       232\n",
      "   macro avg       0.70      0.67      0.67       232\n",
      "weighted avg       0.71      0.70      0.69       232\n",
      "\n",
      "\n",
      "Atmosphere Classification:\n",
      "Accuracy: 78.88%\n",
      "              precision    recall  f1-score   support\n",
      "\n",
      "    Negative       0.00      0.00      0.00        20\n",
      "        None       0.79      0.96      0.87       150\n",
      "    Positive       0.78      0.63      0.70        62\n",
      "\n",
      "    accuracy                           0.79       232\n",
      "   macro avg       0.52      0.53      0.52       232\n",
      "weighted avg       0.72      0.79      0.75       232\n"
     ]
    },
    {
     "name": "stderr",
     "output_type": "stream",
     "text": [
      "/Users/aneta/opt/miniconda3/envs/DataMining/lib/python3.10/site-packages/sklearn/metrics/_classification.py:1531: UndefinedMetricWarning: Precision is ill-defined and being set to 0.0 in labels with no predicted samples. Use `zero_division` parameter to control this behavior.\n",
      "  _warn_prf(average, modifier, f\"{metric.capitalize()} is\", len(result))\n",
      "/Users/aneta/opt/miniconda3/envs/DataMining/lib/python3.10/site-packages/sklearn/metrics/_classification.py:1531: UndefinedMetricWarning: Precision is ill-defined and being set to 0.0 in labels with no predicted samples. Use `zero_division` parameter to control this behavior.\n",
      "  _warn_prf(average, modifier, f\"{metric.capitalize()} is\", len(result))\n",
      "/Users/aneta/opt/miniconda3/envs/DataMining/lib/python3.10/site-packages/sklearn/metrics/_classification.py:1531: UndefinedMetricWarning: Precision is ill-defined and being set to 0.0 in labels with no predicted samples. Use `zero_division` parameter to control this behavior.\n",
      "  _warn_prf(average, modifier, f\"{metric.capitalize()} is\", len(result))\n"
     ]
    },
    {
     "name": "stdout",
     "output_type": "stream",
     "text": [
      "\n",
      "Model Performance Metrics:\n",
      "\n",
      "Food Classification:\n",
      "Accuracy: 71.12%\n",
      "              precision    recall  f1-score   support\n",
      "\n",
      "    Negative       0.67      0.47      0.55        66\n",
      "        None       0.75      0.11      0.19        27\n",
      "    Positive       0.72      0.94      0.82       139\n",
      "\n",
      "    accuracy                           0.71       232\n",
      "   macro avg       0.71      0.51      0.52       232\n",
      "weighted avg       0.71      0.71      0.67       232\n",
      "\n",
      "\n",
      "Service Classification:\n",
      "Accuracy: 72.41%\n",
      "              precision    recall  f1-score   support\n",
      "\n",
      "    Negative       0.74      0.60      0.66        62\n",
      "        None       0.68      0.75      0.71        87\n",
      "    Positive       0.77      0.80      0.78        83\n",
      "\n",
      "    accuracy                           0.72       232\n",
      "   macro avg       0.73      0.71      0.72       232\n",
      "weighted avg       0.73      0.72      0.72       232\n",
      "\n",
      "\n",
      "Atmosphere Classification:\n",
      "Accuracy: 77.59%\n",
      "              precision    recall  f1-score   support\n",
      "\n",
      "    Negative       0.00      0.00      0.00        20\n",
      "        None       0.79      0.93      0.86       150\n",
      "    Positive       0.73      0.65      0.68        62\n",
      "\n",
      "    accuracy                           0.78       232\n",
      "   macro avg       0.51      0.53      0.51       232\n",
      "weighted avg       0.71      0.78      0.74       232\n"
     ]
    },
    {
     "name": "stderr",
     "output_type": "stream",
     "text": [
      "/Users/aneta/opt/miniconda3/envs/DataMining/lib/python3.10/site-packages/sklearn/metrics/_classification.py:1531: UndefinedMetricWarning: Precision is ill-defined and being set to 0.0 in labels with no predicted samples. Use `zero_division` parameter to control this behavior.\n",
      "  _warn_prf(average, modifier, f\"{metric.capitalize()} is\", len(result))\n",
      "/Users/aneta/opt/miniconda3/envs/DataMining/lib/python3.10/site-packages/sklearn/metrics/_classification.py:1531: UndefinedMetricWarning: Precision is ill-defined and being set to 0.0 in labels with no predicted samples. Use `zero_division` parameter to control this behavior.\n",
      "  _warn_prf(average, modifier, f\"{metric.capitalize()} is\", len(result))\n",
      "/Users/aneta/opt/miniconda3/envs/DataMining/lib/python3.10/site-packages/sklearn/metrics/_classification.py:1531: UndefinedMetricWarning: Precision is ill-defined and being set to 0.0 in labels with no predicted samples. Use `zero_division` parameter to control this behavior.\n",
      "  _warn_prf(average, modifier, f\"{metric.capitalize()} is\", len(result))\n"
     ]
    }
   ],
   "source": [
    "df = pd.read_csv('../raw_data/clean_data.csv')  # Load your dataset\n",
    "\n",
    "df_low_score = df[df['rating'] < 5]\n",
    "\n",
    "# Sample 500 reviews with a score of 5\n",
    "df_score_5_sample = df[df['rating'] == 5].sample(n=300, random_state=42)\n",
    "\n",
    "# Combine the two DataFrames\n",
    "df_filtered = pd.concat([df_low_score, df_score_5_sample])\n",
    "\n",
    "# Reset the index if needed\n",
    "df_filtered.reset_index(drop=True, inplace=True)\n",
    "\n",
    "df = df_filtered\n",
    "\n",
    "# Train using Logistic Regression\n",
    "classifier_lr.train(df)\n",
    "\n",
    "# Train using Random Forest\n",
    "classifier_rf.train(df)\n",
    "\n",
    "# Train using SVM\n",
    "classifier_svm.train(df)\n"
   ],
   "metadata": {
    "collapsed": false,
    "ExecuteTime": {
     "end_time": "2024-12-18T17:13:00.150155Z",
     "start_time": "2024-12-18T17:12:55.060533Z"
    }
   }
  },
  {
   "cell_type": "code",
   "execution_count": 15,
   "outputs": [
    {
     "name": "stdout",
     "output_type": "stream",
     "text": [
      "Cudowna obsługa , pani dokładnie sprawdzająca każde danie pod względem alergii córki , życzliwość i uśmiech Pani kelnerki . Górale i muzyka tworząca  niesamowitą swojską atmosferę .  Dania bardzo smaczne , porcje ogromne , ceny przystępne . Wrócimy na 100% Dziękujemy jeszcze raz 🥰…\n",
      "Logistic Regression Predictions: {'food': 'Positive', 'service': 'Positive', 'atmosphere': 'None'}\n",
      "\n",
      "\n",
      "Jedliśmy żurek barszcz z uszkami placek po zbójnicku z zestawem surówek i margaritte. Żurek znośny za to barszcz był obrzydliwy do tego uszka były rozgotowane i pokaleczone o kwaśnym smaku. Placek był bez smaku a margarita to wiór do pizzy można dostać co najwyżej ketchup. Bukiet podobno 3 surówek to mały talerzyk od espresso.\n",
      "Logistic Regression Predictions: {'food': 'Negative', 'service': 'None', 'atmosphere': 'None'}\n",
      "\n",
      "\n",
      "Byłem w tym miejscu pierwszy raz ok 10 lat temu i wtedy w tej restauracji było mnóstwo ludzi, pyszne jedzenie w ogromnych porcjach i widać było że knajpa żyje 😊 teraz małe porcje , drogo i niczym nie wyróżniające się jedzenie, trzeba długo czekać na obsługę. Klimat poprawia jedynie Muzyka na Żywo.…\n",
      "Logistic Regression Predictions: {'food': 'Positive', 'service': 'None', 'atmosphere': 'None'}\n",
      "\n",
      "\n",
      "Zestaw dnia za 37 zł myślę że cena bardzo dobra\n",
      "Co do samego jedzenia to kwaśnica trochę słaba spodziewałem się lepszych doznań smakowych co do niej :/…\n",
      "Logistic Regression Predictions: {'food': 'Positive', 'service': 'None', 'atmosphere': 'None'}\n",
      "\n",
      "\n",
      "Miałem okazję być pierwszy raz w tej restauracji, niestety późną porą. Na kartę i podejście obsługi czekałem chyba z 20 minut.  Myślałem, że to kwestia późnej por i zmęczenia. Jednak później poczytałem komentarze i okazała się, że tam to…\n",
      "Logistic Regression Predictions: {'food': 'Positive', 'service': 'Negative', 'atmosphere': 'None'}\n"
     ]
    }
   ],
   "source": [
    "# load test_data_reviews\n",
    "test_data = pd.read_csv('../test_data_reviews/2_9_review.csv')    \n",
    "\n",
    "# Predict using Logistic Regression\n",
    "predictions_lr = classifier_lr.predict(test_data['text'][0:5])\n",
    "#print review text and predicted ratings\n",
    "for i in range(5):\n",
    "    print(test_data['wiI7pd'][i])\n",
    "    print(\"Logistic Regression Predictions:\", predictions_lr[i])\n",
    "    print(\"\\n\")"
   ],
   "metadata": {
    "collapsed": false,
    "ExecuteTime": {
     "end_time": "2024-12-18T17:15:24.152095Z",
     "start_time": "2024-12-18T17:15:24.121763Z"
    }
   }
  },
  {
   "cell_type": "code",
   "execution_count": 16,
   "outputs": [
    {
     "name": "stdout",
     "output_type": "stream",
     "text": [
      "Cudowna obsługa , pani dokładnie sprawdzająca każde danie pod względem alergii córki , życzliwość i uśmiech Pani kelnerki . Górale i muzyka tworząca  niesamowitą swojską atmosferę .  Dania bardzo smaczne , porcje ogromne , ceny przystępne . Wrócimy na 100% Dziękujemy jeszcze raz 🥰…\n",
      "Random Forest Predictions: {'food': 'Positive', 'service': 'Positive', 'atmosphere': 'Positive'}\n",
      "\n",
      "\n",
      "Jedliśmy żurek barszcz z uszkami placek po zbójnicku z zestawem surówek i margaritte. Żurek znośny za to barszcz był obrzydliwy do tego uszka były rozgotowane i pokaleczone o kwaśnym smaku. Placek był bez smaku a margarita to wiór do pizzy można dostać co najwyżej ketchup. Bukiet podobno 3 surówek to mały talerzyk od espresso.\n",
      "Random Forest Predictions: {'food': 'Negative', 'service': 'None', 'atmosphere': 'None'}\n",
      "\n",
      "\n",
      "Byłem w tym miejscu pierwszy raz ok 10 lat temu i wtedy w tej restauracji było mnóstwo ludzi, pyszne jedzenie w ogromnych porcjach i widać było że knajpa żyje 😊 teraz małe porcje , drogo i niczym nie wyróżniające się jedzenie, trzeba długo czekać na obsługę. Klimat poprawia jedynie Muzyka na Żywo.…\n",
      "Random Forest Predictions: {'food': 'Positive', 'service': 'Positive', 'atmosphere': 'None'}\n",
      "\n",
      "\n",
      "Zestaw dnia za 37 zł myślę że cena bardzo dobra\n",
      "Co do samego jedzenia to kwaśnica trochę słaba spodziewałem się lepszych doznań smakowych co do niej :/…\n",
      "Random Forest Predictions: {'food': 'Positive', 'service': 'None', 'atmosphere': 'None'}\n",
      "\n",
      "\n",
      "Miałem okazję być pierwszy raz w tej restauracji, niestety późną porą. Na kartę i podejście obsługi czekałem chyba z 20 minut.  Myślałem, że to kwestia późnej por i zmęczenia. Jednak później poczytałem komentarze i okazała się, że tam to…\n",
      "Random Forest Predictions: {'food': 'Positive', 'service': 'Negative', 'atmosphere': 'None'}\n"
     ]
    }
   ],
   "source": [
    "# Predict using Random Forest\n",
    "predictions_rf = classifier_rf.predict(test_data['text'][0:5])\n",
    "#print review text and predicted ratings\n",
    "for i in range(5):\n",
    "    print(test_data['wiI7pd'][i])\n",
    "    print(\"Random Forest Predictions:\", predictions_rf[i])\n",
    "    print(\"\\n\")"
   ],
   "metadata": {
    "collapsed": false,
    "ExecuteTime": {
     "end_time": "2024-12-18T17:15:25.122806Z",
     "start_time": "2024-12-18T17:15:25.098763Z"
    }
   }
  },
  {
   "cell_type": "code",
   "execution_count": 17,
   "outputs": [
    {
     "name": "stdout",
     "output_type": "stream",
     "text": [
      "Cudowna obsługa , pani dokładnie sprawdzająca każde danie pod względem alergii córki , życzliwość i uśmiech Pani kelnerki . Górale i muzyka tworząca  niesamowitą swojską atmosferę .  Dania bardzo smaczne , porcje ogromne , ceny przystępne . Wrócimy na 100% Dziękujemy jeszcze raz 🥰…\n",
      "SVM Predictions: {'food': 'Positive', 'service': 'Positive', 'atmosphere': 'None'}\n",
      "\n",
      "\n",
      "Jedliśmy żurek barszcz z uszkami placek po zbójnicku z zestawem surówek i margaritte. Żurek znośny za to barszcz był obrzydliwy do tego uszka były rozgotowane i pokaleczone o kwaśnym smaku. Placek był bez smaku a margarita to wiór do pizzy można dostać co najwyżej ketchup. Bukiet podobno 3 surówek to mały talerzyk od espresso.\n",
      "SVM Predictions: {'food': 'Negative', 'service': 'None', 'atmosphere': 'None'}\n",
      "\n",
      "\n",
      "Byłem w tym miejscu pierwszy raz ok 10 lat temu i wtedy w tej restauracji było mnóstwo ludzi, pyszne jedzenie w ogromnych porcjach i widać było że knajpa żyje 😊 teraz małe porcje , drogo i niczym nie wyróżniające się jedzenie, trzeba długo czekać na obsługę. Klimat poprawia jedynie Muzyka na Żywo.…\n",
      "SVM Predictions: {'food': 'Positive', 'service': 'None', 'atmosphere': 'None'}\n",
      "\n",
      "\n",
      "Zestaw dnia za 37 zł myślę że cena bardzo dobra\n",
      "Co do samego jedzenia to kwaśnica trochę słaba spodziewałem się lepszych doznań smakowych co do niej :/…\n",
      "SVM Predictions: {'food': 'Positive', 'service': 'None', 'atmosphere': 'None'}\n",
      "\n",
      "\n",
      "Miałem okazję być pierwszy raz w tej restauracji, niestety późną porą. Na kartę i podejście obsługi czekałem chyba z 20 minut.  Myślałem, że to kwestia późnej por i zmęczenia. Jednak później poczytałem komentarze i okazała się, że tam to…\n",
      "SVM Predictions: {'food': 'Positive', 'service': 'Negative', 'atmosphere': 'None'}\n"
     ]
    }
   ],
   "source": [
    "# Predict using SVM\n",
    "predictions_svm = classifier_svm.predict(test_data['text'][0:5])\n",
    "#print review text and predicted ratings\n",
    "for i in range(5):\n",
    "    print(test_data['wiI7pd'][i])\n",
    "    print(\"SVM Predictions:\", predictions_svm[i])\n",
    "    print(\"\\n\")"
   ],
   "metadata": {
    "collapsed": false,
    "ExecuteTime": {
     "end_time": "2024-12-18T17:15:26.020705Z",
     "start_time": "2024-12-18T17:15:26.002260Z"
    }
   }
  }
 ],
 "metadata": {
  "kernelspec": {
   "display_name": "Python 3",
   "language": "python",
   "name": "python3"
  },
  "language_info": {
   "codemirror_mode": {
    "name": "ipython",
    "version": 3
   },
   "file_extension": ".py",
   "mimetype": "text/x-python",
   "name": "python",
   "nbconvert_exporter": "python",
   "pygments_lexer": "ipython3",
   "version": "3.8.5"
  }
 },
 "nbformat": 4,
 "nbformat_minor": 4
}
