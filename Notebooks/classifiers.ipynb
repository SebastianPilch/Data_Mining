{
 "cells": [
  {
   "cell_type": "markdown",
   "metadata": {},
   "source": [
    "# Restaurant Review Classifiers\n",
    "\n",
    "## Overview\n",
    "This notebook demonstrates a multi-output classification model for restaurant reviews, predicting food, service, and atmosphere ratings."
   ]
  },
  {
   "cell_type": "code",
   "execution_count": 19,
   "outputs": [],
   "source": [
    "from sklearn.ensemble import RandomForestClassifier\n",
    "from sklearn.svm import SVC\n",
    "from sklearn.multioutput import MultiOutputClassifier\n",
    "from sklearn.linear_model import LogisticRegression\n",
    "from sklearn.metrics import accuracy_score, classification_report\n",
    "from sklearn.feature_extraction.text import TfidfVectorizer\n",
    "from sklearn.model_selection import train_test_split\n",
    "from sklearn.preprocessing import LabelEncoder\n",
    "import pandas as pd"
   ],
   "metadata": {
    "collapsed": false,
    "ExecuteTime": {
     "end_time": "2024-11-21T21:13:38.760447Z",
     "start_time": "2024-11-21T21:13:38.753483Z"
    }
   }
  },
  {
   "cell_type": "code",
   "execution_count": 20,
   "outputs": [],
   "source": [
    "class RestaurantReviewClassifier:\n",
    "    def __init__(self, model='logistic_regression'):\n",
    "        self.tfidf_vectorizer = TfidfVectorizer(\n",
    "            stop_words='english',\n",
    "            max_features=5000,\n",
    "            ngram_range=(1, 2)\n",
    "        )\n",
    "        self.label_encoders = {\n",
    "            'food': LabelEncoder(),\n",
    "            'service': LabelEncoder(),\n",
    "            'atmosphere': LabelEncoder()\n",
    "        }\n",
    "\n",
    "        # Initialize classifier based on input model\n",
    "        if model == 'logistic_regression':\n",
    "            base_classifier = LogisticRegression(max_iter=1000)\n",
    "        elif model == 'random_forest':\n",
    "            base_classifier = RandomForestClassifier(n_estimators=100, random_state=42)\n",
    "        elif model == 'svm':\n",
    "            base_classifier = SVC(probability=True, kernel='linear')\n",
    "        else:\n",
    "            raise ValueError(\"Model not supported. Choose from 'logistic_regression', 'random_forest', 'svm'.\")\n",
    "\n",
    "        self.classifier = MultiOutputClassifier(base_classifier)\n",
    "\n",
    "    def preprocess_data(self, df):\n",
    "        # Drop rows with NaN in text column\n",
    "        df = df.dropna(subset=['text'])\n",
    "\n",
    "        # Fill NaN in categorical columns with 'None'\n",
    "        columns = ['food', 'service', 'atmosphere']\n",
    "        for col in columns:\n",
    "            if col not in df.columns:\n",
    "                df[col] = 'None'\n",
    "            df.loc[:, col] = df[col].fillna('None')\n",
    "\n",
    "        return df\n",
    "\n",
    "    def train(self, df):\n",
    "        # Preprocess data\n",
    "        df = self.preprocess_data(df)\n",
    "\n",
    "        # Vectorize text\n",
    "        X = self.tfidf_vectorizer.fit_transform(df['text'].astype(str))\n",
    "\n",
    "        # Encode labels dynamically\n",
    "        y_dict = {}\n",
    "        for col in ['food', 'service', 'atmosphere']:\n",
    "            unique_labels = df[col].unique()\n",
    "            self.label_encoders[col].fit(unique_labels)\n",
    "            y_dict[col] = self.label_encoders[col].transform(df[col])\n",
    "\n",
    "        y = pd.DataFrame(y_dict)\n",
    "\n",
    "        # Split data\n",
    "        X_train, X_test, y_train, y_test = train_test_split(\n",
    "            X, y, test_size=0.2, random_state=42\n",
    "        )\n",
    "\n",
    "        # Train classifier\n",
    "        self.classifier.fit(X_train, y_train)\n",
    "\n",
    "        # Predict\n",
    "        y_pred = self.classifier.predict(X_test)\n",
    "\n",
    "        # Evaluate\n",
    "        print(\"\\nModel Performance Metrics:\")\n",
    "        for i, col in enumerate(['food', 'service', 'atmosphere']):\n",
    "            print(f\"\\n{col.capitalize()} Classification:\")\n",
    "            classes = self.label_encoders[col].classes_\n",
    "\n",
    "            accuracy = accuracy_score(y_test.iloc[:, i], y_pred[:, i])\n",
    "            print(f\"Accuracy: {accuracy:.2%}\")\n",
    "\n",
    "            print(classification_report(\n",
    "                y_test.iloc[:, i],\n",
    "                y_pred[:, i],\n",
    "                labels=range(len(classes)),\n",
    "                target_names=classes\n",
    "            ))\n",
    "\n",
    "    def predict(self, texts):\n",
    "        # Convert texts to strings and handle potential NaN\n",
    "        texts = [str(text) if pd.notna(text) else '' for text in texts]\n",
    "\n",
    "        # Vectorize input\n",
    "        X = self.tfidf_vectorizer.transform(texts)\n",
    "\n",
    "        # Predict\n",
    "        predictions = self.classifier.predict(X)\n",
    "\n",
    "        # Decode predictions\n",
    "        results = []\n",
    "        for pred in predictions:\n",
    "            result = {\n",
    "                col: self.label_encoders[col].inverse_transform([p])[0]\n",
    "                for col, p in zip(['food', 'service', 'atmosphere'], pred)\n",
    "            }\n",
    "            results.append(result)\n",
    "\n",
    "        return results\n"
   ],
   "metadata": {
    "collapsed": false,
    "ExecuteTime": {
     "end_time": "2024-11-21T21:15:09.260616Z",
     "start_time": "2024-11-21T21:15:09.257806Z"
    }
   }
  },
  {
   "cell_type": "code",
   "execution_count": 21,
   "outputs": [],
   "source": [
    "# Logistic Regression\n",
    "classifier_lr = RestaurantReviewClassifier(model='logistic_regression')\n",
    "\n",
    "# Random Forest\n",
    "classifier_rf = RestaurantReviewClassifier(model='random_forest')\n",
    "\n",
    "# Support Vector Machine\n",
    "classifier_svm = RestaurantReviewClassifier(model='svm')\n"
   ],
   "metadata": {
    "collapsed": false,
    "ExecuteTime": {
     "end_time": "2024-11-21T21:15:09.822044Z",
     "start_time": "2024-11-21T21:15:09.818252Z"
    }
   }
  },
  {
   "cell_type": "code",
   "execution_count": 25,
   "outputs": [
    {
     "name": "stderr",
     "output_type": "stream",
     "text": [
      "C:\\Users\\SEBAST~1\\AppData\\Local\\Temp/ipykernel_12192/1378635224.py:35: SettingWithCopyWarning: \n",
      "A value is trying to be set on a copy of a slice from a DataFrame.\n",
      "Try using .loc[row_indexer,col_indexer] = value instead\n",
      "\n",
      "See the caveats in the documentation: https://pandas.pydata.org/pandas-docs/stable/user_guide/indexing.html#returning-a-view-versus-a-copy\n",
      "  df.loc[:, col] = df[col].fillna('None')\n"
     ]
    },
    {
     "name": "stdout",
     "output_type": "stream",
     "text": [
      "\n",
      "Model Performance Metrics:\n",
      "\n",
      "Food Classification:\n",
      "Accuracy: 77.53%\n",
      "              precision    recall  f1-score   support\n",
      "\n",
      "    Negative       0.75      0.45      0.56        60\n",
      "        None       0.00      0.00      0.00        23\n",
      "    Positive       0.78      0.98      0.87       184\n",
      "\n",
      "    accuracy                           0.78       267\n",
      "   macro avg       0.51      0.48      0.48       267\n",
      "weighted avg       0.71      0.78      0.72       267\n",
      "\n",
      "\n",
      "Service Classification:\n",
      "Accuracy: 71.91%\n",
      "              precision    recall  f1-score   support\n",
      "\n",
      "    Negative       0.94      0.48      0.63        63\n",
      "        None       0.66      0.76      0.70        98\n",
      "    Positive       0.72      0.83      0.77       106\n",
      "\n",
      "    accuracy                           0.72       267\n",
      "   macro avg       0.77      0.69      0.70       267\n",
      "weighted avg       0.75      0.72      0.71       267\n",
      "\n",
      "\n",
      "Atmosphere Classification:\n",
      "Accuracy: 73.78%\n",
      "              precision    recall  f1-score   support\n",
      "\n",
      "    Negative       0.00      0.00      0.00        26\n",
      "        None       0.72      0.94      0.82       159\n",
      "    Positive       0.80      0.57      0.67        82\n",
      "\n",
      "    accuracy                           0.74       267\n",
      "   macro avg       0.51      0.51      0.49       267\n",
      "weighted avg       0.67      0.74      0.69       267\n",
      "\n"
     ]
    },
    {
     "name": "stderr",
     "output_type": "stream",
     "text": [
      "C:\\Users\\Sebastian\\AppData\\Local\\Programs\\Python\\Python39\\lib\\site-packages\\sklearn\\metrics\\_classification.py:1327: UndefinedMetricWarning: Precision and F-score are ill-defined and being set to 0.0 in labels with no predicted samples. Use `zero_division` parameter to control this behavior.\n",
      "  _warn_prf(average, modifier, msg_start, len(result))\n",
      "C:\\Users\\Sebastian\\AppData\\Local\\Programs\\Python\\Python39\\lib\\site-packages\\sklearn\\metrics\\_classification.py:1327: UndefinedMetricWarning: Precision and F-score are ill-defined and being set to 0.0 in labels with no predicted samples. Use `zero_division` parameter to control this behavior.\n",
      "  _warn_prf(average, modifier, msg_start, len(result))\n",
      "C:\\Users\\Sebastian\\AppData\\Local\\Programs\\Python\\Python39\\lib\\site-packages\\sklearn\\metrics\\_classification.py:1327: UndefinedMetricWarning: Precision and F-score are ill-defined and being set to 0.0 in labels with no predicted samples. Use `zero_division` parameter to control this behavior.\n",
      "  _warn_prf(average, modifier, msg_start, len(result))\n",
      "C:\\Users\\Sebastian\\AppData\\Local\\Programs\\Python\\Python39\\lib\\site-packages\\sklearn\\metrics\\_classification.py:1327: UndefinedMetricWarning: Precision and F-score are ill-defined and being set to 0.0 in labels with no predicted samples. Use `zero_division` parameter to control this behavior.\n",
      "  _warn_prf(average, modifier, msg_start, len(result))\n",
      "C:\\Users\\Sebastian\\AppData\\Local\\Programs\\Python\\Python39\\lib\\site-packages\\sklearn\\metrics\\_classification.py:1327: UndefinedMetricWarning: Precision and F-score are ill-defined and being set to 0.0 in labels with no predicted samples. Use `zero_division` parameter to control this behavior.\n",
      "  _warn_prf(average, modifier, msg_start, len(result))\n",
      "C:\\Users\\Sebastian\\AppData\\Local\\Programs\\Python\\Python39\\lib\\site-packages\\sklearn\\metrics\\_classification.py:1327: UndefinedMetricWarning: Precision and F-score are ill-defined and being set to 0.0 in labels with no predicted samples. Use `zero_division` parameter to control this behavior.\n",
      "  _warn_prf(average, modifier, msg_start, len(result))\n",
      "C:\\Users\\SEBAST~1\\AppData\\Local\\Temp/ipykernel_12192/1378635224.py:35: SettingWithCopyWarning: \n",
      "A value is trying to be set on a copy of a slice from a DataFrame.\n",
      "Try using .loc[row_indexer,col_indexer] = value instead\n",
      "\n",
      "See the caveats in the documentation: https://pandas.pydata.org/pandas-docs/stable/user_guide/indexing.html#returning-a-view-versus-a-copy\n",
      "  df.loc[:, col] = df[col].fillna('None')\n"
     ]
    },
    {
     "name": "stdout",
     "output_type": "stream",
     "text": [
      "\n",
      "Model Performance Metrics:\n",
      "\n",
      "Food Classification:\n",
      "Accuracy: 75.28%\n",
      "              precision    recall  f1-score   support\n",
      "\n",
      "    Negative       0.71      0.37      0.48        60\n",
      "        None       0.00      0.00      0.00        23\n",
      "    Positive       0.76      0.97      0.85       184\n",
      "\n",
      "    accuracy                           0.75       267\n",
      "   macro avg       0.49      0.45      0.45       267\n",
      "weighted avg       0.68      0.75      0.70       267\n",
      "\n",
      "\n",
      "Service Classification:\n",
      "Accuracy: 74.16%\n",
      "              precision    recall  f1-score   support\n",
      "\n",
      "    Negative       0.82      0.43      0.56        63\n",
      "        None       0.74      0.82      0.78        98\n",
      "    Positive       0.72      0.86      0.78       106\n",
      "\n",
      "    accuracy                           0.74       267\n",
      "   macro avg       0.76      0.70      0.71       267\n",
      "weighted avg       0.75      0.74      0.73       267\n",
      "\n",
      "\n",
      "Atmosphere Classification:\n",
      "Accuracy: 74.16%\n",
      "              precision    recall  f1-score   support\n",
      "\n",
      "    Negative       0.00      0.00      0.00        26\n",
      "        None       0.74      0.93      0.82       159\n",
      "    Positive       0.76      0.61      0.68        82\n",
      "\n",
      "    accuracy                           0.74       267\n",
      "   macro avg       0.50      0.51      0.50       267\n",
      "weighted avg       0.67      0.74      0.70       267\n",
      "\n"
     ]
    },
    {
     "name": "stderr",
     "output_type": "stream",
     "text": [
      "C:\\Users\\Sebastian\\AppData\\Local\\Programs\\Python\\Python39\\lib\\site-packages\\sklearn\\metrics\\_classification.py:1327: UndefinedMetricWarning: Precision and F-score are ill-defined and being set to 0.0 in labels with no predicted samples. Use `zero_division` parameter to control this behavior.\n",
      "  _warn_prf(average, modifier, msg_start, len(result))\n",
      "C:\\Users\\Sebastian\\AppData\\Local\\Programs\\Python\\Python39\\lib\\site-packages\\sklearn\\metrics\\_classification.py:1327: UndefinedMetricWarning: Precision and F-score are ill-defined and being set to 0.0 in labels with no predicted samples. Use `zero_division` parameter to control this behavior.\n",
      "  _warn_prf(average, modifier, msg_start, len(result))\n",
      "C:\\Users\\Sebastian\\AppData\\Local\\Programs\\Python\\Python39\\lib\\site-packages\\sklearn\\metrics\\_classification.py:1327: UndefinedMetricWarning: Precision and F-score are ill-defined and being set to 0.0 in labels with no predicted samples. Use `zero_division` parameter to control this behavior.\n",
      "  _warn_prf(average, modifier, msg_start, len(result))\n",
      "C:\\Users\\Sebastian\\AppData\\Local\\Programs\\Python\\Python39\\lib\\site-packages\\sklearn\\metrics\\_classification.py:1327: UndefinedMetricWarning: Precision and F-score are ill-defined and being set to 0.0 in labels with no predicted samples. Use `zero_division` parameter to control this behavior.\n",
      "  _warn_prf(average, modifier, msg_start, len(result))\n",
      "C:\\Users\\Sebastian\\AppData\\Local\\Programs\\Python\\Python39\\lib\\site-packages\\sklearn\\metrics\\_classification.py:1327: UndefinedMetricWarning: Precision and F-score are ill-defined and being set to 0.0 in labels with no predicted samples. Use `zero_division` parameter to control this behavior.\n",
      "  _warn_prf(average, modifier, msg_start, len(result))\n",
      "C:\\Users\\Sebastian\\AppData\\Local\\Programs\\Python\\Python39\\lib\\site-packages\\sklearn\\metrics\\_classification.py:1327: UndefinedMetricWarning: Precision and F-score are ill-defined and being set to 0.0 in labels with no predicted samples. Use `zero_division` parameter to control this behavior.\n",
      "  _warn_prf(average, modifier, msg_start, len(result))\n",
      "C:\\Users\\SEBAST~1\\AppData\\Local\\Temp/ipykernel_12192/1378635224.py:35: SettingWithCopyWarning: \n",
      "A value is trying to be set on a copy of a slice from a DataFrame.\n",
      "Try using .loc[row_indexer,col_indexer] = value instead\n",
      "\n",
      "See the caveats in the documentation: https://pandas.pydata.org/pandas-docs/stable/user_guide/indexing.html#returning-a-view-versus-a-copy\n",
      "  df.loc[:, col] = df[col].fillna('None')\n"
     ]
    },
    {
     "name": "stdout",
     "output_type": "stream",
     "text": [
      "\n",
      "Model Performance Metrics:\n",
      "\n",
      "Food Classification:\n",
      "Accuracy: 77.15%\n",
      "              precision    recall  f1-score   support\n",
      "\n",
      "    Negative       0.62      0.55      0.58        60\n",
      "        None       0.00      0.00      0.00        23\n",
      "    Positive       0.81      0.94      0.87       184\n",
      "\n",
      "    accuracy                           0.77       267\n",
      "   macro avg       0.48      0.50      0.49       267\n",
      "weighted avg       0.70      0.77      0.73       267\n",
      "\n",
      "\n",
      "Service Classification:\n",
      "Accuracy: 74.53%\n",
      "              precision    recall  f1-score   support\n",
      "\n",
      "    Negative       0.83      0.62      0.71        63\n",
      "        None       0.69      0.79      0.73        98\n",
      "    Positive       0.77      0.78      0.78       106\n",
      "\n",
      "    accuracy                           0.75       267\n",
      "   macro avg       0.76      0.73      0.74       267\n",
      "weighted avg       0.75      0.75      0.74       267\n",
      "\n",
      "\n",
      "Atmosphere Classification:\n",
      "Accuracy: 74.91%\n",
      "              precision    recall  f1-score   support\n",
      "\n",
      "    Negative       0.00      0.00      0.00        26\n",
      "        None       0.74      0.94      0.83       159\n",
      "    Positive       0.77      0.62      0.69        82\n",
      "\n",
      "    accuracy                           0.75       267\n",
      "   macro avg       0.50      0.52      0.51       267\n",
      "weighted avg       0.68      0.75      0.70       267\n",
      "\n"
     ]
    },
    {
     "name": "stderr",
     "output_type": "stream",
     "text": [
      "C:\\Users\\Sebastian\\AppData\\Local\\Programs\\Python\\Python39\\lib\\site-packages\\sklearn\\metrics\\_classification.py:1327: UndefinedMetricWarning: Precision and F-score are ill-defined and being set to 0.0 in labels with no predicted samples. Use `zero_division` parameter to control this behavior.\n",
      "  _warn_prf(average, modifier, msg_start, len(result))\n",
      "C:\\Users\\Sebastian\\AppData\\Local\\Programs\\Python\\Python39\\lib\\site-packages\\sklearn\\metrics\\_classification.py:1327: UndefinedMetricWarning: Precision and F-score are ill-defined and being set to 0.0 in labels with no predicted samples. Use `zero_division` parameter to control this behavior.\n",
      "  _warn_prf(average, modifier, msg_start, len(result))\n",
      "C:\\Users\\Sebastian\\AppData\\Local\\Programs\\Python\\Python39\\lib\\site-packages\\sklearn\\metrics\\_classification.py:1327: UndefinedMetricWarning: Precision and F-score are ill-defined and being set to 0.0 in labels with no predicted samples. Use `zero_division` parameter to control this behavior.\n",
      "  _warn_prf(average, modifier, msg_start, len(result))\n"
     ]
    }
   ],
   "source": [
    "df = pd.read_csv('../raw_data/clean_data.csv')  # Load your dataset\n",
    "\n",
    "if 'to_be_removed' in df.columns:\n",
    "    df = df[df['to_be_removed'].isna()]\n",
    "\n",
    "df_low_score = df[df['rating'] < 5]\n",
    "\n",
    "# Sample 500 reviews with a score of 5\n",
    "df_score_5_sample = df[df['rating'] == 5].sample(n=500, random_state=42)\n",
    "\n",
    "df_filtered = pd.concat([df_low_score, df_score_5_sample])\n",
    "df_filtered.reset_index(drop=True, inplace=True)\n",
    "\n",
    "df = df_filtered\n",
    "\n",
    "# Train using Logistic Regression\n",
    "classifier_lr.train(df)\n",
    "\n",
    "# Train using Random Forest\n",
    "classifier_rf.train(df)\n",
    "\n",
    "# Train using SVM\n",
    "classifier_svm.train(df)\n",
    "\n",
    "\n"
   ],
   "metadata": {
    "collapsed": false,
    "ExecuteTime": {
     "end_time": "2024-11-21T21:15:23.473771Z",
     "start_time": "2024-11-21T21:15:10.326566Z"
    }
   }
  },
  {
   "cell_type": "code",
   "execution_count": 23,
   "outputs": [
    {
     "name": "stdout",
     "output_type": "stream",
     "text": [
      "Logistic Regression Predictions: [{'food': 'Positive', 'service': 'None', 'atmosphere': 'None'}, {'food': 'Positive', 'service': 'Positive', 'atmosphere': 'None'}, {'food': 'Positive', 'service': 'Positive', 'atmosphere': 'Positive'}]\n",
      "Random Forest Predictions: [{'food': 'Positive', 'service': 'None', 'atmosphere': 'None'}, {'food': 'Positive', 'service': 'Positive', 'atmosphere': 'None'}, {'food': 'Positive', 'service': 'None', 'atmosphere': 'Positive'}]\n",
      "SVM Predictions: [{'food': 'Positive', 'service': 'None', 'atmosphere': 'None'}, {'food': 'Positive', 'service': 'Negative', 'atmosphere': 'None'}, {'food': 'Positive', 'service': 'Positive', 'atmosphere': 'Positive'}]\n"
     ]
    }
   ],
   "source": [
    "texts = [\"The food was amazing!\", \"The service was slow.\", \"Loved the atmosphere!\"]\n",
    "\n",
    "# Predict using Logistic Regression\n",
    "predictions_lr = classifier_lr.predict(texts)\n",
    "print(\"Logistic Regression Predictions:\", predictions_lr)\n",
    "\n",
    "# Predict using Random Forest\n",
    "predictions_rf = classifier_rf.predict(texts)\n",
    "print(\"Random Forest Predictions:\", predictions_rf)\n",
    "\n",
    "# Predict using SVM\n",
    "predictions_svm = classifier_svm.predict(texts)\n",
    "print(\"SVM Predictions:\", predictions_svm)\n",
    "\n"
   ],
   "metadata": {
    "collapsed": false,
    "ExecuteTime": {
     "end_time": "2024-11-21T21:13:08.044315Z",
     "start_time": "2024-11-21T21:13:08.021454Z"
    }
   }
  },
  {
   "cell_type": "code",
   "execution_count": 26,
   "outputs": [
    {
     "name": "stdout",
     "output_type": "stream",
     "text": [
      "embarrassment leaflets left guest house call dozen connections lack response went personally reaching place add sunday restro\n",
      "Logistic Regression Predictions: {'food': 'Positive', 'service': 'None', 'atmosphere': 'None'}\n",
      "\n",
      "\n",
      "eating terrible kebabs fall apart order kebab get menu everything looks terrible unpleasant mean service waiting time also long\n",
      "Logistic Regression Predictions: {'food': 'Negative', 'service': 'Negative', 'atmosphere': 'None'}\n",
      "\n",
      "\n",
      "got kebab ordered indicated address kebab one big fat failure not recommend anyone pizza stuck cardboard packaging\n",
      "Logistic Regression Predictions: {'food': 'Positive', 'service': 'None', 'atmosphere': 'None'}\n",
      "\n",
      "\n",
      "lover good jokes pizzeria bacon sticks box like gypsy benefit canned ham caught promotion beautifully decorates vomit price zlotys think lightly\n",
      "Logistic Regression Predictions: {'food': 'Positive', 'service': 'None', 'atmosphere': 'None'}\n",
      "\n",
      "\n",
      "not understand negative opinions addition season pizza made moment order serve minutes e much need lightweight pleasant ingredients fresh big plus family salad caesar fresh though\n",
      "Logistic Regression Predictions: {'food': 'Positive', 'service': 'Positive', 'atmosphere': 'None'}\n",
      "\n",
      "\n"
     ]
    }
   ],
   "source": [
    "# load test_data_reviews\n",
    "test_data = pd.read_csv('../test_data_reviews/2_4_review.csv')\n",
    "\n",
    "# Predict using Logistic Regression\n",
    "predictions_lr = classifier_lr.predict(test_data['text'][0:5])\n",
    "#print review text and predicted ratings\n",
    "for i in range(5):\n",
    "    print(test_data['text'][i])\n",
    "    print(\"Logistic Regression Predictions:\", predictions_lr[i])\n",
    "    print(\"\\n\")"
   ],
   "metadata": {
    "collapsed": false,
    "pycharm": {
     "name": "#%%\n"
    }
   }
  }
 ],
 "metadata": {
  "kernelspec": {
   "display_name": "Python 3",
   "language": "python",
   "name": "python3"
  },
  "language_info": {
   "codemirror_mode": {
    "name": "ipython",
    "version": 3
   },
   "file_extension": ".py",
   "mimetype": "text/x-python",
   "name": "python",
   "nbconvert_exporter": "python",
   "pygments_lexer": "ipython3",
   "version": "3.8.5"
  }
 },
 "nbformat": 4,
 "nbformat_minor": 4
}