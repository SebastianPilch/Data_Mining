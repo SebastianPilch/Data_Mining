{
 "cells": [
  {
   "cell_type": "markdown",
   "metadata": {},
   "source": [
    " # Restaurant Review Classifiers\n",
    "\n",
    "## Overview\n",
    "This notebook demonstrates a multi-output classification model for restaurant reviews, predicting food, service, and atmosphere ratings."
   ]
  },
  {
   "cell_type": "code",
   "execution_count": 25,
   "outputs": [],
   "source": [
    "from sklearn.ensemble import RandomForestClassifier\n",
    "from sklearn.svm import SVC\n",
    "from sklearn.multioutput import MultiOutputClassifier\n",
    "from sklearn.linear_model import LogisticRegression\n",
    "from sklearn.metrics import accuracy_score, classification_report\n",
    "from sklearn.feature_extraction.text import TfidfVectorizer\n",
    "from sklearn.model_selection import train_test_split\n",
    "from sklearn.preprocessing import LabelEncoder\n",
    "import pandas as pd\n",
    "from sklearn import metrics\n",
    "import matplotlib.pyplot as plt\n",
    "import seaborn as sns"
   ],
   "metadata": {
    "collapsed": false,
    "ExecuteTime": {
     "end_time": "2024-12-19T16:39:21.103539Z",
     "start_time": "2024-12-19T16:39:21.041440Z"
    }
   }
  },
  {
   "cell_type": "code",
   "execution_count": 26,
   "outputs": [],
   "source": [
    "class RestaurantReviewClassifier:\n",
    "    def __init__(self, model='logistic_regression'):\n",
    "        self.tfidf_vectorizer = TfidfVectorizer(\n",
    "            stop_words='english',\n",
    "            max_features=5000,\n",
    "            ngram_range=(1, 2)\n",
    "        )\n",
    "        self.label_encoders = {\n",
    "            'food': LabelEncoder(),\n",
    "            'service': LabelEncoder(),\n",
    "            'atmosphere': LabelEncoder()\n",
    "        }\n",
    "\n",
    "        # Initialize classifier based on input model\n",
    "        if model == 'logistic_regression':\n",
    "            base_classifier = LogisticRegression(max_iter=1000)\n",
    "        elif model == 'random_forest':\n",
    "            base_classifier = RandomForestClassifier(n_estimators=100, random_state=42)\n",
    "        elif model == 'svm':\n",
    "            base_classifier = SVC(probability=True, kernel='linear')\n",
    "        else:\n",
    "            raise ValueError(\"Model not supported. Choose from 'logistic_regression', 'random_forest', 'svm'.\")\n",
    "\n",
    "        self.classifier = MultiOutputClassifier(base_classifier)\n",
    "\n",
    "    def preprocess_data(self, df):\n",
    "        # Drop rows with NaN in text column\n",
    "        df = df.dropna(subset=['text'])\n",
    "\n",
    "        # Fill NaN in categorical columns with 'None'\n",
    "        columns = ['food', 'service', 'atmosphere']\n",
    "        for col in columns:\n",
    "            if col not in df.columns:\n",
    "                df[col] = 'None'\n",
    "            df.loc[:, col] = df[col].fillna('None')\n",
    "\n",
    "        return df\n",
    "\n",
    "    def train(self, df):\n",
    "        # Preprocess data\n",
    "        df = self.preprocess_data(df)\n",
    "\n",
    "        # Vectorize text\n",
    "        X = self.tfidf_vectorizer.fit_transform(df['text'].astype(str))\n",
    "\n",
    "        # Encode labels dynamically\n",
    "        y_dict = {}\n",
    "        for col in ['food', 'service', 'atmosphere']:\n",
    "            unique_labels = df[col].unique()\n",
    "            self.label_encoders[col].fit(unique_labels)\n",
    "            y_dict[col] = self.label_encoders[col].transform(df[col])\n",
    "\n",
    "        y = pd.DataFrame(y_dict)\n",
    "\n",
    "        # Split data\n",
    "        X_train, X_test, y_train, y_test = train_test_split(\n",
    "            X, y, test_size=0.2, random_state=42\n",
    "        )\n",
    "\n",
    "        # Train classifier\n",
    "        self.classifier.fit(X_train, y_train)\n",
    "\n",
    "        # Predict\n",
    "        y_pred = self.classifier.predict(X_test)\n",
    "\n",
    "        # Evaluate\n",
    "        print(\"\\nModel Performance Metrics:\")\n",
    "        for i, col in enumerate(['food', 'service', 'atmosphere']):\n",
    "            print(f\"\\n{col.capitalize()} Classification:\")\n",
    "            classes = self.label_encoders[col].classes_\n",
    "\n",
    "            accuracy = accuracy_score(y_test.iloc[:, i], y_pred[:, i])\n",
    "            print(f\"Accuracy: {accuracy:.2%}\")\n",
    "\n",
    "            print(classification_report(\n",
    "                y_test.iloc[:, i],\n",
    "                y_pred[:, i],\n",
    "                labels=range(len(classes)),\n",
    "                target_names=classes\n",
    "            ))\n",
    "\n",
    "    def predict(self, texts):\n",
    "        # Convert texts to strings and handle potential NaN\n",
    "        texts = [str(text) if pd.notna(text) else '' for text in texts]\n",
    "\n",
    "        # Vectorize input\n",
    "        X = self.tfidf_vectorizer.transform(texts)\n",
    "\n",
    "        # Predict\n",
    "        predictions = self.classifier.predict(X)\n",
    "\n",
    "        # Decode predictions\n",
    "        results = []\n",
    "        for pred in predictions:\n",
    "            result = {\n",
    "                col: self.label_encoders[col].inverse_transform([p])[0]\n",
    "                for col, p in zip(['food', 'service', 'atmosphere'], pred)\n",
    "            }\n",
    "            results.append(result)\n",
    "\n",
    "        return results\n"
   ],
   "metadata": {
    "collapsed": false,
    "ExecuteTime": {
     "end_time": "2024-12-19T16:39:21.128090Z",
     "start_time": "2024-12-19T16:39:21.049728Z"
    }
   }
  },
  {
   "cell_type": "code",
   "execution_count": 27,
   "outputs": [],
   "source": [
    "# Logistic Regression\n",
    "classifier_lr = RestaurantReviewClassifier(model='logistic_regression')\n",
    "\n",
    "# Random Forest\n",
    "classifier_rf = RestaurantReviewClassifier(model='random_forest')\n",
    "\n",
    "# Support Vector Machine\n",
    "classifier_svm = RestaurantReviewClassifier(model='svm')\n"
   ],
   "metadata": {
    "collapsed": false,
    "ExecuteTime": {
     "end_time": "2024-12-19T16:39:21.128692Z",
     "start_time": "2024-12-19T16:39:21.063936Z"
    }
   }
  },
  {
   "cell_type": "markdown",
   "source": [
    "### Preapare dataset with random sampled ganerated comments"
   ],
   "metadata": {
    "collapsed": false,
    "pycharm": {
     "name": "#%% md\n"
    }
   }
  },
  {
   "cell_type": "code",
   "execution_count": 28,
   "outputs": [
    {
     "name": "stdout",
     "output_type": "stream",
     "text": [
      "832\n",
      "832\n"
     ]
    },
    {
     "name": "stderr",
     "output_type": "stream",
     "text": [
      "C:\\Users\\Sebastian\\AppData\\Local\\Programs\\Python\\Python39\\lib\\site-packages\\pandas\\core\\tools\\datetimes.py:558: RuntimeWarning: invalid value encountered in cast\n",
      "  arr, tz_parsed = tslib.array_with_unit_to_datetime(arg, unit, errors=errors)\n"
     ]
    }
   ],
   "source": [
    "clean_df = pd.read_csv(\"../raw_data/clean_data.csv\")\n",
    "clean_df['time'] = pd.to_datetime(clean_df['time'], unit='s')\n",
    "\n",
    "generated_df = pd.read_csv(\"../raw_data/generated_data.csv\")\n",
    "generated_df['time'] = pd.to_datetime(generated_df['time'], unit='s')\n",
    "\n",
    "\n",
    "def limit_data_to_positive(df):\n",
    "    if 'to_be_removed' in df.columns:\n",
    "        df = df[df['to_be_removed'].isna()]\n",
    "\n",
    "    df_low_score = df[df['rating'] < 5]\n",
    "\n",
    "    # Sample 500 reviews with a score of 5\n",
    "    df_score_5_sample = df[df['rating'] == 5].sample(n=832, random_state=42)\n",
    "\n",
    "    print(len(df_low_score))\n",
    "    print(len(df_score_5_sample))\n",
    "    df_filtered = pd.concat([df_low_score, df_score_5_sample])\n",
    "    df_filtered.reset_index(drop=True, inplace=True)\n",
    "    df = df_filtered\n",
    "    df['time'] = pd.to_datetime(df['time'], unit='s')\n",
    "    missing_data = df.isnull().sum()\n",
    "    return df\n",
    "\n",
    "clean_df = limit_data_to_positive(clean_df)\n",
    "clean_df.to_csv('../raw_data/random_clean_data.csv', index=False)\n",
    "\n",
    "\n",
    "def count_sentiments(df):\n",
    "    results = []\n",
    "    for column in ['food', 'service', 'atmosphere']:\n",
    "        none_count = df[column].isna().sum()  # Liczba wartości None\n",
    "        negative_count = (df[column] == 'Negative').sum()  # Liczba \"Negative\"\n",
    "        positive_count = (df[column] == 'Positive').sum()  # Liczba \"Positive\"\n",
    "        results.append([none_count, negative_count, positive_count])\n",
    "    return results\n",
    "\n",
    "def Equality_coefiecent(counts_matrix):\n",
    "    total_sum = 0\n",
    "    for lst in counts_matrix:\n",
    "        max_diff = max(lst) - min(lst)\n",
    "        sum_elements = sum(lst)\n",
    "        total_sum += max_diff / sum_elements\n",
    "    return total_sum\n",
    "\n",
    "def reschape_df_choose_the_best(original_records, additional_records, iterations=20, max_percent_of_new_records = 25,\n",
    "                                base_length_on_original_df = True):\n",
    "\n",
    "    best_coef = float('inf')\n",
    "    best_df = None\n",
    "    if base_length_on_original_df:\n",
    "        max_new_records_numbers = int( len(original_records)/100 * max_percent_of_new_records)\n",
    "    else:\n",
    "        max_new_records_numbers = int( len(additional_records)/100 * max_percent_of_new_records)\n",
    "\n",
    "    for i in range(iterations):\n",
    "        random_sample = additional_records.sample(n=max_new_records_numbers)\n",
    "        df_combined = pd.concat([original_records, random_sample], axis=0)\n",
    "        counts_matrix = count_sentiments(df_combined)\n",
    "        coef = Equality_coefiecent(counts_matrix)\n",
    "        if best_df is None or coef < best_coef:\n",
    "            best_df = df_combined\n",
    "            best_coef = coef\n",
    "\n",
    "    return best_df\n",
    "\n",
    "# df = reschape_df_choose_the_best(clean_df,generated_df,1,100,False)\n",
    "df = reschape_df_choose_the_best(clean_df,generated_df)\n",
    "df.to_csv('../raw_data/random_choice_data.csv', index=False)\n",
    "\n",
    "\n"
   ],
   "metadata": {
    "collapsed": false,
    "pycharm": {
     "name": "#%%\n"
    }
   }
  },
  {
   "cell_type": "markdown",
   "source": [
    "### Load Data"
   ],
   "metadata": {
    "collapsed": false
   }
  },
  {
   "cell_type": "code",
   "execution_count": 29,
   "outputs": [],
   "source": [
    "df = pd.read_csv('../raw_data/random_choice_data.csv')  # Load your dataset\n"
   ],
   "metadata": {
    "collapsed": false,
    "ExecuteTime": {
     "end_time": "2024-12-19T16:43:29.086087Z",
     "start_time": "2024-12-19T16:43:29.071527Z"
    }
   }
  },
  {
   "cell_type": "markdown",
   "source": [
    "### Train using Logistic Regression"
   ],
   "metadata": {
    "collapsed": false
   }
  },
  {
   "cell_type": "code",
   "execution_count": 30,
   "outputs": [
    {
     "name": "stderr",
     "output_type": "stream",
     "text": [
      "C:\\Users\\SEBAST~1\\AppData\\Local\\Temp/ipykernel_6620/1378635224.py:35: SettingWithCopyWarning: \n",
      "A value is trying to be set on a copy of a slice from a DataFrame.\n",
      "Try using .loc[row_indexer,col_indexer] = value instead\n",
      "\n",
      "See the caveats in the documentation: https://pandas.pydata.org/pandas-docs/stable/user_guide/indexing.html#returning-a-view-versus-a-copy\n",
      "  df.loc[:, col] = df[col].fillna('None')\n"
     ]
    },
    {
     "name": "stdout",
     "output_type": "stream",
     "text": [
      "\n",
      "Model Performance Metrics:\n",
      "\n",
      "Food Classification:\n",
      "Accuracy: 80.05%\n",
      "              precision    recall  f1-score   support\n",
      "\n",
      "    Negative       0.71      0.57      0.63        98\n",
      "        None       0.80      0.49      0.61        67\n",
      "    Positive       0.82      0.97      0.89       251\n",
      "\n",
      "    accuracy                           0.80       416\n",
      "   macro avg       0.78      0.68      0.71       416\n",
      "weighted avg       0.79      0.80      0.79       416\n",
      "\n",
      "\n",
      "Service Classification:\n",
      "Accuracy: 74.52%\n",
      "              precision    recall  f1-score   support\n",
      "\n",
      "    Negative       0.82      0.60      0.69        90\n",
      "        None       0.72      0.77      0.74       158\n",
      "    Positive       0.74      0.80      0.77       168\n",
      "\n",
      "    accuracy                           0.75       416\n",
      "   macro avg       0.76      0.72      0.74       416\n",
      "weighted avg       0.75      0.75      0.74       416\n",
      "\n",
      "\n",
      "Atmosphere Classification:\n",
      "Accuracy: 75.00%\n",
      "              precision    recall  f1-score   support\n",
      "\n",
      "    Negative       0.89      0.67      0.76        70\n",
      "        None       0.71      0.90      0.80       195\n",
      "    Positive       0.76      0.60      0.67       151\n",
      "\n",
      "    accuracy                           0.75       416\n",
      "   macro avg       0.79      0.72      0.74       416\n",
      "weighted avg       0.76      0.75      0.74       416\n",
      "\n"
     ]
    }
   ],
   "source": [
    "# Train using Logistic Regression\n",
    "classifier_lr.train(df)"
   ],
   "metadata": {
    "collapsed": false,
    "ExecuteTime": {
     "end_time": "2024-12-19T16:43:31.290906Z",
     "start_time": "2024-12-19T16:43:31.165850Z"
    }
   }
  },
  {
   "cell_type": "markdown",
   "source": [
    "### Train using Random Forest"
   ],
   "metadata": {
    "collapsed": false
   }
  },
  {
   "cell_type": "code",
   "execution_count": 31,
   "outputs": [
    {
     "name": "stderr",
     "output_type": "stream",
     "text": [
      "C:\\Users\\SEBAST~1\\AppData\\Local\\Temp/ipykernel_6620/1378635224.py:35: SettingWithCopyWarning: \n",
      "A value is trying to be set on a copy of a slice from a DataFrame.\n",
      "Try using .loc[row_indexer,col_indexer] = value instead\n",
      "\n",
      "See the caveats in the documentation: https://pandas.pydata.org/pandas-docs/stable/user_guide/indexing.html#returning-a-view-versus-a-copy\n",
      "  df.loc[:, col] = df[col].fillna('None')\n"
     ]
    },
    {
     "name": "stdout",
     "output_type": "stream",
     "text": [
      "\n",
      "Model Performance Metrics:\n",
      "\n",
      "Food Classification:\n",
      "Accuracy: 79.09%\n",
      "              precision    recall  f1-score   support\n",
      "\n",
      "    Negative       0.82      0.42      0.55        98\n",
      "        None       0.77      0.64      0.70        67\n",
      "    Positive       0.79      0.98      0.87       251\n",
      "\n",
      "    accuracy                           0.79       416\n",
      "   macro avg       0.79      0.68      0.71       416\n",
      "weighted avg       0.79      0.79      0.77       416\n",
      "\n",
      "\n",
      "Service Classification:\n",
      "Accuracy: 75.24%\n",
      "              precision    recall  f1-score   support\n",
      "\n",
      "    Negative       0.90      0.52      0.66        90\n",
      "        None       0.72      0.83      0.77       158\n",
      "    Positive       0.74      0.80      0.77       168\n",
      "\n",
      "    accuracy                           0.75       416\n",
      "   macro avg       0.79      0.72      0.73       416\n",
      "weighted avg       0.77      0.75      0.75       416\n",
      "\n",
      "\n",
      "Atmosphere Classification:\n",
      "Accuracy: 75.24%\n",
      "              precision    recall  f1-score   support\n",
      "\n",
      "    Negative       0.86      0.70      0.77        70\n",
      "        None       0.71      0.92      0.80       195\n",
      "    Positive       0.79      0.56      0.65       151\n",
      "\n",
      "    accuracy                           0.75       416\n",
      "   macro avg       0.79      0.73      0.74       416\n",
      "weighted avg       0.77      0.75      0.74       416\n",
      "\n"
     ]
    }
   ],
   "source": [
    "classifier_rf.train(df)"
   ],
   "metadata": {
    "collapsed": false,
    "ExecuteTime": {
     "end_time": "2024-12-19T16:44:00.416588Z",
     "start_time": "2024-12-19T16:43:58.967399Z"
    }
   }
  },
  {
   "cell_type": "markdown",
   "source": [
    "### Train using SVM"
   ],
   "metadata": {
    "collapsed": false
   }
  },
  {
   "cell_type": "code",
   "execution_count": 32,
   "outputs": [
    {
     "name": "stderr",
     "output_type": "stream",
     "text": [
      "C:\\Users\\SEBAST~1\\AppData\\Local\\Temp/ipykernel_6620/1378635224.py:35: SettingWithCopyWarning: \n",
      "A value is trying to be set on a copy of a slice from a DataFrame.\n",
      "Try using .loc[row_indexer,col_indexer] = value instead\n",
      "\n",
      "See the caveats in the documentation: https://pandas.pydata.org/pandas-docs/stable/user_guide/indexing.html#returning-a-view-versus-a-copy\n",
      "  df.loc[:, col] = df[col].fillna('None')\n"
     ]
    },
    {
     "name": "stdout",
     "output_type": "stream",
     "text": [
      "\n",
      "Model Performance Metrics:\n",
      "\n",
      "Food Classification:\n",
      "Accuracy: 79.09%\n",
      "              precision    recall  f1-score   support\n",
      "\n",
      "    Negative       0.65      0.63      0.64        98\n",
      "        None       0.76      0.51      0.61        67\n",
      "    Positive       0.85      0.93      0.89       251\n",
      "\n",
      "    accuracy                           0.79       416\n",
      "   macro avg       0.75      0.69      0.71       416\n",
      "weighted avg       0.79      0.79      0.78       416\n",
      "\n",
      "\n",
      "Service Classification:\n",
      "Accuracy: 75.24%\n",
      "              precision    recall  f1-score   support\n",
      "\n",
      "    Negative       0.74      0.69      0.71        90\n",
      "        None       0.73      0.77      0.75       158\n",
      "    Positive       0.78      0.77      0.77       168\n",
      "\n",
      "    accuracy                           0.75       416\n",
      "   macro avg       0.75      0.74      0.75       416\n",
      "weighted avg       0.75      0.75      0.75       416\n",
      "\n",
      "\n",
      "Atmosphere Classification:\n",
      "Accuracy: 78.12%\n",
      "              precision    recall  f1-score   support\n",
      "\n",
      "    Negative       0.89      0.71      0.79        70\n",
      "        None       0.75      0.89      0.81       195\n",
      "    Positive       0.78      0.68      0.73       151\n",
      "\n",
      "    accuracy                           0.78       416\n",
      "   macro avg       0.81      0.76      0.78       416\n",
      "weighted avg       0.79      0.78      0.78       416\n",
      "\n"
     ]
    }
   ],
   "source": [
    "classifier_svm.train(df)\n",
    "\n",
    "\n"
   ],
   "metadata": {
    "collapsed": false
   }
  },
  {
   "cell_type": "markdown",
   "source": [
    "### Predict using Logistic Regression\n",
    "\n"
   ],
   "metadata": {
    "collapsed": false
   }
  },
  {
   "cell_type": "code",
   "execution_count": 33,
   "outputs": [
    {
     "name": "stdout",
     "output_type": "stream",
     "text": [
      "Żenada ulotki zostawione w pensjonacie ale można sobie do nich dzwonić. Po kilkunastu wykonanych połączeniach i braku odzewu, udaliśmy się tam osobiście bo mieliśmy 750m. Po dotarciu na miejsce dodam że to była niedziela lokal Restro &…\n",
      "Logistic Regression Predictions: {'food': 'None', 'service': 'None', 'atmosphere': 'None'}\n",
      "\n",
      "\n",
      "Jedzenie okropne kebab się rozlatuje. Zamawiasz kebaba i dostajesz i tak tego z menu wszystko wygląda okropnie. Obsługa niemiła i wredna. Czas oczekiwania również długi.\n",
      "Logistic Regression Predictions: {'food': 'Negative', 'service': 'Negative', 'atmosphere': 'None'}\n",
      "\n",
      "\n",
      "Dostałem kebab, który został zamówiony na wskazany adres.  Kebab to jedna wielka porażka tłuszczowa.  Nie polecam nikomu, pizza przykleiła się do tektury z opakowania.\n",
      "Logistic Regression Predictions: {'food': 'Positive', 'service': 'None', 'atmosphere': 'None'}\n",
      "\n",
      "\n",
      "Jeśli jesteś miłośnikiem dobrych zartów, to ta pizzeria to jest właśnie to. Boczek przykleja się do pudełka niczym cygan do zasiłku. Szynka konserwowa złapana na promocji pięknie przyozdabia te wymiociny. Cena 50 złotych myślę, że lekko…\n",
      "Logistic Regression Predictions: {'food': 'Positive', 'service': 'None', 'atmosphere': 'None'}\n",
      "\n",
      "\n",
      "Nie rozumiem negatywnych opini. Poza sezonem pizza zrobiona od momentu zamówienia do podania w 10minut, czyli tyle ile trzeba. Ciasto lekkie, przyjemne składniki świeże. Jak dla mnie i mojej rodziny duży plus. Sałatka Cezar świeża, choć…\n",
      "Logistic Regression Predictions: {'food': 'Positive', 'service': 'None', 'atmosphere': 'None'}\n",
      "\n",
      "\n"
     ]
    }
   ],
   "source": [
    "# load test_data_reviews\n",
    "test_data = pd.read_csv('../test_data_reviews/2_4_review.csv')    \n",
    "\n",
    "# Predict using Logistic Regression\n",
    "predictions_lr = classifier_lr.predict(test_data['text'][0:5])\n",
    "#print review text and predicted ratings\n",
    "for i in range(5):\n",
    "    print(test_data['wiI7pd'][i])\n",
    "    print(\"Logistic Regression Predictions:\", predictions_lr[i])\n",
    "    print(\"\\n\")"
   ],
   "metadata": {
    "collapsed": false,
    "ExecuteTime": {
     "end_time": "2024-12-19T16:40:36.485765Z",
     "start_time": "2024-12-19T16:40:36.470282Z"
    }
   }
  },
  {
   "cell_type": "markdown",
   "source": [
    "### Predict using Random Forest"
   ],
   "metadata": {
    "collapsed": false
   }
  },
  {
   "cell_type": "code",
   "execution_count": 34,
   "outputs": [
    {
     "name": "stdout",
     "output_type": "stream",
     "text": [
      "Żenada ulotki zostawione w pensjonacie ale można sobie do nich dzwonić. Po kilkunastu wykonanych połączeniach i braku odzewu, udaliśmy się tam osobiście bo mieliśmy 750m. Po dotarciu na miejsce dodam że to była niedziela lokal Restro &…\n",
      "Random Forest Predictions: {'food': 'None', 'service': 'None', 'atmosphere': 'Positive'}\n",
      "\n",
      "\n",
      "Jedzenie okropne kebab się rozlatuje. Zamawiasz kebaba i dostajesz i tak tego z menu wszystko wygląda okropnie. Obsługa niemiła i wredna. Czas oczekiwania również długi.\n",
      "Random Forest Predictions: {'food': 'Positive', 'service': 'Negative', 'atmosphere': 'None'}\n",
      "\n",
      "\n",
      "Dostałem kebab, który został zamówiony na wskazany adres.  Kebab to jedna wielka porażka tłuszczowa.  Nie polecam nikomu, pizza przykleiła się do tektury z opakowania.\n",
      "Random Forest Predictions: {'food': 'Positive', 'service': 'None', 'atmosphere': 'None'}\n",
      "\n",
      "\n",
      "Jeśli jesteś miłośnikiem dobrych zartów, to ta pizzeria to jest właśnie to. Boczek przykleja się do pudełka niczym cygan do zasiłku. Szynka konserwowa złapana na promocji pięknie przyozdabia te wymiociny. Cena 50 złotych myślę, że lekko…\n",
      "Random Forest Predictions: {'food': 'Positive', 'service': 'None', 'atmosphere': 'None'}\n",
      "\n",
      "\n",
      "Nie rozumiem negatywnych opini. Poza sezonem pizza zrobiona od momentu zamówienia do podania w 10minut, czyli tyle ile trzeba. Ciasto lekkie, przyjemne składniki świeże. Jak dla mnie i mojej rodziny duży plus. Sałatka Cezar świeża, choć…\n",
      "Random Forest Predictions: {'food': 'Positive', 'service': 'Negative', 'atmosphere': 'None'}\n",
      "\n",
      "\n"
     ]
    }
   ],
   "source": [
    "# Predict using Random Forest\n",
    "predictions_rf = classifier_rf.predict(test_data['text'][0:5])\n",
    "#print review text and predicted ratings\n",
    "for i in range(5):\n",
    "    print(test_data['wiI7pd'][i])\n",
    "    print(\"Random Forest Predictions:\", predictions_rf[i])\n",
    "    print(\"\\n\")"
   ],
   "metadata": {
    "collapsed": false,
    "ExecuteTime": {
     "end_time": "2024-12-19T16:40:37.204252Z",
     "start_time": "2024-12-19T16:40:37.189932Z"
    }
   }
  },
  {
   "cell_type": "markdown",
   "source": [
    "### Predict using SVM"
   ],
   "metadata": {
    "collapsed": false
   }
  },
  {
   "cell_type": "code",
   "execution_count": 35,
   "outputs": [
    {
     "name": "stdout",
     "output_type": "stream",
     "text": [
      "Żenada ulotki zostawione w pensjonacie ale można sobie do nich dzwonić. Po kilkunastu wykonanych połączeniach i braku odzewu, udaliśmy się tam osobiście bo mieliśmy 750m. Po dotarciu na miejsce dodam że to była niedziela lokal Restro &…\n",
      "SVM Predictions: {'food': 'None', 'service': 'Negative', 'atmosphere': 'None'}\n",
      "\n",
      "\n",
      "Jedzenie okropne kebab się rozlatuje. Zamawiasz kebaba i dostajesz i tak tego z menu wszystko wygląda okropnie. Obsługa niemiła i wredna. Czas oczekiwania również długi.\n",
      "SVM Predictions: {'food': 'Negative', 'service': 'Negative', 'atmosphere': 'None'}\n",
      "\n",
      "\n",
      "Dostałem kebab, który został zamówiony na wskazany adres.  Kebab to jedna wielka porażka tłuszczowa.  Nie polecam nikomu, pizza przykleiła się do tektury z opakowania.\n",
      "SVM Predictions: {'food': 'Positive', 'service': 'None', 'atmosphere': 'None'}\n",
      "\n",
      "\n",
      "Jeśli jesteś miłośnikiem dobrych zartów, to ta pizzeria to jest właśnie to. Boczek przykleja się do pudełka niczym cygan do zasiłku. Szynka konserwowa złapana na promocji pięknie przyozdabia te wymiociny. Cena 50 złotych myślę, że lekko…\n",
      "SVM Predictions: {'food': 'Positive', 'service': 'None', 'atmosphere': 'None'}\n",
      "\n",
      "\n",
      "Nie rozumiem negatywnych opini. Poza sezonem pizza zrobiona od momentu zamówienia do podania w 10minut, czyli tyle ile trzeba. Ciasto lekkie, przyjemne składniki świeże. Jak dla mnie i mojej rodziny duży plus. Sałatka Cezar świeża, choć…\n",
      "SVM Predictions: {'food': 'Positive', 'service': 'None', 'atmosphere': 'None'}\n",
      "\n",
      "\n"
     ]
    }
   ],
   "source": [
    "# Predict using SVM\n",
    "predictions_svm = classifier_svm.predict(test_data['text'][0:5])\n",
    "#print review text and predicted ratings\n",
    "for i in range(5):\n",
    "    print(test_data['wiI7pd'][i])\n",
    "    print(\"SVM Predictions:\", predictions_svm[i])\n",
    "    print(\"\\n\")"
   ],
   "metadata": {
    "collapsed": false,
    "ExecuteTime": {
     "end_time": "2024-12-19T16:40:37.580008Z",
     "start_time": "2024-12-19T16:40:37.562949Z"
    },
    "pycharm": {
     "name": "#%%\n"
    }
   }
  },
  {
   "cell_type": "markdown",
   "source": [
    "### Confiusion matrix"
   ],
   "metadata": {
    "collapsed": false
   }
  },
  {
   "cell_type": "code",
   "execution_count": 36,
   "outputs": [
    {
     "data": {
      "text/plain": "<Figure size 1296x432 with 6 Axes>",
      "image/png": "[encoded data removed]"
     },
     "metadata": {
      "needs_background": "light"
     },
     "output_type": "display_data"
    },
    {
     "data": {
      "text/plain": "<Figure size 1296x432 with 6 Axes>",
      "image/png": "[encoded data removed]"
     },
     "metadata": {
      "needs_background": "light"
     },
     "output_type": "display_data"
    },
    {
     "data": {
      "text/plain": "<Figure size 1296x432 with 6 Axes>",
      "image/png": "[encoded data removed]"
     },
     "metadata": {
      "needs_background": "light"
     },
     "output_type": "display_data"
    }
   ],
   "source": [
    "def show_confusion_matrices(matrices, classifier_name, labels=None, categories_names = [\"food\",\"service\",\"atmosphere\"]):\n",
    "    num_matrices = len(matrices)\n",
    "    fig, axes = plt.subplots(1, num_matrices, figsize=(6 * num_matrices, 6))\n",
    "\n",
    "    for i, matrix in enumerate(matrices):\n",
    "        ax = axes[i] if num_matrices > 1 else axes\n",
    "        num_classes = matrix.shape[0]\n",
    "\n",
    "        if labels is None:\n",
    "            labels = [str(j) for j in range(num_classes)]\n",
    "\n",
    "        sns.heatmap(matrix,\n",
    "                    cmap='coolwarm',\n",
    "                    linecolor='white',\n",
    "                    linewidths=1,\n",
    "                    xticklabels=labels[0:num_classes],\n",
    "                    yticklabels=labels[0:num_classes],\n",
    "                    annot=True,\n",
    "                    fmt='d',\n",
    "                    ax=ax)\n",
    "\n",
    "        ax.set_title(f'Confusion Matrix {categories_names[i]}')\n",
    "        ax.set_ylabel('True Label')\n",
    "        ax.set_xlabel('Predicted Label')\n",
    "        ax.yaxis.set_tick_params(rotation=0)\n",
    "    fig.suptitle(f\"{classifier_name}\", fontsize=16)\n",
    "    plt.tight_layout()\n",
    "    plt.show()\n",
    "\n",
    "\n",
    "def compute_and_show_confusion_matrix(validations, predictions, classifier_name):\n",
    "    matrices = [metrics.confusion_matrix(validations[i], predictions[i]) for i in range(len(validations))]\n",
    "    show_confusion_matrices(matrices,classifier_name, labels = [\"Negative\",\"None\",\"Positive\"])\n",
    "\n",
    "\n",
    "food_validation =  df['food'].fillna('None').tolist()\n",
    "service_validation = df['service'].fillna('None').tolist()\n",
    "atmosphere_validation = df['atmosphere'].fillna('None').tolist()\n",
    "\n",
    "\n",
    "def create_predicions_to_list(classifier):\n",
    "    predictions = classifier.predict(df['text'])\n",
    "    preditions_food = [pred[\"food\"] for pred in predictions]\n",
    "    preditions_service = [pred[\"service\"] for pred in predictions]\n",
    "    preditions_atmosphere = [pred[\"atmosphere\"] for pred in predictions]\n",
    "    return preditions_food, preditions_service, preditions_atmosphere\n",
    "\n",
    "labels_to_classificators = [\"Linear regresion\", \"Random Forest\", \"SVM\"]\n",
    "classi_list = [classifier_lr,classifier_rf,classifier_svm]\n",
    "for i in range(3):\n",
    "    pred= create_predicions_to_list(classi_list[i])\n",
    "    validation = [food_validation,service_validation,atmosphere_validation]\n",
    "    compute_and_show_confusion_matrix(validation,pred,  labels_to_classificators[i])\n",
    "\n",
    "\n"
   ],
   "metadata": {
    "collapsed": false,
    "pycharm": {
     "name": "#%%\n"
    }
   }
  },
  {
   "cell_type": "markdown",
   "source": [
    "### Rating Function"
   ],
   "metadata": {
    "collapsed": false
   }
  },
  {
   "cell_type": "code",
   "execution_count": 37,
   "outputs": [
    {
     "name": "stdout",
     "output_type": "stream",
     "text": [
      "0 -1.472825143254037 -0.051913409254129475\n",
      "{'food': {'None': 0.63, 'Positive': 56.33, 'Negative': 43.04}, 'service': {'None': 57.59, 'Positive': 15.19, 'Negative': 27.22}, 'atmosphere': {'None': 97.47, 'Positive': 2.53, 'Negative': 0.0}}\n",
      "0 -1.0385900941962931 -0.06526228831061544\n",
      "{'food': {'None': 8.23, 'Positive': 74.68, 'Negative': 17.09}, 'service': {'None': 65.82, 'Positive': 16.46, 'Negative': 17.72}, 'atmosphere': {'None': 96.84, 'Positive': 2.53, 'Negative': 0.63}}\n",
      "0 -1.5906642728904845 -0.06526228831061545\n",
      "{'food': {'None': 3.8, 'Positive': 43.67, 'Negative': 52.53}, 'service': {'None': 55.7, 'Positive': 15.19, 'Negative': 29.11}, 'atmosphere': {'None': 96.84, 'Positive': 3.16, 'Negative': 0.0}}\n",
      "0 0 -0.4218939210462581\n",
      "{'food': {'None': 2.58, 'Positive': 64.84, 'Negative': 32.58}, 'service': {'None': 44.84, 'Positive': 29.03, 'Negative': 26.13}, 'atmosphere': {'None': 82.58, 'Positive': 16.45, 'Negative': 0.97}}\n",
      "0 0 -0.3485204321277595\n",
      "{'food': {'None': 7.1, 'Positive': 75.16, 'Negative': 17.74}, 'service': {'None': 49.68, 'Positive': 33.23, 'Negative': 17.1}, 'atmosphere': {'None': 85.16, 'Positive': 13.55, 'Negative': 1.29}}\n",
      "0 0 -0.5726781579624389\n",
      "{'food': {'None': 7.1, 'Positive': 51.61, 'Negative': 41.29}, 'service': {'None': 40.32, 'Positive': 25.16, 'Negative': 34.52}, 'atmosphere': {'None': 77.74, 'Positive': 20.0, 'Negative': 2.26}}\n",
      "0 0 -0.592016588906169\n",
      "{'food': {'None': 1.23, 'Positive': 75.93, 'Negative': 22.84}, 'service': {'None': 44.44, 'Positive': 38.27, 'Negative': 17.28}, 'atmosphere': {'None': 77.16, 'Positive': 22.84, 'Negative': 0.0}}\n",
      "0 -1.7671877943115462 -0.3823704586063133\n",
      "{'food': {'None': 12.96, 'Positive': 76.54, 'Negative': 10.49}, 'service': {'None': 53.09, 'Positive': 35.8, 'Negative': 11.11}, 'atmosphere': {'None': 83.95, 'Positive': 15.43, 'Negative': 0.62}}\n",
      "0 0 -0.7457440966501921\n",
      "{'food': {'None': 6.79, 'Positive': 64.2, 'Negative': 29.01}, 'service': {'None': 41.98, 'Positive': 35.8, 'Negative': 22.22}, 'atmosphere': {'None': 72.84, 'Positive': 24.07, 'Negative': 3.09}}\n",
      "0 0 -1.6630036630036629\n",
      "{'food': {'None': 0.56, 'Positive': 95.82, 'Negative': 3.62}, 'service': {'None': 28.97, 'Positive': 67.41, 'Negative': 3.62}, 'atmosphere': {'None': 54.6, 'Positive': 45.4, 'Negative': 0.0}}\n",
      "0 0 -0.9069767441860466\n",
      "{'food': {'None': 1.95, 'Positive': 96.66, 'Negative': 1.39}, 'service': {'None': 37.05, 'Positive': 61.0, 'Negative': 1.95}, 'atmosphere': {'None': 68.8, 'Positive': 31.2, 'Negative': 0.0}}\n",
      "0 0 -1.7990503323836657\n",
      "{'food': {'None': 1.39, 'Positive': 93.31, 'Negative': 5.29}, 'service': {'None': 31.75, 'Positive': 63.51, 'Negative': 4.74}, 'atmosphere': {'None': 52.65, 'Positive': 46.8, 'Negative': 0.56}}\n",
      "              File           Classifier  Food_Rating  Service_Rating  \\\n",
      "0   2_4_review.csv  Logistic Regression       3.2658         2.42012   \n",
      "1   2_4_review.csv        Random Forest       4.1518         2.70136   \n",
      "2   2_4_review.csv                  SVM       2.8228         2.36720   \n",
      "3   2_9_review.csv  Logistic Regression       3.6452         3.05800   \n",
      "4   2_9_review.csv        Random Forest       4.1484         3.32260   \n",
      "5   2_9_review.csv                  SVM       3.2064         2.81280   \n",
      "6   3_4_review.csv  Logistic Regression       4.0618         3.41980   \n",
      "7   3_4_review.csv        Random Forest       4.3210         3.11852   \n",
      "8   3_4_review.csv                  SVM       3.7038         3.27160   \n",
      "9   4_7_review.csv  Logistic Regression       4.8440         4.27580   \n",
      "10  4_7_review.csv        Random Forest       4.9054         4.18100   \n",
      "11  4_7_review.csv                  SVM       4.7604         4.17540   \n",
      "\n",
      "    Atmosphere_Rating  Averge_Rating  \n",
      "0             3.03036            2.9  \n",
      "1             3.01272            3.3  \n",
      "2             3.03792            2.7  \n",
      "3             3.17024            3.3  \n",
      "4             3.12648            3.5  \n",
      "5             3.17672            3.1  \n",
      "6             3.27408            3.6  \n",
      "7             3.16780            3.5  \n",
      "8             3.20232            3.4  \n",
      "9             3.54480            4.2  \n",
      "10            3.37440            4.2  \n",
      "11            3.54592            4.2  \n"
     ]
    }
   ],
   "source": [
    "def adjusted_weight(none, positive, negative):\n",
    "    total = positive + negative\n",
    "    if none > total:\n",
    "        factor = (total / none) *(-2)  if none > -2 else -2\n",
    "        return factor\n",
    "    return 0\n",
    "\n",
    "def Final_Rating(reviews_path,classifier):\n",
    "    test_data = pd.read_csv(reviews_path)\n",
    "\n",
    "    predictions = classifier.predict(test_data['text'])\n",
    "\n",
    "    total_amount_of_predicions = len(predictions)\n",
    "    Ratings = \\\n",
    "        {\n",
    "            \"food\":{\n",
    "                'None':0 ,'Positive':0,'Negative':0\n",
    "            },\n",
    "            \"service\":{\n",
    "                'None':0 ,'Positive':0,'Negative':0\n",
    "            },\n",
    "            \"atmosphere\":{\n",
    "                'None':0 ,'Positive':0,'Negative':0\n",
    "            }\n",
    "        }\n",
    "    # print(Ratings)\n",
    "\n",
    "    for i in predictions:\n",
    "        for aspect in [\"food\",\"service\",\"atmosphere\"]:\n",
    "            Ratings[aspect][i[aspect]] += 1\n",
    "\n",
    "    for aspect in Ratings:\n",
    "        for rate in Ratings[aspect]:\n",
    "            Ratings[aspect][rate] =  round(Ratings[aspect][rate]/total_amount_of_predicions*100,2)\n",
    "\n",
    "    food_weight = adjusted_weight(Ratings[\"food\"]['None'], Ratings[\"food\"]['Positive'], Ratings[\"food\"]['Negative'])\n",
    "    service_weight = adjusted_weight(Ratings[\"service\"]['None'], Ratings[\"service\"]['Positive'], Ratings[\"service\"]['Negative'])\n",
    "    atmosphere_weight = adjusted_weight(Ratings[\"atmosphere\"]['None'], Ratings[\"atmosphere\"]['Positive'], Ratings[\"atmosphere\"]['Negative'])\n",
    "\n",
    "    # weight_sum = food_weight + service_weight + atmosphere_weight\n",
    "    # food_weight /= weight_sum\n",
    "    # service_weight /= weight_sum\n",
    "    # atmosphere_weight /= weight_sum\n",
    "\n",
    "    print(food_weight,service_weight, atmosphere_weight)\n",
    "\n",
    "    wages = {'None':0 ,'Positive':5 ,'Negative':-5}\n",
    "\n",
    "    print(Ratings)\n",
    "\n",
    "    a = 4 / (wages['Positive'] - wages['Negative'])\n",
    "\n",
    "    b = 5 - a * wages['Positive']\n",
    "\n",
    "    food_final_score = (Ratings[\"food\"]['None'] * food_weight +\n",
    "                        Ratings[\"food\"]['Positive'] * wages['Positive'] +\n",
    "                        Ratings[\"food\"]['Negative']  * wages['Negative'])/100 *a +b\n",
    "    service_final_score = (Ratings[\"service\"]['None'] *service_weight +\n",
    "                           Ratings[\"service\"]['Positive'] * wages['Positive']\n",
    "                           + Ratings[\"service\"]['Negative'] * wages['Negative'])/100 *a +b\n",
    "    atmosphere_final_score = (Ratings[\"atmosphere\"]['None'] * atmosphere_weight +\n",
    "                              Ratings[\"atmosphere\"]['Positive'] * wages['Positive']\n",
    "                              + Ratings[\"atmosphere\"]['Negative'] * wages['Negative'])/100 *a +b\n",
    "\n",
    "\n",
    "\n",
    "\n",
    "    return food_final_score,service_final_score,atmosphere_final_score,round((food_final_score+service_final_score+atmosphere_final_score)/3,1)\n",
    "\n",
    "\n",
    "files = ['../test_data_reviews/2_4_review.csv',\n",
    "         '../test_data_reviews/2_9_review.csv',\n",
    "         '../test_data_reviews/3_4_review.csv',\n",
    "         '../test_data_reviews/4_7_review.csv']\n",
    "\n",
    "classifiers = {'Logistic Regression': classifier_lr,\n",
    "               'Random Forest': classifier_rf,\n",
    "               'SVM': classifier_svm}\n",
    "results = []\n",
    "\n",
    "for file in files:\n",
    "    file_name = file.split('/')[-1]\n",
    "    for name, clf in classifiers.items():\n",
    "        rating = Final_Rating(file, clf)\n",
    "        results.append({'File': file_name, 'Classifier': name, 'Food_Rating': rating[0], 'Service_Rating': rating[1],\n",
    "                        'Atmosphere_Rating': rating[2], 'Averge_Rating': rating[3]})\n",
    "\n",
    "results_df = pd.DataFrame(results)\n",
    "\n",
    "print(results_df)"
   ],
   "metadata": {
    "collapsed": false,
    "pycharm": {
     "name": "#%%\n"
    }
   }
  }
 ],
 "metadata": {
  "kernelspec": {
   "display_name": "Python 3",
   "language": "python",
   "name": "python3"
  },
  "language_info": {
   "codemirror_mode": {
    "name": "ipython",
    "version": 3
   },
   "file_extension": ".py",
   "mimetype": "text/x-python",
   "name": "python",
   "nbconvert_exporter": "python",
   "pygments_lexer": "ipython3",
   "version": "3.8.5"
  }
 },
 "nbformat": 4,
 "nbformat_minor": 4
}